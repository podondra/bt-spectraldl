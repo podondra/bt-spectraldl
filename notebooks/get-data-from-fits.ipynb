{
 "cells": [
  {
   "cell_type": "markdown",
   "metadata": {
    "deletable": true,
    "editable": true
   },
   "source": [
    "# Raw Data\n",
    "\n",
    "Purpose of this notebook is to get the data to suitable\n",
    "data structure for preprocessing.\n",
    "\n",
    "The data were taken form antares server. Concretly,\n",
    "from the `/data/ccd700` directory."
   ]
  },
  {
   "cell_type": "markdown",
   "metadata": {
    "deletable": true,
    "editable": true
   },
   "source": [
    "## Astronomical Spectroscopy\n",
    "\n",
    "https://en.wikipedia.org/wiki/Astronomical_spectroscopy\n",
    "\n",
    "Spectroscopy studies properties of matter through its\n",
    "interaction with different frequency components of the\n",
    "electromagnetic spectrum. Astronomical spectroscopy\n",
    "measures the spectrum of electromagnetic radiation of\n",
    "hot celestial objects. This information is then used to\n",
    "derive for example chemical composition, temperature,\n",
    "distance or relative motion.\n",
    "\n",
    "Astronomical spectroscopy measure the three major bands of\n",
    "radiation:\n",
    "\n",
    "* visible spectrum\n",
    "* radio spectrum\n",
    "* X-ray spectrum\n",
    "\n",
    "Different methods are required to acquire the signal\n",
    "depending on the band. For example, molecular oxygen\n",
    "absorb light with walengths under 300 nm, so X-ray and\n",
    "ultraviolet spectroscopy require use of setellite\n",
    "telescope. Radio waves are measured by antennas or radio\n",
    "dishes. Visible spectrum is obtain with telescopes such as\n",
    "Ondřejov Perek 2m telescope."
   ]
  },
  {
   "cell_type": "markdown",
   "metadata": {
    "deletable": true,
    "editable": true
   },
   "source": [
    "## FITS file format\n",
    "\n",
    "https://fits.gsfc.nasa.gov/fits_primer.html\n",
    "\n",
    "Flexible Image Transport System is data format used within\n",
    "astronomy for transporting, analyzing, archiving scientific\n",
    "data files. It is design to store data sets consisting of\n",
    "multidimensiional arrays and two dimensional tables."
   ]
  },
  {
   "cell_type": "code",
   "execution_count": 1,
   "metadata": {
    "collapsed": true,
    "deletable": true,
    "editable": true
   },
   "outputs": [],
   "source": [
    "import os\n",
    "import glob\n",
    "import random\n",
    "import astropy.io.fits"
   ]
  },
  {
   "cell_type": "code",
   "execution_count": 2,
   "metadata": {
    "collapsed": false,
    "deletable": true,
    "editable": true
   },
   "outputs": [],
   "source": [
    "raw_fits_dir = os.path.join('ondrejov-ccd700', 'raw')\n",
    "# get path to all files in the dir\n",
    "raw_fits_filenames = glob.glob(os.path.join(\n",
    "    raw_fits_dir, '*.fit'\n",
    "))\n",
    "# pick random index\n",
    "random_idx = random.randrange(len(raw_fits_filenames))\n",
    "raw_fits_filename = raw_fits_filenames[random_idx]"
   ]
  },
  {
   "cell_type": "markdown",
   "metadata": {
    "deletable": true,
    "editable": true
   },
   "source": [
    "### HDUs\n",
    "\n",
    "A FITS file is comprised of segmets called Header/Data\n",
    "Units (HDUs). The first HDU is called the 'Primary HDU'.\n",
    "The primary data array can contain a 1-999 dimensional\n",
    "array of numbers. A typical primary array could contain\n",
    "a 1 dimensional **spectrum**, a 2 dimensional image,\n",
    "a 3 dimensional data cube.\n",
    "\n",
    "Any number of additional HDUs may follow the primary array.\n",
    "These HDUs are referred as 'extensions'. There are three\n",
    "types of standart extensions currently defined:\n",
    "\n",
    "1. Image Extension (`XTENSION = 'IMAGE'`)\n",
    "2. ASCII Table Extension (`XTENSION = 'TABLE'`)\n",
    "3. Binary Table Extension (`XTENSION = 'BINTABLE'`)"
   ]
  },
  {
   "cell_type": "code",
   "execution_count": 3,
   "metadata": {
    "collapsed": false,
    "deletable": true,
    "editable": true
   },
   "outputs": [
    {
     "name": "stdout",
     "output_type": "stream",
     "text": [
      "Filename: ondrejov-ccd700/raw/a201506030017.fit\n",
      "No.    Name         Type      Cards   Dimensions   Format\n",
      "0    PRIMARY     PrimaryHDU     107   (2047,)      float32   \n"
     ]
    }
   ],
   "source": [
    "# open file with astropy\n",
    "raw_hdulist = astropy.io.fits.open(raw_fits_filename)\n",
    "# display info about the HDUs\n",
    "raw_hdulist.info()"
   ]
  },
  {
   "cell_type": "markdown",
   "metadata": {
    "deletable": true,
    "editable": true
   },
   "source": [
    "### Header Units\n",
    "\n",
    "Every HDU consists of an ASCII formatted 'Header Unit' and\n",
    "'Data Unit'.\n",
    "\n",
    "Each header unit contains a sequence of fixed-length 80\n",
    "character long keyword record which have form:\n",
    "\n",
    "    KEYNAME = value / comment string\n",
    "\n",
    "Non-printing ASCII character such as tabs,\n",
    "carriage-returns, line-feeds are not allowed anywhere in\n",
    "the header unit."
   ]
  },
  {
   "cell_type": "code",
   "execution_count": 4,
   "metadata": {
    "collapsed": false,
    "deletable": true,
    "editable": true,
    "scrolled": true
   },
   "outputs": [
    {
     "data": {
      "text/plain": [
       "SIMPLE  =                    T / Fits standard                                  \n",
       "BITPIX  =                  -32 / Bits per pixel                                 \n",
       "NAXIS   =                    1 / Number of axes                                 \n",
       "NAXIS1  =                 2047 / Axis length                                    \n",
       "EXTEND  =                    T / File may contain extensions                    \n",
       "ORIGIN  = 'NOAO-IRAF FITS Image Kernel July 2003' / FITS file originator        \n",
       "DATE    = '2015-06-04T11:11:56' / Date FITS file was generated                  \n",
       "IRAF-TLM= '2015-06-04T11:11:56' / Time of last modification                     \n",
       "OBJECT  = 'HD 87737'           / Name of the object observed                    \n",
       "COMMENT   FITS (Flexible Image Transport System) format is defined in 'Astronomy\n",
       "COMMENT   and Astrophysics', volume 376, page 359; bibcode: 2001A&A...376..359H \n",
       "OBSERVAT= 'ONDREJOV'           / Name of observatory (IRAF style)               \n",
       "LATITUDE=             49.91056 / Telescope latitude  (degrees), +49:54:38.0     \n",
       "LONGITUD=             14.78361 / Telescope longitud  (degrees), +14:47:01.0     \n",
       "HEIGHT  =                  528 / Height above sea level [m].                    \n",
       "TELESCOP= 'ZEISS-2m'           / 2m Ondrejov observatory telescope              \n",
       "TELSYST = 'COUDE   '           / Telescope setup - COUDE or CASSegrain          \n",
       "INSTRUME= 'COUDE700'           / Coude echelle spectrograph                     \n",
       "DETECTOR= 'PyLoN 2048x512BX'   / Name of the detector                           \n",
       "CHIPID  = 'E2V 42-10 BX'       / Name of CCD chip                               \n",
       "BUNIT   = 'ADU     '           / Unit of the array of image data                \n",
       "PREFLASH=                    0 / Length of preflash in seconds                  \n",
       "CCDXSIZE=                 2048 / X Size in pixels of digitised frame            \n",
       "CCDYSIZE=                  512 / Y Size in pixels of digitised frame            \n",
       "CCDXPIXE=                 13.5 / Size in microns of the pixels, in X            \n",
       "CCDYPIXE=                 13.5 / Size in microns of the pixels, in Y            \n",
       "GRATNAME= '3       '           / Grating name - ID                              \n",
       "SLITTYPE= 'BLADE   '           / Type of slit - blade or image slicers          \n",
       "AUTOGUID= 'NO      '           / Status of autoguider system                    \n",
       "SLITWID =                  0.2 / Slit width in mm                               \n",
       "COLIMAT = 'open    '           / Collimator mask status                         \n",
       "TLE-TRCS= '0       '           / Correction Set                                 \n",
       "TLE-TRGV= '3.2 8.2 '           / Guiding Value                                  \n",
       "TLE-TRHD= '64.1649 16.7491'    / Hour and Declination Axis                      \n",
       "TLE-TRRD= '100719.947 +16454'  / Right ascension and Declination                \n",
       "TLE-TRUS= '0.0000 0.0000'      / User Speed                                     \n",
       "SGH-MCO = 'coude   '           / Mirror Coude Oes                               \n",
       "SGH-MSC = 'star    '           / Mirror Star Calibration                        \n",
       "SGH-CPA = 'in      '           / Correction plate 700                           \n",
       "SGH-CPB = 'out     '           / Correction plate 400                           \n",
       "TM-DIFF =                   -2 / T1433363847 - P1433363849                      \n",
       "IMAGETYP= 'object  '           / Type of observation, eg. FLAT                  \n",
       "OBSERVER= 'Maravelias, Fuchs'  / Observers                                      \n",
       "SYSVER  = 'PESO 839.'                                                           \n",
       "READSPD = '50kHz   '                                                            \n",
       "FILENAME= 'a201506030017.fit'                                                   \n",
       "CAMFOCUS=                5000. / Camera focus position                          \n",
       "SPECTEMP=                  21. / 17616                                          \n",
       "SPECFILT=                    1 / Spectral filter                                \n",
       "TM_START=                74248 / 20:37:28, 1433363848                           \n",
       "UT      = '20:37:28'           / UTC of  start of observation                   \n",
       "EPOCH   =                2000. / Same as EQUINOX - for back compat              \n",
       "EQUINOX =                2000. / Equinox of RA and DEC                          \n",
       "DATE-OBS= '2015-06-03'         / UTC date start of observation                  \n",
       "TM_END  =                74649 / 20:44:09, 1433364249                           \n",
       "EXPTIME =                  401 / Length of observation excluding pauses         \n",
       "DARKTIME=                  401 / Length of observation including pauses         \n",
       "CCDTEMP =                 -115 / Detector temperature                           \n",
       "EXPVAL  =             13.47435 / Exposure value in photon counts [Mcounts]      \n",
       "GRATANG =                30.25 / 30:15                                          \n",
       "GRATPOS =                 6457 / Grating angle in increments                    \n",
       "DICHMIR =                    2 / Dichroic mirror number                         \n",
       "FLATTYPE= 'PROJECT '           / Flat type (Projector/Dome)                     \n",
       "COMPLAMP= 'ThAr-BS/15mA'       / Comparison arc setup                           \n",
       "RA      = '10:07:19.947'       / 10.122208                                      \n",
       "DEC     = '+16:45:45.50'       / 16.762639                                      \n",
       "ST      = '14:24:30'           / Local sidereal time at start of observation    \n",
       "TELFOCUS=                19.11 / Telescope focus (milimeters)                   \n",
       "DOMEAZ  =               243.46 / Mean dome azimuth during observation           \n",
       "AIRPRESS=               960.16 / Atmospheric preasure in (hPa)                  \n",
       "AIRHUMEX=                72.08 / Air humidity outside the dome                  \n",
       "OUTTEMP =                19.33 / Temperature outside of the dome                \n",
       "DOMETEMP=                20.19 / Temperature inside the dome                    \n",
       "GAINM   = 'high    '           / Gain mode                                      \n",
       "CHECKSUM= 'EKaDGKVDEKaDEKUD'   / HDU checksum updated 2015-06-03T20:44:27       \n",
       "DATASUM = '57979974'           / data unit checksum updated 2015-06-03T20:44:27 \n",
       "WCSDIM  =                    1 /2                                               \n",
       "LTM1_1  =                   1.                                                  \n",
       "WAT0_001= 'system=equispec'                                                     \n",
       "WAT1_001= 'wtype=linear label=Wavelength units=angstroms'                       \n",
       "TRIM    = 'Jun  4 11:47 Trim data section is [2:2048,140:370]'                  \n",
       "ZEROCOR = 'Jun  4 11:47 Zero level correction image is Zero'                    \n",
       "FLATCOR = 'Jun  4 11:47 Flat field image is Flat6457.fit with scale=12610.57'   \n",
       "CCDSEC  = '[2:2048,140:370]'                                                    \n",
       "CCDPROC = 'Jun  4 11:47 CCD processing done'                                    \n",
       "JD      =     2457177.36167245                                                  \n",
       "LJD     =             2457177.                                                  \n",
       "AIRMASS =             2.074001                                                  \n",
       "UTMIDDLE= '20:40:48.5'                                                          \n",
       "BANDID1 = 'spectrum - background fit, weights variance, clean yes'              \n",
       "APNUM1  = '1 1 81.27 143.42'                                                    \n",
       "CTYPE1  = 'LINEAR  '                                                            \n",
       "CRVAL1  =     6262.44668427086                                                  \n",
       "CRPIX1  =                   1.                                                  \n",
       "CDELT1  =    0.230897071815804                                                  \n",
       "CD1_1   =    0.230897071815804                                                  \n",
       "DC-FLAG =                    0 /0                                               \n",
       "DCLOG1  = 'REFSPEC1 = a201506030017a201506030015.ms 0.28157383'                 \n",
       "DCLOG2  = 'REFSPEC2 = a201506030017a201506030018.ms 0.71842617'                 \n",
       "DISPCOR =                    0                                                  \n",
       "HJD     =     2457177.36017862                                                  \n",
       "VHELIO  =    -28.5903978876648                                                  \n",
       "VLSR    =    -33.7778052920676                                                  \n",
       "VSUN    = '   20.    18.    30.  1900.'                                         \n",
       "                                                                                \n",
       "                                                                                \n",
       "                                                                                "
      ]
     },
     "execution_count": 4,
     "metadata": {},
     "output_type": "execute_result"
    }
   ],
   "source": [
    "raw_header = raw_hdulist[0].header\n",
    "raw_header"
   ]
  },
  {
   "cell_type": "markdown",
   "metadata": {
    "deletable": true,
    "editable": true
   },
   "source": [
    "### Data Units\n",
    "\n",
    "Note that the data unit is not required. The image pixels\n",
    "in primary array or an image extension may have one of\n",
    "5 supported data types:\n",
    "\n",
    "* 8-bit (unsigned) integer bytes\n",
    "* 16-bit (signed) integer bytes\n",
    "* 32-bit (signed) integer bytes\n",
    "* 32-bit single precision floating point real numbers\n",
    "* 64-bit double precision floating point real numbers\n",
    "\n",
    "The othe 2 standard extensions, ASCII tables and binary\n",
    "tables, contain tabular information organized into rows\n",
    "and columns. Binary tables are more compact and are faster\n",
    "to read and write then ASCII tables.\n",
    "\n",
    "All the entries within a column of a tables have the same\n",
    "datatype. The allowed data formats for an ASCII table\n",
    "column are: integer, signe and double precision floating\n",
    "point value, character string. Binary table also support\n",
    "logical, bit and complex data formats."
   ]
  },
  {
   "cell_type": "code",
   "execution_count": 5,
   "metadata": {
    "collapsed": false,
    "deletable": true,
    "editable": true
   },
   "outputs": [
    {
     "data": {
      "text/plain": [
       "(2047,)"
      ]
     },
     "execution_count": 5,
     "metadata": {},
     "output_type": "execute_result"
    }
   ],
   "source": [
    "# show the data are one dimensional flux values\n",
    "# it is in primary unit and it has one dimension\n",
    "# so it is spectrum data\n",
    "raw_flux = raw_hdulist[0].data\n",
    "raw_flux.shape"
   ]
  },
  {
   "cell_type": "markdown",
   "metadata": {
    "deletable": true,
    "editable": true
   },
   "source": [
    "The data can be ploted but it is missing correct\n",
    "wavelength. To get wavelenght we use the `astropy.wcs`\n",
    "module."
   ]
  },
  {
   "cell_type": "code",
   "execution_count": 6,
   "metadata": {
    "collapsed": false,
    "deletable": true,
    "editable": true
   },
   "outputs": [],
   "source": [
    "import matplotlib.pyplot as plt\n",
    "%matplotlib inline"
   ]
  },
  {
   "cell_type": "code",
   "execution_count": 7,
   "metadata": {
    "collapsed": false,
    "deletable": true,
    "editable": true
   },
   "outputs": [
    {
     "data": {
      "text/plain": [
       "<matplotlib.text.Text at 0x7f896aa139e8>"
      ]
     },
     "execution_count": 7,
     "metadata": {},
     "output_type": "execute_result"
    },
    {
     "data": {
      "image/png": "[encoded data removed]",
      "text/plain": [
       "<matplotlib.figure.Figure at 0x7f896acc05c0>"
      ]
     },
     "metadata": {},
     "output_type": "display_data"
    }
   ],
   "source": [
    "plt.plot(raw_flux)\n",
    "plt.ylabel('flux')"
   ]
  },
  {
   "cell_type": "code",
   "execution_count": 8,
   "metadata": {
    "collapsed": true,
    "deletable": true,
    "editable": true
   },
   "outputs": [],
   "source": [
    "import astropy.wcs"
   ]
  },
  {
   "cell_type": "code",
   "execution_count": 9,
   "metadata": {
    "collapsed": false,
    "deletable": true,
    "editable": true,
    "scrolled": true
   },
   "outputs": [],
   "source": [
    "# create the WCS object from a header\n",
    "raw_wcs = astropy.wcs.WCS(raw_hdulist[0].header)\n",
    "# get the wavelength\n",
    "# raw_header['NAXIS1'] is the number of flux points\n",
    "raw_wavelen = raw_wcs.wcs_pix2world(\n",
    "    range(raw_header['NAXIS1']), 0\n",
    ")[0]"
   ]
  },
  {
   "cell_type": "code",
   "execution_count": 10,
   "metadata": {
    "collapsed": false,
    "deletable": true,
    "editable": true
   },
   "outputs": [
    {
     "data": {
      "text/plain": [
       "<matplotlib.text.Text at 0x7f8968960400>"
      ]
     },
     "execution_count": 10,
     "metadata": {},
     "output_type": "execute_result"
    },
    {
     "data": {
      "image/png": "[encoded data removed]",
      "text/plain": [
       "<matplotlib.figure.Figure at 0x7f896893d748>"
      ]
     },
     "metadata": {},
     "output_type": "display_data"
    }
   ],
   "source": [
    "plt.plot(raw_wavelen, raw_flux)\n",
    "plt.ylabel('flux')\n",
    "plt.xlabel('wavelenght (angstrom)')"
   ]
  },
  {
   "cell_type": "markdown",
   "metadata": {
    "deletable": true,
    "editable": true
   },
   "source": [
    "## Spetrum Normalization"
   ]
  },
  {
   "cell_type": "code",
   "execution_count": 11,
   "metadata": {
    "collapsed": false,
    "deletable": true,
    "editable": true
   },
   "outputs": [],
   "source": [
    "def parse_fits_id(path):\n",
    "    filename = os.path.split(path)[-1]\n",
    "    identifier = os.path.splitext(filename)[0]\n",
    "    return identifier\n",
    "\n",
    "norm_fits_id = parse_fits_id(raw_fits_filename)"
   ]
  },
  {
   "cell_type": "code",
   "execution_count": 12,
   "metadata": {
    "collapsed": true,
    "deletable": true,
    "editable": true
   },
   "outputs": [],
   "source": [
    "norm_fits_dir = os.path.join(\n",
    "    'ondrejov-ccd700', 'normalized'\n",
    ")"
   ]
  },
  {
   "cell_type": "code",
   "execution_count": 13,
   "metadata": {
    "collapsed": false,
    "deletable": true,
    "editable": true
   },
   "outputs": [],
   "source": [
    "norm_fits_filename = os.path.join(\n",
    "    norm_fits_dir, norm_fits_id + '.fit'\n",
    ")"
   ]
  },
  {
   "cell_type": "code",
   "execution_count": 14,
   "metadata": {
    "collapsed": false,
    "deletable": true,
    "editable": true
   },
   "outputs": [
    {
     "name": "stdout",
     "output_type": "stream",
     "text": [
      "Filename: ondrejov-ccd700/normalized/a201506030017.fit\n",
      "No.    Name         Type      Cards   Dimensions   Format\n",
      "0    PRIMARY     PrimaryHDU     104   ()              \n",
      "1                BinTableHDU     19   2047R x 2C   [D, D]   \n"
     ]
    }
   ],
   "source": [
    "norm_hdulist = astropy.io.fits.open(norm_fits_filename)\n",
    "norm_hdulist.info()"
   ]
  },
  {
   "cell_type": "code",
   "execution_count": 15,
   "metadata": {
    "collapsed": false,
    "deletable": true,
    "editable": true,
    "scrolled": true
   },
   "outputs": [
    {
     "data": {
      "text/plain": [
       "SIMPLE  =                    T / Fits standard                                  \n",
       "BITPIX  =                    8 / Bits per pixel                                 \n",
       "NAXIS   =                    0 / Number of axes                                 \n",
       "EXTEND  =                    T / File may contain extensions                    \n",
       "ORIGIN  = 'NOAO-IRAF FITS Image Kernel July 2003' / FITS file originator        \n",
       "DATE    = '2015-06-04T11:11:56' / Date FITS file was generated                  \n",
       "IRAF-TLM= '2015-06-04T11:11:56' / Time of last modification                     \n",
       "OBJECT  = 'HD 87737'           / Name of the object observed                    \n",
       "COMMENT   FITS (Flexible Image Transport System) format is defined in 'Astronomy\n",
       "COMMENT   and Astrophysics', volume 376, page 359; bibcode: 2001A&A...376..359H \n",
       "OBSERVAT= 'ONDREJOV'           / Name of observatory (IRAF style)               \n",
       "LATITUDE=             49.91056 / Telescope latitude  (degrees), +49:54:38.0     \n",
       "LONGITUD=             14.78361 / Telescope longitud  (degrees), +14:47:01.0     \n",
       "HEIGHT  =                  528 / Height above sea level [m].                    \n",
       "TELESCOP= 'ZEISS-2m'           / 2m Ondrejov observatory telescope              \n",
       "TELSYST = 'COUDE   '           / Telescope setup - COUDE or CASSegrain          \n",
       "INSTRUME= 'COUDE700'           / Coude echelle spectrograph                     \n",
       "DETECTOR= 'PyLoN 2048x512BX'   / Name of the detector                           \n",
       "CHIPID  = 'E2V 42-10 BX'       / Name of CCD chip                               \n",
       "BUNIT   = 'ADU     '           / Unit of the array of image data                \n",
       "PREFLASH=                    0 / Length of preflash in seconds                  \n",
       "CCDXSIZE=                 2048 / X Size in pixels of digitised frame            \n",
       "CCDYSIZE=                  512 / Y Size in pixels of digitised frame            \n",
       "CCDXPIXE=                 13.5 / Size in microns of the pixels, in X            \n",
       "CCDYPIXE=                 13.5 / Size in microns of the pixels, in Y            \n",
       "GRATNAME= '3       '           / Grating name - ID                              \n",
       "SLITTYPE= 'BLADE   '           / Type of slit - blade or image slicers          \n",
       "AUTOGUID= 'NO      '           / Status of autoguider system                    \n",
       "SLITWID =                  0.2 / Slit width in mm                               \n",
       "COLIMAT = 'open    '           / Collimator mask status                         \n",
       "TLE-TRCS= '0       '           / Correction Set                                 \n",
       "TLE-TRGV= '3.2 8.2 '           / Guiding Value                                  \n",
       "TLE-TRHD= '64.1649 16.7491'    / Hour and Declination Axis                      \n",
       "TLE-TRRD= '100719.947 +16454'  / Right ascension and Declination                \n",
       "TLE-TRUS= '0.0000 0.0000'      / User Speed                                     \n",
       "SGH-MCO = 'coude   '           / Mirror Coude Oes                               \n",
       "SGH-MSC = 'star    '           / Mirror Star Calibration                        \n",
       "SGH-CPA = 'in      '           / Correction plate 700                           \n",
       "SGH-CPB = 'out     '           / Correction plate 400                           \n",
       "TM-DIFF =                   -2 / T1433363847 - P1433363849                      \n",
       "IMAGETYP= 'object  '           / Type of observation, eg. FLAT                  \n",
       "OBSERVER= 'Maravelias, Fuchs'  / Observers                                      \n",
       "SYSVER  = 'PESO 839.'                                                           \n",
       "READSPD = '50kHz   '                                                            \n",
       "FILENAME= 'a201506030017.fit'                                                   \n",
       "CAMFOCUS=                5000. / Camera focus position                          \n",
       "SPECTEMP=                  21. / 17616                                          \n",
       "SPECFILT=                    1 / Spectral filter                                \n",
       "TM_START=                74248 / 20:37:28, 1433363848                           \n",
       "UT      = '20:37:28'           / UTC of  start of observation                   \n",
       "EPOCH   =                2000. / Same as EQUINOX - for back compat              \n",
       "EQUINOX =                2000. / Equinox of RA and DEC                          \n",
       "DATE-OBS= '2015-06-03'         / UTC date start of observation                  \n",
       "TM_END  =                74649 / 20:44:09, 1433364249                           \n",
       "EXPTIME =                  401 / Length of observation excluding pauses         \n",
       "DARKTIME=                  401 / Length of observation including pauses         \n",
       "CCDTEMP =                 -115 / Detector temperature                           \n",
       "EXPVAL  =             13.47435 / Exposure value in photon counts [Mcounts]      \n",
       "GRATANG =                30.25 / 30:15                                          \n",
       "GRATPOS =                 6457 / Grating angle in increments                    \n",
       "DICHMIR =                    2 / Dichroic mirror number                         \n",
       "FLATTYPE= 'PROJECT '           / Flat type (Projector/Dome)                     \n",
       "COMPLAMP= 'ThAr-BS/15mA'       / Comparison arc setup                           \n",
       "RA      = '10:07:19.947'       / 10.122208                                      \n",
       "DEC     = '+16:45:45.50'       / 16.762639                                      \n",
       "ST      = '14:24:30'           / Local sidereal time at start of observation    \n",
       "TELFOCUS=                19.11 / Telescope focus (milimeters)                   \n",
       "DOMEAZ  =               243.46 / Mean dome azimuth during observation           \n",
       "AIRPRESS=               960.16 / Atmospheric preasure in (hPa)                  \n",
       "AIRHUMEX=                72.08 / Air humidity outside the dome                  \n",
       "OUTTEMP =                19.33 / Temperature outside of the dome                \n",
       "DOMETEMP=                20.19 / Temperature inside the dome                    \n",
       "GAINM   = 'high    '           / Gain mode                                      \n",
       "WCSDIM  =                    1 /2                                               \n",
       "LTM1_1  =                   1.                                                  \n",
       "WAT0_001= 'system=equispec'                                                     \n",
       "WAT1_001= 'wtype=linear label=Wavelength units=angstroms'                       \n",
       "TRIM    = 'Jun  4 11:47 Trim data section is [2:2048,140:370]'                  \n",
       "ZEROCOR = 'Jun  4 11:47 Zero level correction image is Zero'                    \n",
       "FLATCOR = 'Jun  4 11:47 Flat field image is Flat6457.fit with scale=12610.57'   \n",
       "CCDSEC  = '[2:2048,140:370]'                                                    \n",
       "CCDPROC = 'Jun  4 11:47 CCD processing done'                                    \n",
       "JD      =     2457177.36167245                                                  \n",
       "LJD     =             2457177.                                                  \n",
       "AIRMASS =             2.074001                                                  \n",
       "UTMIDDLE= '20:40:48.5'                                                          \n",
       "BANDID1 = 'spectrum - background fit, weights variance, clean yes'              \n",
       "APNUM1  = '1 1 81.27 143.42'                                                    \n",
       "CTYPE1  = 'LINEAR  '                                                            \n",
       "CRVAL1  =     6262.44668427086                                                  \n",
       "CRPIX1  =                   1.                                                  \n",
       "CDELT1  =    0.230897071815804                                                  \n",
       "CD1_1   =    0.230897071815804                                                  \n",
       "DC-FLAG =                    0 /0                                               \n",
       "DCLOG1  = 'REFSPEC1 = a201506030017a201506030015.ms 0.28157383'                 \n",
       "DCLOG2  = 'REFSPEC2 = a201506030017a201506030018.ms 0.71842617'                 \n",
       "DISPCOR =                    0                                                  \n",
       "HJD     =     2457177.36017862                                                  \n",
       "VHELIO  =    -28.5903978876648                                                  \n",
       "VLSR    =    -33.7778052920676                                                  \n",
       "VSUN    = '   20.    18.    30.  1900.'                                         \n",
       "                                                                                \n",
       "                                                                                \n",
       "                                                                                "
      ]
     },
     "execution_count": 15,
     "metadata": {},
     "output_type": "execute_result"
    }
   ],
   "source": [
    "norm_hdulist[0].header"
   ]
  },
  {
   "cell_type": "code",
   "execution_count": 16,
   "metadata": {
    "collapsed": false,
    "deletable": true,
    "editable": true,
    "scrolled": true
   },
   "outputs": [
    {
     "data": {
      "text/plain": [
       "XTENSION= 'BINTABLE'           / binary table extension                         \n",
       "BITPIX  =                    8 / array data type                                \n",
       "NAXIS   =                    2 / number of array dimensions                     \n",
       "NAXIS1  =                   16 / length of dimension 1                          \n",
       "NAXIS2  =                 2047 / length of dimension 2                          \n",
       "PCOUNT  =                    0 / number of group parameters                     \n",
       "GCOUNT  =                    1 / number of groups                               \n",
       "TFIELDS =                    2 / number of table fields                         \n",
       "TTYPE1  = 'WAVE    '                                                            \n",
       "TFORM1  = 'D       '                                                            \n",
       "TUNIT1  = 'Angstrom'                                                            \n",
       "TTYPE2  = 'FLUX    '                                                            \n",
       "TFORM2  = 'D       '                                                            \n",
       "TUNIT2  = 'erg/cm^2/s/Angstrom'                                                 \n",
       "TUCD1   = 'em.wl   '                                                            \n",
       "TUTYP1  = 'spec:Data.SpectralAxis.Value'                                        \n",
       "TUCD2   = 'phot.fluxDens;em.wl'                                                 \n",
       "TUTYP2  = 'spec:Data.FluxAxis.Value'                                            \n",
       "DATALEN =                 2047 / Spectral axis length                           "
      ]
     },
     "execution_count": 16,
     "metadata": {},
     "output_type": "execute_result"
    }
   ],
   "source": [
    "norm_hdulist[1].header"
   ]
  },
  {
   "cell_type": "code",
   "execution_count": 17,
   "metadata": {
    "collapsed": false,
    "deletable": true,
    "editable": true
   },
   "outputs": [
    {
     "data": {
      "image/png": "[encoded data removed]",
      "text/plain": [
       "<matplotlib.figure.Figure at 0x7f896858e4a8>"
      ]
     },
     "metadata": {},
     "output_type": "display_data"
    }
   ],
   "source": [
    "norm_wavelen = norm_hdulist[1].data['WAVE']\n",
    "norm_flux = norm_hdulist[1].data['FLUX']\n",
    "plt.subplot(2, 1, 1)\n",
    "plt.title('original')\n",
    "plt.plot(raw_wavelen, raw_flux)\n",
    "plt.subplot(2, 1, 2)\n",
    "plt.title('normalized')\n",
    "plt.plot(norm_wavelen, norm_flux)\n",
    "plt.tight_layout()"
   ]
  }
 ],
 "metadata": {
  "kernelspec": {
   "display_name": "Python 3",
   "language": "python",
   "name": "python3"
  },
  "language_info": {
   "codemirror_mode": {
    "name": "ipython",
    "version": 3
   },
   "file_extension": ".py",
   "mimetype": "text/x-python",
   "name": "python",
   "nbconvert_exporter": "python",
   "pygments_lexer": "ipython3",
   "version": "3.4.2"
  }
 },
 "nbformat": 4,
 "nbformat_minor": 2
}
