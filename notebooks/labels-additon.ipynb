{
 "cells": [
  {
   "cell_type": "markdown",
   "metadata": {
    "deletable": true,
    "editable": true
   },
   "source": [
    "# Labels Addition\n",
    "\n",
    "Purpose of this notebook as to add already classified labels\n",
    "to the dataset. This has been done\n",
    "http://physics.muni.cz/~ssa/archive/."
   ]
  },
  {
   "cell_type": "markdown",
   "metadata": {
    "deletable": true,
    "editable": true
   },
   "source": [
    "## Load All Data"
   ]
  },
  {
   "cell_type": "code",
   "execution_count": 1,
   "metadata": {
    "collapsed": true,
    "deletable": true,
    "editable": true
   },
   "outputs": [],
   "source": [
    "import pickle\n",
    "import os"
   ]
  },
  {
   "cell_type": "code",
   "execution_count": 2,
   "metadata": {
    "collapsed": true,
    "deletable": true,
    "editable": true
   },
   "outputs": [],
   "source": [
    "# load the data\n",
    "data_filename = 'ondrejov-halpha.pickle'\n",
    "with open(os.path.join('data', data_filename), 'rb') as f:\n",
    "    spectra = pickle.load(f)"
   ]
  },
  {
   "cell_type": "markdown",
   "metadata": {
    "deletable": true,
    "editable": true
   },
   "source": [
    "## Load Labeled Data"
   ]
  },
  {
   "cell_type": "code",
   "execution_count": 3,
   "metadata": {
    "collapsed": true,
    "deletable": true,
    "editable": true
   },
   "outputs": [],
   "source": [
    "def gen_fits_paths(path):\n",
    "    \"\"\"Returns a generator of paths to fits files.\"\"\"\n",
    "    return (os.path.join(dirpath, filename)\n",
    "            for dirpath, _, filenames in os.walk(path)\n",
    "            for filename in filenames\n",
    "            if filename.endswith('.fits'))"
   ]
  },
  {
   "cell_type": "code",
   "execution_count": 4,
   "metadata": {
    "collapsed": true,
    "deletable": true,
    "editable": true
   },
   "outputs": [],
   "source": [
    "def get_fits_name(path):\n",
    "    return os.path.splitext(os.path.split(path)[1])[0]"
   ]
  },
  {
   "cell_type": "code",
   "execution_count": 5,
   "metadata": {
    "collapsed": true,
    "deletable": true,
    "editable": true
   },
   "outputs": [],
   "source": [
    "import re\n",
    "import astropy.io.fits"
   ]
  },
  {
   "cell_type": "code",
   "execution_count": 6,
   "metadata": {
    "collapsed": false,
    "deletable": true,
    "editable": true
   },
   "outputs": [],
   "source": [
    "pattern = re.compile('/(\\d+)/')\n",
    "def fits_data(path):\n",
    "    with astropy.io.fits.open(path) as hdulist:\n",
    "        # need to copy the data else it file pointer\n",
    "        # won't be realesed and exception would be raised\n",
    "        data = hdulist[1].data\n",
    "    return {\n",
    "        'wavelen': data['WAVE'],\n",
    "        'norm_flux': data['FLUX'],\n",
    "        'label': int(pattern.search(path).group(1)) - 1\n",
    "    }"
   ]
  },
  {
   "cell_type": "code",
   "execution_count": 7,
   "metadata": {
    "collapsed": false,
    "deletable": true,
    "editable": true
   },
   "outputs": [],
   "source": [
    "labeled_spectra = {\n",
    "    get_fits_name(path): fits_data(path)\n",
    "    for path in gen_fits_paths('labeled-data/archive_1_5/')\n",
    "}"
   ]
  },
  {
   "cell_type": "markdown",
   "metadata": {
    "deletable": true,
    "editable": true
   },
   "source": [
    "## Identify the Intersection"
   ]
  },
  {
   "cell_type": "code",
   "execution_count": 8,
   "metadata": {
    "collapsed": false,
    "deletable": true,
    "editable": true
   },
   "outputs": [
    {
     "data": {
      "text/plain": [
       "(1726, 1722)"
      ]
     },
     "execution_count": 8,
     "metadata": {},
     "output_type": "execute_result"
    }
   ],
   "source": [
    "# find intersection of labeled and not labeled data\n",
    "intersection = set(labeled_spectra) & set(spectra)\n",
    "len(labeled_spectra), len(intersection)"
   ]
  },
  {
   "cell_type": "code",
   "execution_count": 9,
   "metadata": {
    "collapsed": false,
    "deletable": true,
    "editable": true
   },
   "outputs": [
    {
     "data": {
      "text/plain": [
       "{'400norm', 'pi240043', 'test1', 'test2'}"
      ]
     },
     "execution_count": 9,
     "metadata": {},
     "output_type": "execute_result"
    }
   ],
   "source": [
    "# these are not in intersection\n",
    "difference = set(labeled_spectra) - set(spectra)\n",
    "difference"
   ]
  },
  {
   "cell_type": "code",
   "execution_count": 10,
   "metadata": {
    "collapsed": true,
    "deletable": true,
    "editable": true
   },
   "outputs": [],
   "source": [
    "import matplotlib.pyplot as plt\n",
    "%matplotlib inline"
   ]
  },
  {
   "cell_type": "code",
   "execution_count": 11,
   "metadata": {
    "collapsed": false,
    "deletable": true,
    "editable": true,
    "scrolled": false
   },
   "outputs": [
    {
     "data": {
      "text/plain": [
       "<matplotlib.legend.Legend at 0x7f6c6a6e2128>"
      ]
     },
     "execution_count": 11,
     "metadata": {},
     "output_type": "execute_result"
    },
    {
     "data": {
      "image/png": "[encoded data removed]",
      "text/plain": [
       "<matplotlib.figure.Figure at 0x7f6c6a6e2160>"
      ]
     },
     "metadata": {},
     "output_type": "display_data"
    }
   ],
   "source": [
    "for spectrum in difference:\n",
    "    plt.plot(\n",
    "        labeled_spectra[spectrum]['wavelen'],\n",
    "        labeled_spectra[spectrum]['norm_flux'],\n",
    "        label=spectrum,\n",
    "    )\n",
    "plt.legend()"
   ]
  },
  {
   "cell_type": "markdown",
   "metadata": {
    "deletable": true,
    "editable": true
   },
   "source": [
    "## Add Labels"
   ]
  },
  {
   "cell_type": "code",
   "execution_count": 12,
   "metadata": {
    "collapsed": false,
    "deletable": true,
    "editable": true
   },
   "outputs": [],
   "source": [
    "for spectrum, data in spectra.items():\n",
    "    if spectrum in labeled_spectra:\n",
    "        data['label'] = labeled_spectra[spectrum]['label']\n",
    "    else:\n",
    "        data['label'] = -1"
   ]
  },
  {
   "cell_type": "markdown",
   "metadata": {
    "deletable": true,
    "editable": true
   },
   "source": [
    "## Visualization"
   ]
  },
  {
   "cell_type": "code",
   "execution_count": 13,
   "metadata": {
    "collapsed": false,
    "deletable": true,
    "editable": true
   },
   "outputs": [
    {
     "data": {
      "text/plain": [
       "[176, 172, 1186, 56, 132]"
      ]
     },
     "execution_count": 13,
     "metadata": {},
     "output_type": "execute_result"
    }
   ],
   "source": [
    "def spectra_with_label(label, spectra=spectra):\n",
    "    return [\n",
    "        spectrum\n",
    "        for spectrum, data in spectra.items()\n",
    "        if data['label'] == label\n",
    "    ]\n",
    "\n",
    "classes = list(map(spectra_with_label, range(5)))\n",
    "# number of spectra in each class\n",
    "list(map(len, classes))"
   ]
  },
  {
   "cell_type": "code",
   "execution_count": 14,
   "metadata": {
    "collapsed": true,
    "deletable": true,
    "editable": true
   },
   "outputs": [],
   "source": [
    "import random"
   ]
  },
  {
   "cell_type": "code",
   "execution_count": 15,
   "metadata": {
    "collapsed": false,
    "deletable": true,
    "editable": true
   },
   "outputs": [
    {
     "data": {
      "image/png": "[encoded data removed]",
      "text/plain": [
       "<matplotlib.figure.Figure at 0x7f6c69ee0390>"
      ]
     },
     "metadata": {},
     "output_type": "display_data"
    }
   ],
   "source": [
    "def plot_spectrum(spectrum, label):\n",
    "    plt.plot(\n",
    "        spectrum['wavelen'],\n",
    "        spectrum['norm_flux'],\n",
    "        label=label\n",
    "    )\n",
    "    plt.legend()\n",
    "\n",
    "for i in range(5):\n",
    "    plt.subplot(5, 1, i + 1)\n",
    "    plot_spectrum(\n",
    "        spectra[random.choice(classes[i])],\n",
    "        'class {}'.format(i + 1)\n",
    "    )\n",
    "plt.tight_layout()"
   ]
  },
  {
   "cell_type": "markdown",
   "metadata": {
    "deletable": true,
    "editable": true
   },
   "source": [
    "## Save the Labeled Data"
   ]
  },
  {
   "cell_type": "code",
   "execution_count": 16,
   "metadata": {
    "collapsed": true,
    "deletable": true,
    "editable": true
   },
   "outputs": [],
   "source": [
    "# serialize the object for later use\n",
    "pickle_filename = 'ondrejov-halpha-labeled.pickle'\n",
    "with open(os.path.join('data', pickle_filename), 'wb') as f:\n",
    "    pickle.dump(spectra, f)"
   ]
  }
 ],
 "metadata": {
  "kernelspec": {
   "display_name": "Python 3",
   "language": "python",
   "name": "python3"
  },
  "language_info": {
   "codemirror_mode": {
    "name": "ipython",
    "version": 3
   },
   "file_extension": ".py",
   "mimetype": "text/x-python",
   "name": "python",
   "nbconvert_exporter": "python",
   "pygments_lexer": "ipython3",
   "version": "3.4.2"
  }
 },
 "nbformat": 4,
 "nbformat_minor": 2
}
