{
 "cells": [
  {
   "cell_type": "markdown",
   "metadata": {
    "deletable": true,
    "editable": true
   },
   "source": [
    "# Dataset Split\n",
    "\n",
    "Split dataset into test, validation and training set.\n",
    "\n",
    "An important point to make about the preprocessing is that\n",
    "any preprocessing statistics (e.g. the data mean)\n",
    "must only be computed on the training data.\n",
    "(https://cs231n.github.io/neural-networks-2/)\n",
    "\n",
    "The data is imbalanced.\n",
    "Use http://contrib.scikit-learn.org/imbalanced-learn/index.html."
   ]
  },
  {
   "cell_type": "code",
   "execution_count": 1,
   "metadata": {
    "collapsed": true
   },
   "outputs": [],
   "source": [
    "%matplotlib inline"
   ]
  },
  {
   "cell_type": "code",
   "execution_count": 2,
   "metadata": {
    "collapsed": false,
    "deletable": true,
    "editable": true
   },
   "outputs": [],
   "source": [
    "import h5py\n",
    "import numpy as np\n",
    "import sklearn.utils\n",
    "from sklearn.model_selection import train_test_split\n",
    "import imblearn.over_sampling\n",
    "import matplotlib.pyplot as plt"
   ]
  },
  {
   "cell_type": "code",
   "execution_count": 3,
   "metadata": {
    "collapsed": false,
    "deletable": true,
    "editable": true
   },
   "outputs": [],
   "source": [
    "f = h5py.File('data/data.hdf5')\n",
    "X = f['X'][...]\n",
    "y = f['y'][...]"
   ]
  },
  {
   "cell_type": "code",
   "execution_count": 4,
   "metadata": {
    "collapsed": false,
    "deletable": true,
    "editable": true
   },
   "outputs": [
    {
     "name": "stdout",
     "output_type": "stream",
     "text": [
      "label 0: 5301 samples\n",
      "label 1: 6103 samples\n",
      "label 3: 1533 samples\n"
     ]
    }
   ],
   "source": [
    "labels, counts = np.unique(y, return_counts=True)\n",
    "for label, count in zip(labels, counts):\n",
    "    print('label {}: {} samples'.format(label, count))"
   ]
  },
  {
   "cell_type": "code",
   "execution_count": 5,
   "metadata": {
    "collapsed": true
   },
   "outputs": [],
   "source": [
    "N_LABELS = 3"
   ]
  },
  {
   "cell_type": "markdown",
   "metadata": {
    "deletable": true,
    "editable": true
   },
   "source": [
    "## Balancing Training Set\n",
    "\n",
    "https://arxiv.org/pdf/1609.06570v1.pdf"
   ]
  },
  {
   "cell_type": "code",
   "execution_count": 6,
   "metadata": {
    "collapsed": false,
    "deletable": true,
    "editable": true,
    "scrolled": false
   },
   "outputs": [
    {
     "name": "stderr",
     "output_type": "stream",
     "text": [
      "/usr/local/lib/python3.5/dist-packages/imblearn/base.py:306: UserWarning: The target type should be binary.\n",
      "  warnings.warn('The target type should be binary.')\n",
      "/usr/local/lib/python3.5/dist-packages/imblearn/base.py:306: UserWarning: The target type should be binary.\n",
      "  warnings.warn('The target type should be binary.')\n"
     ]
    },
    {
     "data": {
      "text/plain": [
       "((array([0, 1, 3]), array([5301, 6103, 1533])),\n",
       " (array([0, 1, 3]), array([6103, 6103, 6103])))"
      ]
     },
     "execution_count": 6,
     "metadata": {},
     "output_type": "execute_result"
    }
   ],
   "source": [
    "X_bal, y_bal = X[...], y[...]\n",
    "# call four times because each time only one class is balanced\n",
    "smote = imblearn.over_sampling.SMOTE()\n",
    "for i in range(N_LABELS - 1):\n",
    "    X_bal, y_bal = smote.fit_sample(X_bal, y_bal)\n",
    "\n",
    "np.unique(y, return_counts=True), np.unique(y_bal, return_counts=True)"
   ]
  },
  {
   "cell_type": "code",
   "execution_count": 7,
   "metadata": {
    "collapsed": false
   },
   "outputs": [
    {
     "data": {
      "text/plain": [
       "((array([0, 1, 3]), array([4944, 4943, 4943])),\n",
       " (array([0, 1, 3]), array([549, 550, 549])),\n",
       " (array([0, 1, 3]), array([610, 610, 611])))"
      ]
     },
     "execution_count": 7,
     "metadata": {},
     "output_type": "execute_result"
    }
   ],
   "source": [
    "X_tr, X_te, y_tr, y_te = train_test_split(X_bal, y_bal, test_size=0.1, stratify=y_bal)\n",
    "X_tr, X_val, y_tr, y_val = train_test_split(X_tr, y_tr, test_size=0.1, stratify=y_tr)\n",
    "np.unique(y_tr, return_counts=True), np.unique(y_val, return_counts=True), np.unique(y_te, return_counts=True)"
   ]
  },
  {
   "cell_type": "code",
   "execution_count": 8,
   "metadata": {
    "collapsed": false
   },
   "outputs": [],
   "source": [
    "try:\n",
    "    del f['X_tr']\n",
    "    del f['X_val']\n",
    "    del f['X_te']\n",
    "    del f['y_tr']\n",
    "    del f['y_val']\n",
    "    del f['y_te']\n",
    "except:\n",
    "    pass\n",
    "    \n",
    "f.create_dataset('X_tr', X_tr.shape, dtype=np.float32)[...] = X_tr\n",
    "f.create_dataset('X_val', X_val.shape, dtype=np.float32)[...] = X_val\n",
    "f.create_dataset('X_te', X_te.shape, dtype=np.float32)[...] = X_te\n",
    "\n",
    "f.create_dataset('y_tr', y_tr.shape, dtype=np.int)[...] = y_tr\n",
    "f.create_dataset('y_val', y_val.shape, dtype=np.int)[...] = y_val\n",
    "f.create_dataset('y_te', y_te.shape, dtype=np.int)[...] = y_te"
   ]
  },
  {
   "cell_type": "code",
   "execution_count": 9,
   "metadata": {
    "collapsed": true,
    "deletable": true,
    "editable": true
   },
   "outputs": [],
   "source": [
    "f.close()"
   ]
  }
 ],
 "metadata": {
  "kernelspec": {
   "display_name": "Python 3",
   "language": "python",
   "name": "python3"
  },
  "language_info": {
   "codemirror_mode": {
    "name": "ipython",
    "version": 3
   },
   "file_extension": ".py",
   "mimetype": "text/x-python",
   "name": "python",
   "nbconvert_exporter": "python",
   "pygments_lexer": "ipython3",
   "version": "3.5.2"
  }
 },
 "nbformat": 4,
 "nbformat_minor": 2
}
