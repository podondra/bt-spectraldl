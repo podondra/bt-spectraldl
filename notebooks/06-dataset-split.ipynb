{
 "cells": [
  {
   "cell_type": "markdown",
   "metadata": {
    "deletable": true,
    "editable": true
   },
   "source": [
    "# Dataset Split\n",
    "\n",
    "Split dataset into test, validation and training set.\n",
    "\n",
    "An important point to make about the preprocessing is that\n",
    "any preprocessing statistics (e.g. the data mean)\n",
    "must only be computed on the training data.\n",
    "(https://cs231n.github.io/neural-networks-2/)\n",
    "\n",
    "The data is imbalanced.\n",
    "Use http://contrib.scikit-learn.org/imbalanced-learn/index.html."
   ]
  },
  {
   "cell_type": "code",
   "execution_count": 1,
   "metadata": {
    "collapsed": true,
    "deletable": true,
    "editable": true
   },
   "outputs": [],
   "source": [
    "%matplotlib inline"
   ]
  },
  {
   "cell_type": "code",
   "execution_count": 2,
   "metadata": {
    "collapsed": false,
    "deletable": true,
    "editable": true
   },
   "outputs": [],
   "source": [
    "import h5py\n",
    "import numpy as np\n",
    "import sklearn.utils\n",
    "from sklearn.model_selection import train_test_split\n",
    "import matplotlib.pyplot as plt"
   ]
  },
  {
   "cell_type": "code",
   "execution_count": 3,
   "metadata": {
    "collapsed": false,
    "deletable": true,
    "editable": true
   },
   "outputs": [],
   "source": [
    "with h5py.File('data/data.hdf5') as f:\n",
    "    X = f['X'][...]\n",
    "    y = f['y'][...]"
   ]
  },
  {
   "cell_type": "code",
   "execution_count": 4,
   "metadata": {
    "collapsed": false,
    "deletable": true,
    "editable": true
   },
   "outputs": [
    {
     "name": "stdout",
     "output_type": "stream",
     "text": [
      "label 0: 5301 samples\n",
      "label 1: 6103 samples\n",
      "label 2: 1533 samples\n"
     ]
    }
   ],
   "source": [
    "labels, counts = np.unique(y, return_counts=True)\n",
    "for label, count in zip(labels, counts):\n",
    "    print('label {}: {} samples'.format(label, count))"
   ]
  },
  {
   "cell_type": "code",
   "execution_count": 5,
   "metadata": {
    "collapsed": true,
    "deletable": true,
    "editable": true
   },
   "outputs": [],
   "source": [
    "N_LABELS = 3"
   ]
  },
  {
   "cell_type": "code",
   "execution_count": 6,
   "metadata": {
    "collapsed": false,
    "deletable": true,
    "editable": true,
    "scrolled": true
   },
   "outputs": [
    {
     "name": "stdout",
     "output_type": "stream",
     "text": [
      "training set\t[3817 4393 1104]\t9314\n",
      "validation set\t[ 954 1099  276]\t2329\n",
      "testing set\t[530 611 153]\t1294\n"
     ]
    }
   ],
   "source": [
    "X_tr, X_te, y_tr, y_te = train_test_split(X, y, test_size=0.1, stratify=y)\n",
    "X_tr, X_val, y_tr, y_val = train_test_split(X_tr, y_tr, test_size=0.2, stratify=y_tr)\n",
    "for name, (_, cnts) in zip(['training', 'validation', 'testing'], [\n",
    "    np.unique(y_tr, return_counts=True), np.unique(y_val, return_counts=True), np.unique(y_te, return_counts=True)\n",
    "]):\n",
    "    print(name + ' set', cnts, sum(cnts), sep='\\t')"
   ]
  },
  {
   "cell_type": "code",
   "execution_count": 7,
   "metadata": {
    "collapsed": false,
    "deletable": true,
    "editable": true
   },
   "outputs": [],
   "source": [
    "# with h5py.File('data/data.hdf5') as f:\n",
    "#     try:\n",
    "#         del f['X_tr']\n",
    "#         del f['X_val']\n",
    "#         del f['X_te']\n",
    "#         del f['y_tr']\n",
    "#         del f['y_val']\n",
    "#         del f['y_te']\n",
    "#     except:\n",
    "#         pass\n",
    "\n",
    "#     f.create_dataset('X_tr', X_tr.shape, dtype=np.float64)[...] = X_tr\n",
    "#     f.create_dataset('X_val', X_val.shape, dtype=np.float64)[...] = X_val\n",
    "#     f.create_dataset('X_te', X_te.shape, dtype=np.float64)[...] = X_te\n",
    "\n",
    "#     f.create_dataset('y_tr', y_tr.shape, dtype=np.int8)[...] = y_tr\n",
    "#     f.create_dataset('y_val', y_val.shape, dtype=np.int8)[...] = y_val\n",
    "#     f.create_dataset('y_te', y_te.shape, dtype=np.int8)[...] = y_te"
   ]
  }
 ],
 "metadata": {
  "kernelspec": {
   "display_name": "Python 3",
   "language": "python",
   "name": "python3"
  },
  "language_info": {
   "codemirror_mode": {
    "name": "ipython",
    "version": 3
   },
   "file_extension": ".py",
   "mimetype": "text/x-python",
   "name": "python",
   "nbconvert_exporter": "python",
   "pygments_lexer": "ipython3",
   "version": "3.5.2"
  }
 },
 "nbformat": 4,
 "nbformat_minor": 2
}
