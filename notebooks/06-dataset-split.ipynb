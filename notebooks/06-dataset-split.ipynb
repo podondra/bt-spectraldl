{
 "cells": [
  {
   "cell_type": "markdown",
   "metadata": {
    "deletable": true,
    "editable": true
   },
   "source": [
    "# Data Set\n",
    "\n",
    "Aim is to create dataset and split it into test and training set.\n",
    "\n",
    "https://cs231n.github.io/neural-networks-2/:\n",
    "An important point to make about the preprocessing is that\n",
    "any preprocessing statistics (e.g. the data mean)\n",
    "must only be computed on the training data.\n",
    "\n",
    "The data is imbalanced.\n",
    "Use http://contrib.scikit-learn.org/imbalanced-learn/index.html."
   ]
  },
  {
   "cell_type": "code",
   "execution_count": 15,
   "metadata": {
    "collapsed": false,
    "deletable": true,
    "editable": true
   },
   "outputs": [],
   "source": [
    "import h5py\n",
    "import numpy as np\n",
    "from sklearn.model_selection import train_test_split\n",
    "import imblearn.over_sampling\n",
    "import matplotlib.pyplot as plt\n",
    "%matplotlib nbagg"
   ]
  },
  {
   "cell_type": "code",
   "execution_count": 2,
   "metadata": {
    "collapsed": false,
    "deletable": true,
    "editable": true
   },
   "outputs": [],
   "source": [
    "f = h5py.File('data.hdf5')\n",
    "spectra = f['resampled']\n",
    "labels = spectra['labels']\n",
    "fluxes = spectra['fluxes']"
   ]
  },
  {
   "cell_type": "code",
   "execution_count": 3,
   "metadata": {
    "collapsed": false,
    "deletable": true,
    "editable": true
   },
   "outputs": [
    {
     "name": "stdout",
     "output_type": "stream",
     "text": [
      "label -1:   11487 samples\n",
      "label  0:     176 samples\n",
      "label  1:     172 samples\n",
      "label  2:    1186 samples\n",
      "label  3:      56 samples\n",
      "label  4:     132 samples\n"
     ]
    }
   ],
   "source": [
    "# sturucture of classes and not labeled data\n",
    "classes, counts = np.unique(labels, return_counts=True)\n",
    "for label, count in zip(classes, counts):\n",
    "    print('label {:2}: {:7} samples'.format(label, count))"
   ]
  },
  {
   "cell_type": "code",
   "execution_count": 4,
   "metadata": {
    "collapsed": false,
    "deletable": true,
    "editable": true
   },
   "outputs": [
    {
     "data": {
      "text/plain": [
       "((1722, 4000), dtype('>f8'), (1722,), dtype('int32'))"
      ]
     },
     "execution_count": 4,
     "metadata": {},
     "output_type": "execute_result"
    }
   ],
   "source": [
    "# labeled index\n",
    "labeled_idx = labels[:] != -1\n",
    "X = fluxes[labeled_idx, :]\n",
    "y = labels[labeled_idx]\n",
    "X.shape, X.dtype, y.shape, y.dtype"
   ]
  },
  {
   "cell_type": "markdown",
   "metadata": {
    "deletable": true,
    "editable": true
   },
   "source": [
    "## Testing set\n",
    "\n",
    "Split testing set.\n",
    "35 samples from each class.\n",
    "This would give 10/90 percent split."
   ]
  },
  {
   "cell_type": "code",
   "execution_count": 5,
   "metadata": {
    "collapsed": false,
    "deletable": true,
    "editable": true
   },
   "outputs": [
    {
     "name": "stdout",
     "output_type": "stream",
     "text": [
      "test set: 10.16%\n",
      "train set: 89.84%\n"
     ]
    }
   ],
   "source": [
    "n_classes = 5\n",
    "n_test = 35\n",
    "n_test_set = n_test * n_classes\n",
    "n_samples = X.shape[0]\n",
    "n_features = X.shape[1]\n",
    "n_train_set = n_samples - n_test_set\n",
    "\n",
    "print('test set: {:.2f}%\\ntrain set: {:.2f}%'.format(\n",
    "    n_test_set / n_samples * 100,\n",
    "    (n_samples - n_test_set) / n_samples * 100\n",
    "))"
   ]
  },
  {
   "cell_type": "code",
   "execution_count": 6,
   "metadata": {
    "collapsed": false,
    "deletable": true,
    "editable": true
   },
   "outputs": [
    {
     "data": {
      "text/plain": [
       "(<HDF5 dataset \"X_train\": shape (1547, 4000), type \">f8\">,\n",
       " <HDF5 dataset \"y_train\": shape (1547,), type \"<i4\">,\n",
       " <HDF5 dataset \"X_test\": shape (175, 4000), type \">f8\">,\n",
       " <HDF5 dataset \"y_test\": shape (175,), type \"<i4\">)"
      ]
     },
     "execution_count": 6,
     "metadata": {},
     "output_type": "execute_result"
    }
   ],
   "source": [
    "del f['X_train']\n",
    "del f['y_train']\n",
    "del f['X_test']\n",
    "del f['y_test']\n",
    "\n",
    "X_train = f.create_dataset('X_train', (n_train_set, n_features), dtype=X.dtype)\n",
    "y_train = f.create_dataset('y_train', (n_train_set,), dtype=y.dtype)\n",
    "X_test = f.create_dataset('X_test', (n_test_set, n_features), dtype=X.dtype)\n",
    "y_test = f.create_dataset('y_test', (n_test_set,), dtype=y.dtype)\n",
    "X_train, y_train, X_test, y_test"
   ]
  },
  {
   "cell_type": "code",
   "execution_count": 7,
   "metadata": {
    "collapsed": false,
    "deletable": true,
    "editable": true
   },
   "outputs": [],
   "source": [
    "train_idx = 0\n",
    "test_idx = 0\n",
    "for label, count in zip(range(n_classes), counts[1:]):\n",
    "    idx = y == label\n",
    "    (X_train[train_idx:train_idx + count - n_test],\n",
    "     X_test[test_idx:test_idx + n_test],\n",
    "     y_train[train_idx:train_idx + count - n_test],\n",
    "     y_test[test_idx:test_idx + n_test]) = train_test_split(\n",
    "        X[idx], y[idx], test_size=n_test, random_state=0\n",
    "    )\n",
    "    train_idx += count - n_test\n",
    "    test_idx += n_test"
   ]
  },
  {
   "cell_type": "code",
   "execution_count": 8,
   "metadata": {
    "collapsed": false,
    "deletable": true,
    "editable": true
   },
   "outputs": [
    {
     "data": {
      "text/plain": [
       "(array([0, 1, 2, 3, 4], dtype=int32), array([35, 35, 35, 35, 35]))"
      ]
     },
     "execution_count": 8,
     "metadata": {},
     "output_type": "execute_result"
    }
   ],
   "source": [
    "np.unique(y_test, return_counts=True)"
   ]
  },
  {
   "cell_type": "markdown",
   "metadata": {
    "deletable": true,
    "editable": true
   },
   "source": [
    "## Balancing Training Set\n",
    "\n",
    "https://arxiv.org/pdf/1609.06570v1.pdf"
   ]
  },
  {
   "cell_type": "code",
   "execution_count": 9,
   "metadata": {
    "collapsed": false,
    "deletable": true,
    "editable": true,
    "scrolled": false
   },
   "outputs": [
    {
     "data": {
      "text/plain": [
       "array([ 141,  137, 1151,   21,   97])"
      ]
     },
     "execution_count": 9,
     "metadata": {},
     "output_type": "execute_result"
    }
   ],
   "source": [
    "_, counts = np.unique(y_train, return_counts=True)\n",
    "X_balanced = X_train[:]\n",
    "y_balanced = y_train[:]\n",
    "counts"
   ]
  },
  {
   "cell_type": "code",
   "execution_count": 10,
   "metadata": {
    "collapsed": false,
    "deletable": true,
    "editable": true,
    "scrolled": false
   },
   "outputs": [
    {
     "name": "stderr",
     "output_type": "stream",
     "text": [
      "/home/podondra/bt-text/notebooks/venv/lib/python3.4/site-packages/imblearn/base.py:306: UserWarning: The target type should be binary.\n",
      "  warnings.warn('The target type should be binary.')\n",
      "/home/podondra/bt-text/notebooks/venv/lib/python3.4/site-packages/imblearn/base.py:306: UserWarning: The target type should be binary.\n",
      "  warnings.warn('The target type should be binary.')\n",
      "/home/podondra/bt-text/notebooks/venv/lib/python3.4/site-packages/imblearn/base.py:306: UserWarning: The target type should be binary.\n",
      "  warnings.warn('The target type should be binary.')\n",
      "/home/podondra/bt-text/notebooks/venv/lib/python3.4/site-packages/imblearn/base.py:306: UserWarning: The target type should be binary.\n",
      "  warnings.warn('The target type should be binary.')\n"
     ]
    }
   ],
   "source": [
    "# call four times because each time only one class is balanced\n",
    "for i in range(n_classes - 1):\n",
    "    smote = imblearn.over_sampling.SMOTE()\n",
    "    X_balanced, y_balanced = smote.fit_sample(X_balanced, y_balanced)"
   ]
  },
  {
   "cell_type": "code",
   "execution_count": 11,
   "metadata": {
    "collapsed": false,
    "deletable": true,
    "editable": true
   },
   "outputs": [
    {
     "data": {
      "text/plain": [
       "(array([0, 1, 2, 3, 4], dtype=int32), array([1151, 1151, 1151, 1151, 1151]))"
      ]
     },
     "execution_count": 11,
     "metadata": {},
     "output_type": "execute_result"
    }
   ],
   "source": [
    "np.unique(y_balanced, return_counts=True)"
   ]
  },
  {
   "cell_type": "code",
   "execution_count": 16,
   "metadata": {
    "collapsed": false
   },
   "outputs": [],
   "source": [
    "for x in X_balanced[y_balanced == 5]:\n",
    "    plt.plot(x)"
   ]
  },
  {
   "cell_type": "code",
   "execution_count": 13,
   "metadata": {
    "collapsed": false,
    "deletable": true,
    "editable": true
   },
   "outputs": [],
   "source": [
    "del f['X_balanced']\n",
    "del f['y_balanced']\n",
    "\n",
    "h5_X_balanced = f.create_dataset('X_balanced', X_balanced.shape, dtype=X_balanced.dtype)\n",
    "h5_y_balanced = f.create_dataset('y_balanced', y_balanced.shape, dtype=y_balanced.dtype)\n",
    "h5_X_balanced[...] = X_balanced\n",
    "h5_y_balanced[...] = y_balanced"
   ]
  },
  {
   "cell_type": "code",
   "execution_count": 14,
   "metadata": {
    "collapsed": true,
    "deletable": true,
    "editable": true
   },
   "outputs": [],
   "source": [
    "f.close()"
   ]
  }
 ],
 "metadata": {
  "kernelspec": {
   "display_name": "Python 3",
   "language": "python",
   "name": "python3"
  },
  "language_info": {
   "codemirror_mode": {
    "name": "ipython",
    "version": 3
   },
   "file_extension": ".py",
   "mimetype": "text/x-python",
   "name": "python",
   "nbconvert_exporter": "python",
   "pygments_lexer": "ipython3",
   "version": "3.4.2"
  }
 },
 "nbformat": 4,
 "nbformat_minor": 2
}
