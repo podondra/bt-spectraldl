{
 "cells": [
  {
   "cell_type": "markdown",
   "metadata": {},
   "source": [
    "# Logistic Regression"
   ]
  },
  {
   "cell_type": "code",
   "execution_count": 1,
   "metadata": {
    "collapsed": true
   },
   "outputs": [],
   "source": [
    "import numpy as np\n",
    "import matplotlib.pyplot as plt\n",
    "import scipy.stats\n",
    "%matplotlib inline"
   ]
  },
  {
   "cell_type": "markdown",
   "metadata": {},
   "source": [
    "## Sigmoid Function\n",
    "\n",
    "$$ g(x) = \\frac{1}{1 + e^{-x}} $$"
   ]
  },
  {
   "cell_type": "code",
   "execution_count": 2,
   "metadata": {
    "collapsed": false
   },
   "outputs": [
    {
     "data": {
      "image/png": "[encoded data removed]",
      "text/plain": [
       "<matplotlib.figure.Figure at 0x7febe50f78d0>"
      ]
     },
     "metadata": {},
     "output_type": "display_data"
    }
   ],
   "source": [
    "x = np.linspace(\n",
    "    scipy.stats.logistic.ppf(0.001),\n",
    "    scipy.stats.logistic.ppf(0.999), 100\n",
    ")\n",
    "plt.plot(x, scipy.stats.logistic.cdf(x))\n",
    "plt.grid()"
   ]
  },
  {
   "cell_type": "markdown",
   "metadata": {},
   "source": [
    "## Hypothesis Representation\n",
    "\n",
    "$$ h_{\\theta}(x) = g(\\theta^T x) $$\n",
    "\n",
    "$$ g(z) = \\frac{1}{1 + e^{-z}} $$\n",
    "\n",
    "$h_{\\theta}$ gives a probability that output is 1.\n",
    "\n",
    "$$ h_{\\theta}(x) = P(y = 1 \\mid x, \\theta) =\n",
    "1 - P(y = 0 \\mid x, \\theta) $$\n",
    "\n",
    "$$ P(y = 1 \\mid x, \\theta) + P(y = 0 \\mid x, \\theta) = 1 $$\n",
    "\n",
    "### Decision Boundary\n",
    "\n",
    "Decision boundary translates output of hypothesis function to discrete 0 or 1 classifications:\n",
    "\n",
    "$$ h_{\\theta}(x) \\geq 0.5 \\implies y = 1 $$\n",
    "\n",
    "$$ h_{\\theta}(x) < 0.5 \\implies y = 0 $$\n",
    "\n",
    "Logistic function behaves like:\n",
    "\n",
    "$$ g(z) \\geq 0.5 \\textit{ when } z \\geq 0 $$\n",
    "\n",
    "Therefore:\n",
    "\n",
    "$$ \\theta^T x \\geq 0 \\implies y = 1 $$\n",
    "\n",
    "$$ \\theta^T x < 0 \\implies y = 0 $$"
   ]
  }
 ],
 "metadata": {
  "kernelspec": {
   "display_name": "Python 3",
   "language": "python",
   "name": "python3"
  },
  "language_info": {
   "codemirror_mode": {
    "name": "ipython",
    "version": 3
   },
   "file_extension": ".py",
   "mimetype": "text/x-python",
   "name": "python",
   "nbconvert_exporter": "python",
   "pygments_lexer": "ipython3",
   "version": "3.4.2"
  }
 },
 "nbformat": 4,
 "nbformat_minor": 2
}
