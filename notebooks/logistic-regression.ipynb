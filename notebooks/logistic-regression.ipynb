{
 "cells": [
  {
   "cell_type": "markdown",
   "metadata": {
    "deletable": true,
    "editable": true
   },
   "source": [
    "# Logistic Regression"
   ]
  },
  {
   "cell_type": "code",
   "execution_count": 1,
   "metadata": {
    "collapsed": true,
    "deletable": true,
    "editable": true
   },
   "outputs": [],
   "source": [
    "import numpy as np\n",
    "import matplotlib.pyplot as plt\n",
    "import scipy.stats\n",
    "%matplotlib inline"
   ]
  },
  {
   "cell_type": "markdown",
   "metadata": {
    "deletable": true,
    "editable": true
   },
   "source": [
    "## Sigmoid Function\n",
    "\n",
    "$$ g(x) = \\frac{1}{1 + e^{-x}} $$"
   ]
  },
  {
   "cell_type": "code",
   "execution_count": 2,
   "metadata": {
    "collapsed": true,
    "deletable": true,
    "editable": true
   },
   "outputs": [],
   "source": [
    "x = np.linspace(\n",
    "    scipy.stats.logistic.ppf(0.001),\n",
    "    scipy.stats.logistic.ppf(0.999), 100\n",
    ")"
   ]
  },
  {
   "cell_type": "code",
   "execution_count": 3,
   "metadata": {
    "collapsed": false,
    "deletable": true,
    "editable": true
   },
   "outputs": [
    {
     "data": {
      "image/png": "[encoded data removed]",
      "text/plain": [
       "<matplotlib.figure.Figure at 0x7f4586950908>"
      ]
     },
     "metadata": {},
     "output_type": "display_data"
    }
   ],
   "source": [
    "plt.plot(x, scipy.stats.logistic.cdf(x))\n",
    "plt.grid()"
   ]
  },
  {
   "cell_type": "code",
   "execution_count": 4,
   "metadata": {
    "collapsed": false,
    "deletable": true,
    "editable": true
   },
   "outputs": [],
   "source": [
    "def sigmoid(z):\n",
    "    return (1 + np.exp(-z)) ** -1\n"
   ]
  },
  {
   "cell_type": "code",
   "execution_count": 5,
   "metadata": {
    "collapsed": false
   },
   "outputs": [
    {
     "data": {
      "image/png": "[encoded data removed]",
      "text/plain": [
       "<matplotlib.figure.Figure at 0x7f458690f940>"
      ]
     },
     "metadata": {},
     "output_type": "display_data"
    }
   ],
   "source": [
    "plt.plot(x, sigmoid(x))\n",
    "plt.grid()"
   ]
  },
  {
   "cell_type": "markdown",
   "metadata": {
    "deletable": true,
    "editable": true
   },
   "source": [
    "## Hypothesis Representation\n",
    "\n",
    "$$ h_{\\theta}(x) = g(\\theta^T x) $$\n",
    "\n",
    "$$ g(z) = \\frac{1}{1 + e^{-z}} $$\n",
    "\n",
    "$h_{\\theta}$ gives a probability that output is 1.\n",
    "\n",
    "$$ h_{\\theta}(x) = P(y = 1 \\mid x, \\theta) =\n",
    "1 - P(y = 0 \\mid x, \\theta) $$\n",
    "\n",
    "$$ P(y = 1 \\mid x, \\theta) + P(y = 0 \\mid x, \\theta) = 1 $$\n",
    "\n",
    "### Decision Boundary\n",
    "\n",
    "Decision boundary translates output of hypothesis function to discrete 0 or 1 classifications:\n",
    "\n",
    "$$ h_{\\theta}(x) \\geq 0.5 \\implies y = 1 $$\n",
    "\n",
    "$$ h_{\\theta}(x) < 0.5 \\implies y = 0 $$\n",
    "\n",
    "Logistic function behaves like:\n",
    "\n",
    "$$ g(z) \\geq 0.5, z \\geq 0 $$\n",
    "\n",
    "Therefore:\n",
    "\n",
    "$$ \\theta^T x \\geq 0 \\implies y = 1 $$\n",
    "\n",
    "$$ \\theta^T x < 0 \\implies y = 0 $$"
   ]
  },
  {
   "cell_type": "markdown",
   "metadata": {
    "deletable": true,
    "editable": true
   },
   "source": [
    "## Logistic Regression Model"
   ]
  },
  {
   "cell_type": "code",
   "execution_count": 6,
   "metadata": {
    "collapsed": true,
    "deletable": true,
    "editable": true
   },
   "outputs": [],
   "source": [
    "import numpy as np\n",
    "import matplotlib.pyplot as plt\n",
    "%matplotlib inline"
   ]
  },
  {
   "cell_type": "code",
   "execution_count": 7,
   "metadata": {
    "collapsed": false,
    "deletable": true,
    "editable": true
   },
   "outputs": [
    {
     "data": {
      "text/plain": [
       "(100, 3)"
      ]
     },
     "execution_count": 7,
     "metadata": {},
     "output_type": "execute_result"
    }
   ],
   "source": [
    "data_filename = 'data/ex2data1.txt'\n",
    "data = np.loadtxt(data_filename, delimiter=',')\n",
    "data.shape"
   ]
  },
  {
   "cell_type": "code",
   "execution_count": 8,
   "metadata": {
    "collapsed": false,
    "deletable": true,
    "editable": true
   },
   "outputs": [],
   "source": [
    "raw_X = data[:, 0:2]\n",
    "y = data[:, 2]"
   ]
  },
  {
   "cell_type": "code",
   "execution_count": 9,
   "metadata": {
    "collapsed": false,
    "deletable": true,
    "editable": true,
    "scrolled": false
   },
   "outputs": [],
   "source": [
    "def plot_data(X, y, label1, label2):\n",
    "    exam_1 = X[:, 0]\n",
    "    exam_2 = X[:, 1]\n",
    "    for i in [(0, label1), (1, label2)]:\n",
    "        index = y == i[0]\n",
    "        plt.scatter(\n",
    "            exam_1[index],\n",
    "            exam_2[index],\n",
    "            label=i[1],\n",
    "            alpha=0.5\n",
    "        )\n"
   ]
  },
  {
   "cell_type": "code",
   "execution_count": 10,
   "metadata": {
    "collapsed": false
   },
   "outputs": [
    {
     "data": {
      "text/plain": [
       "<matplotlib.text.Text at 0x7f44e5ebc470>"
      ]
     },
     "execution_count": 10,
     "metadata": {},
     "output_type": "execute_result"
    },
    {
     "data": {
      "image/png": "[encoded data removed]",
      "text/plain": [
       "<matplotlib.figure.Figure at 0x7f45869127b8>"
      ]
     },
     "metadata": {},
     "output_type": "display_data"
    }
   ],
   "source": [
    "plot_data(raw_X, y, 'not admitted', 'admitted') \n",
    "plt.legend()\n",
    "plt.xlabel('exam 1 score')\n",
    "plt.ylabel('exam 2 score')"
   ]
  },
  {
   "cell_type": "markdown",
   "metadata": {
    "deletable": true,
    "editable": true
   },
   "source": [
    "- $m$ is number of training examples\n",
    "- $n$ is number of features"
   ]
  },
  {
   "cell_type": "code",
   "execution_count": 11,
   "metadata": {
    "collapsed": false,
    "deletable": true,
    "editable": true
   },
   "outputs": [
    {
     "data": {
      "text/plain": [
       "(100, 2)"
      ]
     },
     "execution_count": 11,
     "metadata": {},
     "output_type": "execute_result"
    }
   ],
   "source": [
    "m, n = raw_X.shape\n",
    "m, n"
   ]
  },
  {
   "cell_type": "code",
   "execution_count": 12,
   "metadata": {
    "collapsed": false,
    "deletable": true,
    "editable": true
   },
   "outputs": [
    {
     "data": {
      "text/plain": [
       "dtype('float64')"
      ]
     },
     "execution_count": 12,
     "metadata": {},
     "output_type": "execute_result"
    }
   ],
   "source": [
    "X = np.concatenate((np.ones((m, 1)), raw_X), axis=1)\n",
    "X.dtype"
   ]
  },
  {
   "cell_type": "markdown",
   "metadata": {
    "deletable": true,
    "editable": true
   },
   "source": [
    "### Cost Function and Gradient\n",
    "\n",
    "$$ J(\\theta) = \\frac{1}{m} \\sum_{i=1}^{m}\n",
    "(-y^{(i)} \\log(h_{\\theta}(x^{(i)}) - \n",
    "(1 - y^{(i)}) \\log(1 - h_{\\theta}(x^{(i)})) $$\n",
    "\n",
    "$$ \\frac{\\partial J(\\theta)}{\\partial \\theta_j} =\n",
    "\\frac{1}{m} \\sum_{i=1}^{m}\n",
    "(h_{\\theta}(x^{(i)}) - y^{(i)}) x_j^{(i)} $$"
   ]
  },
  {
   "cell_type": "code",
   "execution_count": 13,
   "metadata": {
    "collapsed": false,
    "deletable": true,
    "editable": true
   },
   "outputs": [],
   "source": [
    "# eplison so log will not fail on zeros\n",
    "EPS = np.finfo(np.float64).eps"
   ]
  },
  {
   "cell_type": "code",
   "execution_count": 14,
   "metadata": {
    "collapsed": false,
    "deletable": true,
    "editable": true
   },
   "outputs": [],
   "source": [
    "def cost_function(theta, X, y):\n",
    "    m = y.shape[0]\n",
    "    h_theta = sigmoid(X.dot(theta))\n",
    "    m_inv = 1 / m\n",
    "    J = m_inv * (-y.dot(np.log(h_theta + EPS)) - (1 - y).dot(np.log(1 - h_theta + EPS)))\n",
    "    gradient = m_inv * (h_theta - y).dot(X)\n",
    "    return J, gradient"
   ]
  },
  {
   "cell_type": "code",
   "execution_count": 15,
   "metadata": {
    "collapsed": false,
    "deletable": true,
    "editable": true
   },
   "outputs": [
    {
     "data": {
      "text/plain": [
       "(0.21833019382659735, array([ 0.04290299,  2.56623412,  2.64679737]))"
      ]
     },
     "execution_count": 15,
     "metadata": {},
     "output_type": "execute_result"
    }
   ],
   "source": [
    "cost_function(np.array([-24, 0.2, 0.2]), X, y)"
   ]
  },
  {
   "cell_type": "code",
   "execution_count": 16,
   "metadata": {
    "collapsed": false,
    "deletable": true,
    "editable": true
   },
   "outputs": [],
   "source": [
    "from scipy.optimize import minimize"
   ]
  },
  {
   "cell_type": "code",
   "execution_count": 17,
   "metadata": {
    "collapsed": false,
    "deletable": true,
    "editable": true
   },
   "outputs": [
    {
     "name": "stdout",
     "output_type": "stream",
     "text": [
      "Optimization terminated successfully.\n",
      "         Current function value: 0.203498\n",
      "         Iterations: 24\n",
      "         Function evaluations: 32\n",
      "         Gradient evaluations: 32\n"
     ]
    }
   ],
   "source": [
    "initial_theta = np.zeros(n + 1)\n",
    "res = minimize(\n",
    "    fun=lambda theta: cost_function(theta, X, y),\n",
    "    x0=initial_theta,\n",
    "    jac=True,\n",
    "    options={'maxiter': 400, 'disp': True}\n",
    ")"
   ]
  },
  {
   "cell_type": "code",
   "execution_count": 18,
   "metadata": {
    "collapsed": false,
    "deletable": true,
    "editable": true
   },
   "outputs": [
    {
     "name": "stdout",
     "output_type": "stream",
     "text": [
      "success:  True\n",
      "theta:  [-25.16115684   0.20623032   0.20147018]\n"
     ]
    }
   ],
   "source": [
    "print('success: ', res.success)\n",
    "print('theta: ', res.x)\n",
    "theta = res.x"
   ]
  },
  {
   "cell_type": "markdown",
   "metadata": {
    "deletable": true,
    "editable": true
   },
   "source": [
    "### Plot Decision Boundary\n",
    "\n",
    "The decision boudary is where $ \\theta^T X = 0 $.\n",
    "\n",
    "$$ \\theta_0 + \\theta_1 x_1 + \\theta_2 x_2 = 0 $$\n",
    "$$ x_2 = \\frac{\\theta_1 x_1 + \\theta_0}{\\theta_2} $$"
   ]
  },
  {
   "cell_type": "code",
   "execution_count": 19,
   "metadata": {
    "collapsed": false,
    "deletable": true,
    "editable": true
   },
   "outputs": [
    {
     "data": {
      "text/plain": [
       "array([ 30.05882245,  99.8278578 ])"
      ]
     },
     "execution_count": 19,
     "metadata": {},
     "output_type": "execute_result"
    }
   ],
   "source": [
    "# find end points, x1s\n",
    "plot_x = np.array([min(X[:, 1]), max(X[:, 1])])\n",
    "plot_x"
   ]
  },
  {
   "cell_type": "code",
   "execution_count": 20,
   "metadata": {
    "collapsed": false,
    "deletable": true,
    "editable": true
   },
   "outputs": [
    {
     "data": {
      "text/plain": [
       "array([ 94.1187266 ,  22.70125633])"
      ]
     },
     "execution_count": 20,
     "metadata": {},
     "output_type": "execute_result"
    }
   ],
   "source": [
    "# compute x2s\n",
    "plot_y = (-1 / theta[2]) * (theta[1] * plot_x + theta[0])\n",
    "plot_y"
   ]
  },
  {
   "cell_type": "code",
   "execution_count": 21,
   "metadata": {
    "collapsed": false,
    "deletable": true,
    "editable": true,
    "scrolled": true
   },
   "outputs": [
    {
     "data": {
      "text/plain": [
       "<matplotlib.legend.Legend at 0x7f44e5f459e8>"
      ]
     },
     "execution_count": 21,
     "metadata": {},
     "output_type": "execute_result"
    },
    {
     "data": {
      "image/png": "[encoded data removed]",
      "text/plain": [
       "<matplotlib.figure.Figure at 0x7f44e5ebcba8>"
      ]
     },
     "metadata": {},
     "output_type": "display_data"
    }
   ],
   "source": [
    "plot_data(raw_X, y, 'not admitted', 'admitted')\n",
    "plt.plot(plot_x, plot_y, c='r', label='decision boundary')\n",
    "plt.legend()"
   ]
  },
  {
   "cell_type": "code",
   "execution_count": 22,
   "metadata": {
    "collapsed": false,
    "deletable": true,
    "editable": true
   },
   "outputs": [
    {
     "data": {
      "text/plain": [
       "0.7762894342405029"
      ]
     },
     "execution_count": 22,
     "metadata": {},
     "output_type": "execute_result"
    }
   ],
   "source": [
    "sigmoid(np.array([1, 45, 85]).dot(theta))"
   ]
  },
  {
   "cell_type": "markdown",
   "metadata": {
    "deletable": true,
    "editable": true
   },
   "source": [
    "### Compute Accuracy"
   ]
  },
  {
   "cell_type": "code",
   "execution_count": 23,
   "metadata": {
    "collapsed": false,
    "deletable": true,
    "editable": true
   },
   "outputs": [
    {
     "name": "stdout",
     "output_type": "stream",
     "text": [
      "train accuracy: 89.0%\n"
     ]
    }
   ],
   "source": [
    "def predict(theta, X):\n",
    "    m = X.shape[0]\n",
    "    return sigmoid(X.dot(theta)) >= 0.5\n",
    "    \n",
    "accuracy = np.mean(predict(theta, X) == y) * 100\n",
    "print('train accuracy: {}%'.format(accuracy))"
   ]
  },
  {
   "cell_type": "markdown",
   "metadata": {
    "deletable": true,
    "editable": true
   },
   "source": [
    "## Regularized Logistic Regression"
   ]
  },
  {
   "cell_type": "code",
   "execution_count": 24,
   "metadata": {
    "collapsed": false,
    "deletable": true,
    "editable": true
   },
   "outputs": [
    {
     "data": {
      "text/plain": [
       "(118, 3)"
      ]
     },
     "execution_count": 24,
     "metadata": {},
     "output_type": "execute_result"
    }
   ],
   "source": [
    "data_filename_2 = 'data/ex2data2.txt'\n",
    "data_2 = np.loadtxt(data_filename_2, delimiter=',')\n",
    "data_2.shape"
   ]
  },
  {
   "cell_type": "code",
   "execution_count": 25,
   "metadata": {
    "collapsed": true,
    "deletable": true,
    "editable": true
   },
   "outputs": [],
   "source": [
    "raw_X_2 = data_2[:, 0:2]\n",
    "y_2 = data_2[:, 2]"
   ]
  },
  {
   "cell_type": "code",
   "execution_count": 26,
   "metadata": {
    "collapsed": false,
    "deletable": true,
    "editable": true
   },
   "outputs": [
    {
     "data": {
      "text/plain": [
       "<matplotlib.legend.Legend at 0x7f44e5dc3b38>"
      ]
     },
     "execution_count": 26,
     "metadata": {},
     "output_type": "execute_result"
    },
    {
     "data": {
      "image/png": "[encoded data removed]",
      "text/plain": [
       "<matplotlib.figure.Figure at 0x7f44e5dc32b0>"
      ]
     },
     "metadata": {},
     "output_type": "display_data"
    }
   ],
   "source": [
    "plot_data(raw_X_2, y_2, 'y = 0', 'y = 1')\n",
    "plt.legend()"
   ]
  },
  {
   "cell_type": "markdown",
   "metadata": {},
   "source": [
    "### Feature mapping"
   ]
  },
  {
   "cell_type": "code",
   "execution_count": 27,
   "metadata": {
    "collapsed": false
   },
   "outputs": [],
   "source": [
    "def mapFeature(X1, X2):\n",
    "    degree = 6\n",
    "    try:\n",
    "        out = np.ones((X1.shape[0], 28))\n",
    "    except IndexError:\n",
    "        out = np.ones((1, 28))\n",
    "    idx = 1\n",
    "    for i in range(1, degree + 1):\n",
    "        for j in range(i + 1):\n",
    "            out[:, idx] = (X1 ** (i - j)) * (X2 ** j)\n",
    "            idx += 1\n",
    "    return out"
   ]
  },
  {
   "cell_type": "code",
   "execution_count": 28,
   "metadata": {
    "collapsed": false
   },
   "outputs": [
    {
     "data": {
      "text/plain": [
       "(118, 28)"
      ]
     },
     "execution_count": 28,
     "metadata": {},
     "output_type": "execute_result"
    }
   ],
   "source": [
    "X_2 = mapFeature(raw_X_2[:, 0], raw_X_2[:, 1])\n",
    "X_2.shape"
   ]
  },
  {
   "cell_type": "markdown",
   "metadata": {},
   "source": [
    "### Cost Function and Gradient with Regularization\n",
    "\n",
    "$$ J(\\theta) = \\frac{1}{m} \\sum_{i=1}^{m}\n",
    "(-y^{(i)} \\log(h_{\\theta}(x^{(i)}) - \n",
    "(1 - y^{(i)}) \\log(1 - h_{\\theta}(x^{(i)}))\n",
    "+ \\frac{\\lambda}{2m} \\sum_{j=1}^{n} \\theta_j^2$$\n",
    "\n",
    "$$ \\frac{\\partial J(\\theta)}{\\partial \\theta_j} =\n",
    "\\frac{1}{m} \\sum_{i=1}^{m}\n",
    "(h_{\\theta}(x^{(i)}) - y^{(i)}) x_j^{(i)}, \\quad j = 0 $$\n",
    "\n",
    "$$ \\frac{\\partial J(\\theta)}{\\partial \\theta_j} =\n",
    "\\frac{1}{m} \\sum_{i=1}^{m}\n",
    "(h_{\\theta}(x^{(i)}) - y^{(i)}) x_j^{(i)}\n",
    "+ \\frac{\\lambda}{m} \\theta_j,\n",
    "\\quad j \\ge 0 $$"
   ]
  },
  {
   "cell_type": "code",
   "execution_count": 29,
   "metadata": {
    "collapsed": false
   },
   "outputs": [],
   "source": [
    "def cost_function_reg(theta, X, y, lam):\n",
    "    m = y.shape[0]\n",
    "    h_theta = sigmoid(X.dot(theta))\n",
    "    m_inv = 1 / m\n",
    "    J = m_inv * (-y.dot(np.log(h_theta + EPS)) - (1 - y).dot(np.log(1 - h_theta + EPS)))\n",
    "    J += (lam / (2 * m)) * np.sum(theta[1:] ** 2)\n",
    "    gradient = m_inv * (h_theta - y).dot(X)\n",
    "    gradient[1:] += (lam / m) * theta[1:]\n",
    "    return J, gradient"
   ]
  },
  {
   "cell_type": "code",
   "execution_count": 30,
   "metadata": {
    "collapsed": false
   },
   "outputs": [
    {
     "name": "stdout",
     "output_type": "stream",
     "text": [
      "(0.69314718055994484, array([  8.47457627e-03,   1.87880932e-02,   7.77711864e-05,\n",
      "         5.03446395e-02,   1.15013308e-02,   3.76648474e-02,\n",
      "         1.83559872e-02,   7.32393391e-03,   8.19244468e-03,\n",
      "         2.34764889e-02,   3.93486234e-02,   2.23923907e-03,\n",
      "         1.28600503e-02,   3.09593720e-03,   3.93028171e-02,\n",
      "         1.99707467e-02,   4.32983232e-03,   3.38643902e-03,\n",
      "         5.83822078e-03,   4.47629067e-03,   3.10079849e-02,\n",
      "         3.10312442e-02,   1.09740238e-03,   6.31570797e-03,\n",
      "         4.08503006e-04,   7.26504316e-03,   1.37646175e-03,\n",
      "         3.87936363e-02]))\n",
      "(2.134848314665331, array([ 0.34604507,  0.08508073,  0.11852457,  0.1505916 ,  0.01591449,\n",
      "        0.16811439,  0.06712094,  0.03217053,  0.02604321,  0.10719727,\n",
      "        0.09725885,  0.01098433,  0.04195657,  0.00957212,  0.12367776,\n",
      "        0.05895534,  0.01870409,  0.01729323,  0.02352665,  0.01513039,\n",
      "        0.09858123,  0.07328323,  0.01051447,  0.02270567,  0.00904832,\n",
      "        0.02563548,  0.00823079,  0.10601204]))\n"
     ]
    }
   ],
   "source": [
    "lam = 1\n",
    "\n",
    "initial_theta_2 = np.zeros(X_2.shape[1])\n",
    "print(cost_function_reg(initial_theta_2, X_2, y_2, lam))\n",
    "\n",
    "test_theta = np.ones(X_2.shape[1])\n",
    "print(cost_function_reg(test_theta, X_2, y_2, lam))"
   ]
  },
  {
   "cell_type": "code",
   "execution_count": 31,
   "metadata": {
    "collapsed": false
   },
   "outputs": [
    {
     "name": "stdout",
     "output_type": "stream",
     "text": [
      "Optimization terminated successfully.\n",
      "         Current function value: 0.529003\n",
      "         Iterations: 47\n",
      "         Function evaluations: 48\n",
      "         Gradient evaluations: 48\n"
     ]
    }
   ],
   "source": [
    "res_2 = minimize(\n",
    "    fun=lambda theta: cost_function_reg(theta, X_2, y_2, 1),\n",
    "    x0=np.zeros(X_2.shape[1]),\n",
    "    jac=True,\n",
    "    options={'maxiter': 400, 'disp': True}\n",
    ")"
   ]
  },
  {
   "cell_type": "code",
   "execution_count": 32,
   "metadata": {
    "collapsed": false
   },
   "outputs": [
    {
     "name": "stdout",
     "output_type": "stream",
     "text": [
      "train accuracy: 83.05084745762711%\n"
     ]
    }
   ],
   "source": [
    "accuracy_2 = np.mean(predict(res_2.x, X_2) == y_2) * 100\n",
    "print('train accuracy: {}%'.format(accuracy_2))"
   ]
  },
  {
   "cell_type": "code",
   "execution_count": 33,
   "metadata": {
    "collapsed": false,
    "scrolled": true
   },
   "outputs": [],
   "source": [
    "def plot_decision_boudary(theta, X, y):\n",
    "    min_val = min(X[:, 0])\n",
    "    max_val = max(X[:, 1])\n",
    "    u = np.linspace(min_val, max_val)\n",
    "    v = np.linspace(min_val, max_val)\n",
    "    z = np.zeros((u.shape[0], v.shape[0]))\n",
    "    for i in range(u.shape[0]):\n",
    "        for j in range(v.shape[0]):\n",
    "            z[i, j] = mapFeature(u[i], v[j]).dot(theta)\n",
    "    plot_data(X, y, 'y = 0', 'y = 1')\n",
    "    plt.legend()\n",
    "    plt.contour(u, v, z.T, levels=[0])"
   ]
  },
  {
   "cell_type": "code",
   "execution_count": 34,
   "metadata": {
    "collapsed": false
   },
   "outputs": [
    {
     "data": {
      "image/png": "[encoded data removed]",
      "text/plain": [
       "<matplotlib.figure.Figure at 0x7f44e5da3438>"
      ]
     },
     "metadata": {},
     "output_type": "display_data"
    }
   ],
   "source": [
    "plot_decision_boudary(res_2.x, raw_X_2, y_2)"
   ]
  },
  {
   "cell_type": "markdown",
   "metadata": {},
   "source": [
    "### Overfitting\n",
    "\n",
    "$$ \\lambda = 0 $$"
   ]
  },
  {
   "cell_type": "code",
   "execution_count": 35,
   "metadata": {
    "collapsed": false
   },
   "outputs": [
    {
     "name": "stdout",
     "output_type": "stream",
     "text": [
      "Warning: Maximum number of iterations has been exceeded.\n",
      "         Current function value: 0.263499\n",
      "         Iterations: 400\n",
      "         Function evaluations: 401\n",
      "         Gradient evaluations: 401\n"
     ]
    },
    {
     "data": {
      "image/png": "[encoded data removed]",
      "text/plain": [
       "<matplotlib.figure.Figure at 0x7f44e5ca9ba8>"
      ]
     },
     "metadata": {},
     "output_type": "display_data"
    }
   ],
   "source": [
    "res_3 = minimize(\n",
    "    fun=lambda theta: cost_function_reg(theta, X_2, y_2, 0),\n",
    "    x0=np.zeros(X_2.shape[1]),\n",
    "    jac=True,\n",
    "    options={'maxiter': 400, 'disp': True}\n",
    ")\n",
    "plot_decision_boudary(res_3.x, raw_X_2, y_2)"
   ]
  },
  {
   "cell_type": "markdown",
   "metadata": {},
   "source": [
    "### Underfitting\n",
    "\n",
    "$$ \\lambda = 100 $$"
   ]
  },
  {
   "cell_type": "code",
   "execution_count": 36,
   "metadata": {
    "collapsed": false
   },
   "outputs": [
    {
     "name": "stdout",
     "output_type": "stream",
     "text": [
      "Optimization terminated successfully.\n",
      "         Current function value: 0.686484\n",
      "         Iterations: 7\n",
      "         Function evaluations: 8\n",
      "         Gradient evaluations: 8\n"
     ]
    },
    {
     "data": {
      "image/png": "[encoded data removed]",
      "text/plain": [
       "<matplotlib.figure.Figure at 0x7f44e5c1c2e8>"
      ]
     },
     "metadata": {},
     "output_type": "display_data"
    }
   ],
   "source": [
    "res_4 = minimize(\n",
    "    fun=lambda theta: cost_function_reg(theta, X_2, y_2, 100),\n",
    "    x0=np.zeros(X_2.shape[1]),\n",
    "    jac=True,\n",
    "    options={'maxiter': 400, 'disp': True}\n",
    ")\n",
    "plot_decision_boudary(res_4.x, raw_X_2, y_2)"
   ]
  }
 ],
 "metadata": {
  "kernelspec": {
   "display_name": "Python 3",
   "language": "python",
   "name": "python3"
  },
  "language_info": {
   "codemirror_mode": {
    "name": "ipython",
    "version": 3
   },
   "file_extension": ".py",
   "mimetype": "text/x-python",
   "name": "python",
   "nbconvert_exporter": "python",
   "pygments_lexer": "ipython3",
   "version": "3.4.2"
  }
 },
 "nbformat": 4,
 "nbformat_minor": 2
}
