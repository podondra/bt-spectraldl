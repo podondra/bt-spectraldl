{
 "cells": [
  {
   "cell_type": "markdown",
   "metadata": {},
   "source": [
    "# Dimensionality Reduction\n",
    "\n",
    "This notebook explores the Ondřejov dataset using PCA and t-SNE\n",
    "and some preprocessing algorithms."
   ]
  },
  {
   "cell_type": "code",
   "execution_count": null,
   "metadata": {
    "collapsed": true
   },
   "outputs": [],
   "source": [
    "%matplotlib inline"
   ]
  },
  {
   "cell_type": "code",
   "execution_count": null,
   "metadata": {
    "collapsed": true
   },
   "outputs": [],
   "source": [
    "import h5py\n",
    "import numpy as np\n",
    "import sklearn.preprocessing\n",
    "from sklearn.decomposition import PCA\n",
    "from sklearn.manifold import TSNE\n",
    "import astropy.io.fits as fits\n",
    "import matplotlib\n",
    "import matplotlib.pyplot as plt\n",
    "import spectraldl.ondrejov as ondrejov\n",
    "import spectraldl.preprocessing as preprocessing"
   ]
  },
  {
   "cell_type": "code",
   "execution_count": null,
   "metadata": {
    "collapsed": true
   },
   "outputs": [],
   "source": [
    "with h5py.File('data/data.hdf5') as f:\n",
    "    X = f['X'][...]\n",
    "    y = f['y'][...]"
   ]
  },
  {
   "cell_type": "code",
   "execution_count": null,
   "metadata": {
    "collapsed": true
   },
   "outputs": [],
   "source": [
    "def plot_scatter(X, y):\n",
    "    '''Plot scatter plot of point from X. X is of shape (n_samples, 2).'''\n",
    "    fig, ax = plt.subplots()\n",
    "    sc = ax.scatter(X[:, 0], X[:, 1], c=y, alpha=0.25)\n",
    "    fig.colorbar(sc)"
   ]
  },
  {
   "cell_type": "markdown",
   "metadata": {},
   "source": [
    "## PCA\n",
    "\n",
    "Reduce the raw dataset to 2 PCA compenents.\n",
    "Explained variance is high\n",
    "but the scatter plot shows that this reduction is useless\n",
    "because most of the point are close to each other."
   ]
  },
  {
   "cell_type": "code",
   "execution_count": null,
   "metadata": {
    "scrolled": false
   },
   "outputs": [],
   "source": [
    "pca = PCA(n_components=2)\n",
    "X_pca = pca.fit_transform(X)\n",
    "print('explained variance: {}%'.format(np.sum(pca.explained_variance_ratio_) * 100))\n",
    "plot_scatter(X_pca, y)"
   ]
  },
  {
   "cell_type": "code",
   "execution_count": null,
   "metadata": {
    "scrolled": false
   },
   "outputs": [],
   "source": [
    "fig, (ax1, ax2) = plt.subplots(2, 1)\n",
    "\n",
    "with fits.open('data/ondrejov/ui300025.fits') as hdulist:\n",
    "    ondrejov.plot_spectrum(hdulist, ax1)\n",
    "    ax1.set_title('max flux: ' + str(np.max(ondrejov.get_fluxes(hdulist))))\n",
    "\n",
    "with fits.open('data/ondrejov//td260020.fits') as hdulist:\n",
    "    ondrejov.plot_spectrum(hdulist, ax2)\n",
    "    ax2.set_title('max flux: ' + str(np.max(ondrejov.get_fluxes(hdulist))))\n",
    "\n",
    "fig.tight_layout()"
   ]
  },
  {
   "cell_type": "markdown",
   "metadata": {},
   "source": [
    "If identificator are plotted to the scatter plot\n",
    "the outliers can be determined.\n",
    "Two of them are plotted above.\n",
    "They have really high some fluxes values.\n",
    "\n",
    "### Scaling Samples\n",
    "\n",
    "But because in this classfication problem the shape of spectral is the most important\n",
    "the fluxes intensities can be suppress to some range.\n",
    "\n",
    "In following code minmax scaler and scaler to zero mean and unit variance are applied\n",
    "to **each individula spectra**. ATTENTION not applied to each feature.\n",
    "\n",
    "Aim is to suppress intensieties and so only information about shape remains."
   ]
  },
  {
   "cell_type": "code",
   "execution_count": null,
   "metadata": {
    "scrolled": false
   },
   "outputs": [],
   "source": [
    "# minmax scale to range (-1, 1)\n",
    "# axis=1 means to scale individual samples\n",
    "X_minmax = sklearn.preprocessing.minmax_scale(X, feature_range=(-1, 1), axis=1)\n",
    "X_minmax_pca = PCA(n_components=140)\n",
    "plot_scatter(X_minmax_pca.fit_transform(X_minmax), y)"
   ]
  },
  {
   "cell_type": "code",
   "execution_count": null,
   "metadata": {
    "scrolled": false
   },
   "outputs": [],
   "source": [
    "X_scale = sklearn.preprocessing.scale(X, axis=1)\n",
    "X_scale_pca_model = PCA(n_components=140)\n",
    "X_scale_pca = X_scale_pca_model.fit_transform(X_scale)\n",
    "plot_scatter(X_scale_pca, y)"
   ]
  },
  {
   "cell_type": "code",
   "execution_count": null,
   "metadata": {},
   "outputs": [],
   "source": [
    "np.max(X), np.min(X), np.max(X_scale), np.min(X_scale)"
   ]
  },
  {
   "cell_type": "code",
   "execution_count": null,
   "metadata": {},
   "outputs": [],
   "source": [
    "fig, axs = plt.subplots(2, 2)\n",
    "\n",
    "ax1, ax2, ax3, ax4 = axs.ravel()\n",
    "for ax in axs.ravel():\n",
    "    ax.set_ylabel('number of spectra')\n",
    "    ax.set_xlabel('flux')\n",
    "\n",
    "ax1.set_title('maxima of original spectra')\n",
    "ax1.hist(np.max(X, axis=1), log=True)\n",
    "ax2.set_title('minima of original spectra')\n",
    "ax2.hist(np.min(X, axis=1), log=True)\n",
    "ax3.set_title('maxima of scaled spectra')\n",
    "ax3.hist(np.max(X_scale, axis=1), log=True)\n",
    "ax4.set_title('minima of scaled spectra')\n",
    "ax4.hist(np.min(X_scale, axis=1), log=True)\n",
    "\n",
    "fig.tight_layout()"
   ]
  },
  {
   "cell_type": "code",
   "execution_count": null,
   "metadata": {},
   "outputs": [],
   "source": [
    "fig, ax = plt.subplots()\n",
    "ax.set_title('explained variance ratio')\n",
    "ax.set_ylabel('variance ration')\n",
    "ax.set_xlabel('principal components')\n",
    "cut = 10\n",
    "xticks = np.arange(1, cut + 1)\n",
    "ax.set_xticks(xticks)\n",
    "ax.bar(xticks, X_scale_pca_model.explained_variance_ratio_[:cut]);"
   ]
  },
  {
   "cell_type": "code",
   "execution_count": null,
   "metadata": {
    "scrolled": false
   },
   "outputs": [],
   "source": [
    "# each class plotted individually\n",
    "cmap = plt.get_cmap('viridis')\n",
    "norm = matplotlib.colors.Normalize(vmin=0, vmax=2)\n",
    "fig, axs = plt.subplots(1, 3)\n",
    "\n",
    "titles = ['emission', 'absorption', 'double-peak']\n",
    "labels = [0, 1, 2]\n",
    "colors = [cmap(norm(l)) for l in labels]\n",
    "for title, label, ax, color in zip(titles, labels, axs, colors):\n",
    "    ax.set_title(title)\n",
    "    ax.scatter(X_scale_pca[y == label][:, 0], X_scale_pca[y == label][:, 1], alpha=0.25, c=color)"
   ]
  },
  {
   "cell_type": "markdown",
   "metadata": {},
   "source": [
    "### Conclusions\n",
    "\n",
    "Result above are much more promising.\n",
    "From scatter plot it look relatively easy to separate emission an absorption spectra.\n",
    "But double-peak spectra are mix randomly in space.\n",
    "They are maybe better separated when scaled to zero mean and unit varinace.\n",
    "\n",
    "If we should split to emission and absorption linear separation would work good.\n",
    "But because the double-peak spectra are not easily separable in above plot\n",
    "deep network will hopefully find better representation for sepation.\n",
    "\n",
    "The insight into data then the shape is the main feature helps to\n",
    "apply dimensionality reduction better therefore it should be used futher."
   ]
  },
  {
   "cell_type": "markdown",
   "metadata": {},
   "source": [
    "### Publication Plots"
   ]
  },
  {
   "cell_type": "code",
   "execution_count": null,
   "metadata": {},
   "outputs": [],
   "source": [
    "# publication plot\n",
    "fig, (ax1, ax2) = plt.subplots(1, 2)\n",
    "\n",
    "cmap = plt.get_cmap('viridis')\n",
    "norm = matplotlib.colors.Normalize(vmin=0, vmax=2)\n",
    "\n",
    "for label, name in zip([0, 2, 1], ['emission', 'double-peak', 'absorption']):\n",
    "    idx = y == label\n",
    "    color = cmap(norm(label))\n",
    "    ax1.scatter(X_pca[:, 0][idx], X_pca[:, 1][idx], c=color, alpha=0.5, label=name)\n",
    "    ax2.scatter(X_scale_pca[:, 0][idx], X_scale_pca[:, 1][idx], c=color, alpha=0.5, label=name)\n",
    "\n",
    "ax1.set_title('original dataset')\n",
    "ax1.set_xlabel('PC1')\n",
    "ax1.set_ylabel('PC2')\n",
    "ax1.legend(loc='lower right')\n",
    "\n",
    "ax2.set_title('dataset with scaled samples')\n",
    "ax2.set_xlabel('PC1')\n",
    "ax2.set_ylabel('PC2')\n",
    "ax2.legend(loc='lower right')\n",
    "\n",
    "fig.tight_layout();"
   ]
  },
  {
   "cell_type": "code",
   "execution_count": null,
   "metadata": {},
   "outputs": [],
   "source": [
    "# publication plot\n",
    "fig, ax = plt.subplots()\n",
    "\n",
    "cmap = plt.get_cmap('viridis')\n",
    "norm = matplotlib.colors.Normalize(vmin=0, vmax=2)\n",
    "\n",
    "for label, name in zip([0, 2, 1], ['emission', 'double-peak', 'absorption']):\n",
    "    idx = y == label\n",
    "    color = cmap(norm(label))\n",
    "    ax.scatter(X_pca[:, 0][idx], X_pca[:, 1][idx], c=color, alpha=0.5, label=name)\n",
    "\n",
    "ax.set_title('dataset with scaled samples')\n",
    "ax.set_xlabel('PC1')\n",
    "ax.set_ylabel('PC2')\n",
    "ax.legend(loc='lower right')\n",
    "\n",
    "fig.tight_layout();"
   ]
  },
  {
   "cell_type": "markdown",
   "metadata": {},
   "source": [
    "### Scaling Features\n",
    "\n",
    "Almost same as previous code. Just remove `axis=1`.\n",
    "Conclusion is that the same really matters."
   ]
  },
  {
   "cell_type": "code",
   "execution_count": null,
   "metadata": {},
   "outputs": [],
   "source": [
    "# minmax scale to range (-1, 1)\n",
    "X_f_minmax = sklearn.preprocessing.minmax_scale(X, feature_range=(-1, 1))\n",
    "X_f_minmax_pca = PCA(n_components=2).fit_transform(X_f_minmax)\n",
    "plot_scatter(X_f_minmax_pca, y)"
   ]
  },
  {
   "cell_type": "code",
   "execution_count": null,
   "metadata": {
    "scrolled": false
   },
   "outputs": [],
   "source": [
    "X_f_scale = sklearn.preprocessing.scale(X)\n",
    "X_f_scale_pca = PCA(n_components=2).fit_transform(X_f_scale)\n",
    "plot_scatter(X_f_scale_pca, y)"
   ]
  },
  {
   "cell_type": "markdown",
   "metadata": {},
   "source": [
    "## t-SNE"
   ]
  },
  {
   "cell_type": "code",
   "execution_count": null,
   "metadata": {
    "scrolled": false
   },
   "outputs": [],
   "source": [
    "# firstly reduce to 30 dimensionsions with PCA as in t-SNE paper\n",
    "X_pca = PCA(n_components=30).fit_transform(X_scale)\n",
    "\n",
    "tsne = TSNE(\n",
    "    n_components=2, # 2D out array\n",
    "    #perplexity=40, # should be 5-50\n",
    "    #learning_rate=100, # should be 100-1000\n",
    "    init='pca', # start with PCA position\n",
    "    verbose=2,\n",
    ")\n",
    "X_tsne = tsne.fit_transform(X_pca)"
   ]
  },
  {
   "cell_type": "code",
   "execution_count": null,
   "metadata": {
    "collapsed": true,
    "scrolled": true
   },
   "outputs": [],
   "source": [
    "# publication plot\n",
    "fig, ax = plt.subplots()\n",
    "\n",
    "cmap = plt.get_cmap('viridis')\n",
    "norm = matplotlib.colors.Normalize(vmin=0, vmax=2)\n",
    "\n",
    "for label, name in enumerate(['emission', 'absorption', 'double-peak']):\n",
    "    idx = y == label\n",
    "    color = cmap(norm(label))\n",
    "    ax.scatter(X_tsne[:, 0][idx], X_tsne[:, 1][idx], c=color, alpha=0.5, label=name)\n",
    "    \n",
    "ax.set_title('t-SNE')\n",
    "ax.legend()\n",
    "ax.tick_params(which='both', bottom=False, left=False, labelbottom=False, labelleft=False)"
   ]
  },
  {
   "cell_type": "markdown",
   "metadata": {},
   "source": [
    "## LAMOST\n",
    "\n",
    "These plots consumes a lot of memory so you may encounter `MemoryError`.\n",
    "Be paitient, restart kernel and select right number of samples."
   ]
  },
  {
   "cell_type": "code",
   "execution_count": null,
   "metadata": {
    "collapsed": true
   },
   "outputs": [],
   "source": [
    "def sample_lamost(size):\n",
    "    with h5py.File('data/data.hdf5') as f:\n",
    "        # I found this random sampling fastest for h5py\n",
    "        # bool index array of False values\n",
    "        idx = np.zeros((f['X_lam'].shape[0], ), dtype=np.bool)\n",
    "        # set appriproiate number of indexes to True\n",
    "        idx[:size] = True\n",
    "        # randomly shuffle the index\n",
    "        np.random.shuffle(idx)\n",
    "\n",
    "        X_lam = f['X_lam'][idx, :]\n",
    "    \n",
    "    return X_lam\n",
    "\n",
    "X_lam = sample_lamost(5000)"
   ]
  },
  {
   "cell_type": "code",
   "execution_count": null,
   "metadata": {
    "collapsed": true
   },
   "outputs": [],
   "source": [
    "def foo_matrix(X_lam, X_ond, y_ond):\n",
    "    size_lam, size_ond = X_lam.shape[0], X_ond.shape[0]\n",
    "    size = size_lam + size_ond\n",
    "    X = np.zeros((size, 140), dtype=np.float64)\n",
    "    y = np.zeros((size, ), dtype=np.int8)\n",
    "    \n",
    "    X[:size_lam, :] = X_lam\n",
    "    y[:size_lam] = -1\n",
    "    X[size_lam:, :] = X_ond\n",
    "    y[size_lam:] = y_ond\n",
    "    \n",
    "    return X, y\n",
    "\n",
    "X, y = sklearn.utils.shuffle(X, y)\n",
    "sample_size = 1000\n",
    "X, y = X[:sample_size], y[:sample_size]\n",
    "X_all, y_all = foo_matrix(X_lam, X, y)"
   ]
  },
  {
   "cell_type": "code",
   "execution_count": null,
   "metadata": {
    "collapsed": true
   },
   "outputs": [],
   "source": [
    "pca = PCA(n_components=30)\n",
    "X_all_scaled = preprocessing.scale_samples(X_all)\n",
    "X_all_pca = pca.fit_transform(X_all_scaled)"
   ]
  },
  {
   "cell_type": "code",
   "execution_count": null,
   "metadata": {},
   "outputs": [],
   "source": [
    "# publication plot\n",
    "fig, ax = plt.subplots()\n",
    "\n",
    "cmap = plt.get_cmap('viridis')\n",
    "norm = matplotlib.colors.Normalize(vmin=-1, vmax=2)\n",
    "\n",
    "for label, name in zip([-1, 1, 0, 2], ['lamost', 'absorption', 'emission', 'double-peak']):\n",
    "    idx = y_all == label\n",
    "    color = cmap(norm(label))\n",
    "    ax.scatter(X_all_pca[:, 0][idx], X_all_pca[:, 1][idx], s=10, c=color, alpha=0.5, label=name)\n",
    "    \n",
    "ax.set_title('pricinal component analysis of LAMOST')\n",
    "ax.set_xlabel('PC1')\n",
    "ax.set_ylabel('PC2')\n",
    "ax.legend();"
   ]
  },
  {
   "cell_type": "code",
   "execution_count": null,
   "metadata": {
    "scrolled": true
   },
   "outputs": [],
   "source": [
    "tsne_all = TSNE(\n",
    "    n_components=2, # 2D out array\n",
    "    #perplexity=40, # should be 5-50\n",
    "    #learning_rate=100, # should be 100-1000\n",
    "    init='pca', # start with PCA position\n",
    "    verbose=2,\n",
    ")\n",
    "X_all_tsne = tsne_all.fit_transform(X_all_pca)"
   ]
  },
  {
   "cell_type": "code",
   "execution_count": null,
   "metadata": {},
   "outputs": [],
   "source": [
    "# publication plot\n",
    "fig, ax = plt.subplots()\n",
    "\n",
    "cmap = plt.get_cmap('viridis')\n",
    "norm = matplotlib.colors.Normalize(vmin=-1, vmax=2)\n",
    "\n",
    "for label, name in zip([-1, 1, 0, 2], ['lamost', 'absorption', 'emission', 'double-peak']):\n",
    "    idx = y_all == label\n",
    "    color = cmap(norm(label))\n",
    "    ax.scatter(X_all_tsne[:, 0][idx], X_all_tsne[:, 1][idx], c=color, alpha=0.5, label=name)\n",
    "    \n",
    "ax.set_title('t-SNE of LAMOST')\n",
    "ax.legend();\n",
    "ax.tick_params(which='both', bottom=False, left=False, labelbottom=False, labelleft=False)"
   ]
  }
 ],
 "metadata": {
  "kernelspec": {
   "display_name": "Python 3",
   "language": "python",
   "name": "python3"
  },
  "language_info": {
   "codemirror_mode": {
    "name": "ipython",
    "version": 3
   },
   "file_extension": ".py",
   "mimetype": "text/x-python",
   "name": "python",
   "nbconvert_exporter": "python",
   "pygments_lexer": "ipython3",
   "version": "3.5.2"
  }
 },
 "nbformat": 4,
 "nbformat_minor": 2
}
