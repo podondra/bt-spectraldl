{
 "cells": [
  {
   "cell_type": "markdown",
   "metadata": {
    "deletable": true,
    "editable": true
   },
   "source": [
    "# Disclaimer\n",
    "\n",
    "This does not work because voarchive fall down after some\n",
    "number of requests"
   ]
  },
  {
   "cell_type": "markdown",
   "metadata": {
    "deletable": true,
    "editable": true
   },
   "source": [
    "# Simple Spectral Access protocol\n",
    "\n",
    "SSAP, SSA defines a uniform intreface to remotely discover\n",
    "and access one dimenisonal spectra. Spectral data access\n",
    "mmay involve active transformation of data. SSA also\n",
    "defines complete metadata to describe the available\n",
    "datasets. It makes use of VOTable for metadata exchange.\n",
    "\n",
    "## Architecture\n",
    "\n",
    "A query is used for data discovery and to negotiate the\n",
    "details of the static or dynamically created dataset\n",
    "to be retrieved. SSA allows to mediate not only dataset\n",
    "metadata but the actual dataset itself. Direct access to\n",
    "data is also provided.\n",
    "\n",
    "A single service may support multiple operation to perform\n",
    "various functions. The current interface use an HTTP GET\n",
    "request to submit parametrized requests with responses\n",
    "being returned as for example FITS or VOTable. Defined\n",
    "operations are the following:\n",
    "\n",
    "1. A queryData operation return a VOTable describing\n",
    "candidate datasets.\n",
    "2. A getData operation is used to access an individual\n",
    "dataset.\n",
    "\n",
    "## Basic Usage"
   ]
  },
  {
   "cell_type": "code",
   "execution_count": null,
   "metadata": {
    "collapsed": false,
    "deletable": true,
    "editable": true
   },
   "outputs": [],
   "source": [
    "import urllib.request\n",
    "import urllib.parse\n",
    "import io\n",
    "import os\n",
    "import glob\n",
    "from functools import partial\n",
    "from itertools import count\n",
    "from astropy.io import fits\n",
    "import matplotlib.pyplot as plt\n",
    "%matplotlib inline\n",
    "import xml.etree.ElementTree as ET\n",
    "import numpy as np"
   ]
  },
  {
   "cell_type": "code",
   "execution_count": null,
   "metadata": {
    "collapsed": false,
    "deletable": true,
    "editable": true,
    "scrolled": true
   },
   "outputs": [],
   "source": [
    "def make_ssap_url(\n",
    "    band,\n",
    "    request='queryData',\n",
    "    file_format='votable',\n",
    "    maxrec=10 ** 6,\n",
    "    url_parameters={},\n",
    "    url='http://voarchive.asu.cas.cz/ccd700/q/ssa/ssap.xml',\n",
    "):\n",
    "    url_parameters['BAND'] = str(band)\n",
    "    url_parameters['REQUEST'] = request\n",
    "    url_parameters['FORMAT'] = file_format\n",
    "    url_parameters['MAXREC'] = maxrec\n",
    "    return url + '?' + urllib.parse.urlencode(url_parameters)\n",
    "\n",
    "ssap_url = make_ssap_url(band=6562e-10)\n",
    "ssap_url"
   ]
  },
  {
   "cell_type": "code",
   "execution_count": null,
   "metadata": {
    "collapsed": false,
    "deletable": true,
    "editable": true
   },
   "outputs": [],
   "source": [
    "def request_url(url):\n",
    "    with urllib.request.urlopen(url) as response:\n",
    "         data = response.read()\n",
    "    return data\n",
    "\n",
    "ssap_xml = request_url(ssap_url)\n",
    "type(ssap_xml)"
   ]
  },
  {
   "cell_type": "markdown",
   "metadata": {
    "deletable": true,
    "editable": true
   },
   "source": [
    "## XML Parsing"
   ]
  },
  {
   "cell_type": "code",
   "execution_count": null,
   "metadata": {
    "collapsed": false,
    "deletable": true,
    "editable": true
   },
   "outputs": [],
   "source": [
    "root = ET.fromstring(ssap_xml)\n",
    "root, root.tag, root.attrib"
   ]
  },
  {
   "cell_type": "code",
   "execution_count": null,
   "metadata": {
    "collapsed": false,
    "deletable": true,
    "editable": true
   },
   "outputs": [],
   "source": [
    "def get_ids(root):\n",
    "    # first RESOURCE\n",
    "    # last TABLE\n",
    "    # last DATA\n",
    "    # first TABLEDATA\n",
    "    # eleventh ID\n",
    "    return (c[11].text for c in root[0][-1][-1][0])\n",
    "    \n",
    "spectra_pub_ids = set(get_ids(root))\n",
    "len(spectra_pub_ids)"
   ]
  },
  {
   "cell_type": "code",
   "execution_count": null,
   "metadata": {
    "collapsed": false,
    "deletable": true,
    "editable": true
   },
   "outputs": [],
   "source": [
    "def make_datalink_url(\n",
    "    pub_id,\n",
    "    fluxcalib,\n",
    "    lambda_min,\n",
    "    lambda_max,\n",
    "    file_format='application/fits',\n",
    "    url_parameters={},\n",
    "    url='http://voarchive.asu.cas.cz/ccd700/q/sdl/dlget'\n",
    "):\n",
    "    url_parameters['ID'] = pub_id\n",
    "    if fluxcalib:\n",
    "        url_parameters['FLUXCALIB'] = fluxcalib\n",
    "    url_parameters['LAMBDA_MIN'] = str(lambda_min)\n",
    "    url_parameters['LAMBDA_MAX'] = str(lambda_max)\n",
    "    url_parameters['FORMAT'] = file_format\n",
    "    return url + '?' + urllib.parse.urlencode(url_parameters)\n",
    "\n",
    "datalink_url = make_datalink_url(\n",
    "    'ivo://asu.cas.cz/stel/ccd700/sh270028',\n",
    "    fluxcalib='relative',\n",
    "    lambda_min=6500e-10,\n",
    "    lambda_max=6600e-10\n",
    ")\n",
    "datalink_url"
   ]
  },
  {
   "cell_type": "code",
   "execution_count": null,
   "metadata": {
    "collapsed": false,
    "deletable": true,
    "editable": true
   },
   "outputs": [],
   "source": [
    "def ondrejov_fits(fluxcalib=None):\n",
    "    datalink_url = make_datalink_url(\n",
    "        'ivo://asu.cas.cz/stel/ccd700/kk150018',\n",
    "        fluxcalib=fluxcalib,\n",
    "        lambda_min=6260e-10,\n",
    "        lambda_max=6735e-10\n",
    "    )\n",
    "    fits_data = request_url(datalink_url)\n",
    "    hdulist = fits.open(io.BytesIO(fits_data))\n",
    "    plt.plot(hdulist[1].data['spectral'], hdulist[1].data['flux'])"
   ]
  },
  {
   "cell_type": "code",
   "execution_count": null,
   "metadata": {
    "collapsed": false,
    "deletable": true,
    "editable": true,
    "scrolled": true
   },
   "outputs": [],
   "source": [
    "plt.subplot(4, 1, 1)\n",
    "ondrejov_fits()\n",
    "plt.subplot(4, 1, 2)\n",
    "ondrejov_fits('normalized')\n",
    "plt.subplot(4, 1, 3)\n",
    "ondrejov_fits('relative')\n",
    "plt.subplot(4, 1, 4)\n",
    "ondrejov_fits('UNCALIBRATED')\n",
    "plt.tight_layout()"
   ]
  },
  {
   "cell_type": "markdown",
   "metadata": {
    "deletable": true,
    "editable": true
   },
   "source": [
    "# Intersection with Labeled Dataset"
   ]
  },
  {
   "cell_type": "code",
   "execution_count": null,
   "metadata": {
    "collapsed": false,
    "deletable": true,
    "editable": true
   },
   "outputs": [],
   "source": [
    "names = np.fromfile('../../preprocessing/labeled_data.np', dtype='<U13')\n",
    "labeled = set(names)\n",
    "\n",
    "not_labeled = set(map(lambda x: x.split('/')[-1], spectra_pub_ids))\n",
    "\n",
    "len(labeled), len(not_labeled), len(labeled & not_labeled)"
   ]
  },
  {
   "cell_type": "markdown",
   "metadata": {
    "deletable": true,
    "editable": true
   },
   "source": [
    "# FITS Download"
   ]
  },
  {
   "cell_type": "code",
   "execution_count": null,
   "metadata": {
    "collapsed": false,
    "deletable": true,
    "editable": true
   },
   "outputs": [],
   "source": [
    "def download_spectrum(pub_id, n, directory, fluxcalibration, minimum, maximum):\n",
    "    name = pub_id.split('/')[-1]\n",
    "    path = os.path.join(directory, name + '.fits')\n",
    "    url = make_datalink_url(pub_id, fluxcalibration, minimum, maximum)\n",
    "    print('{}\\tdownloading\\t{}'.format(n, name))\n",
    "    try:\n",
    "        data = request_url(url)\n",
    "    except Exception as e:\n",
    "        print(e)\n",
    "        return name\n",
    "    with open(path, 'wb') as f:\n",
    "        f.write(data)"
   ]
  },
  {
   "cell_type": "code",
   "execution_count": null,
   "metadata": {
    "collapsed": false,
    "deletable": true,
    "editable": true
   },
   "outputs": [],
   "source": [
    "fits_directory = 'ondrejov-ccd700-6260-6735-normalized'\n",
    "%mkdir $fits_directory 2> /dev/null\n",
    "\n",
    "ondrejov_downloader = partial(\n",
    "    download_spectrum,\n",
    "    directory=fits_directory,\n",
    "    fluxcalibration='normalized',\n",
    "    minimum=6260e-10,\n",
    "    maximum=6735e-10,\n",
    ")"
   ]
  },
  {
   "cell_type": "code",
   "execution_count": null,
   "metadata": {
    "collapsed": false,
    "deletable": true,
    "editable": true
   },
   "outputs": [],
   "source": [
    "def get_pub_id(path):\n",
    "    return 'ivo://asu.cas.cz/stel/ccd700/' + os.path.splitext(os.path.split(path)[-1])[0]\n",
    "\n",
    "get_pub_id('ondrejov-ccd700-6260-6735-normalized/uh260033.fits')"
   ]
  },
  {
   "cell_type": "code",
   "execution_count": null,
   "metadata": {
    "collapsed": false,
    "deletable": true,
    "editable": true,
    "scrolled": true
   },
   "outputs": [],
   "source": [
    "spectra_pub_ids -= set(map(get_pub_id, glob.glob('ondrejov-ccd700-6260-6735-normalized/*.fits')))\n",
    "print(len(spectra_pub_ids))\n",
    "donwload_info = list(map(ondrejov_downloader, spectra_pub_ids, count(start=1)))"
   ]
  }
 ],
 "metadata": {
  "kernelspec": {
   "display_name": "Python 3",
   "language": "python",
   "name": "python3"
  },
  "language_info": {
   "codemirror_mode": {
    "name": "ipython",
    "version": 3
   },
   "file_extension": ".py",
   "mimetype": "text/x-python",
   "name": "python",
   "nbconvert_exporter": "python",
   "pygments_lexer": "ipython3",
   "version": "3.4.2"
  }
 },
 "nbformat": 4,
 "nbformat_minor": 2
}
