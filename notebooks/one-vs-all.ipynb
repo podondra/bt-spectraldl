{
 "cells": [
  {
   "cell_type": "markdown",
   "metadata": {
    "deletable": true,
    "editable": true
   },
   "source": [
    "# One-vs-all Logistic Regression"
   ]
  },
  {
   "cell_type": "code",
   "execution_count": 1,
   "metadata": {
    "collapsed": true,
    "deletable": true,
    "editable": true
   },
   "outputs": [],
   "source": [
    "import numpy as np\n",
    "import matplotlib.pyplot as plt\n",
    "import scipy.io\n",
    "import scipy.stats\n",
    "import scipy.optimize\n",
    "%matplotlib inline"
   ]
  },
  {
   "cell_type": "code",
   "execution_count": 2,
   "metadata": {
    "collapsed": false,
    "deletable": true,
    "editable": true
   },
   "outputs": [
    {
     "name": "stdout",
     "output_type": "stream",
     "text": [
      "(5000, 400)\n",
      "(5000,)\n"
     ]
    }
   ],
   "source": [
    "def load_data(filename):\n",
    "    data = scipy.io.loadmat(filename)\n",
    "    y = data['y'].flatten()\n",
    "    y[y == 10] = 0\n",
    "    return data['X'], y\n",
    "\n",
    "X, y = load_data('data/ex3data1.mat')\n",
    "print(X.shape)\n",
    "print(y.shape)"
   ]
  },
  {
   "cell_type": "code",
   "execution_count": 3,
   "metadata": {
    "collapsed": false,
    "deletable": true,
    "editable": true
   },
   "outputs": [
    {
     "data": {
      "image/png": "[encoded data removed]",
      "text/plain": [
       "<matplotlib.figure.Figure at 0x7f9c4ceedd30>"
      ]
     },
     "metadata": {},
     "output_type": "display_data"
    }
   ],
   "source": [
    "def plot_number(img):\n",
    "    plt.imshow(img.reshape(20, 20).T, cmap='gray_r')\n",
    "\n",
    "plot_number(X[0])"
   ]
  },
  {
   "cell_type": "code",
   "execution_count": 4,
   "metadata": {
    "collapsed": false,
    "deletable": true,
    "editable": true
   },
   "outputs": [
    {
     "data": {
      "image/png": "[encoded data removed]",
      "text/plain": [
       "<matplotlib.figure.Figure at 0x7f9c4ceed748>"
      ]
     },
     "metadata": {},
     "output_type": "display_data"
    }
   ],
   "source": [
    "def plot_random(X, y, rows, cols):\n",
    "    size = rows * cols\n",
    "    idxs = np.random.choice(X.shape[0], size=size, replace=False)\n",
    "    for i in range(0, rows):\n",
    "        for j in range(0, cols):\n",
    "            idx = i * cols + j\n",
    "            plt.subplot(rows, cols, idx + 1)\n",
    "            plot_number(X[idxs[idx]])\n",
    "            plt.axis('off')\n",
    "            plt.title(y[idxs[idx]])\n",
    "\n",
    "plot_random(X, y, 1, 10)\n",
    "plt.show()"
   ]
  },
  {
   "cell_type": "code",
   "execution_count": 5,
   "metadata": {
    "collapsed": false,
    "deletable": true,
    "editable": true
   },
   "outputs": [
    {
     "data": {
      "text/plain": [
       "array([[ 1. ,  0.1,  0.6,  1.1],\n",
       "       [ 1. ,  0.2,  0.7,  1.2],\n",
       "       [ 1. ,  0.3,  0.8,  1.3],\n",
       "       [ 1. ,  0.4,  0.9,  1.4],\n",
       "       [ 1. ,  0.5,  1. ,  1.5]])"
      ]
     },
     "execution_count": 5,
     "metadata": {},
     "output_type": "execute_result"
    }
   ],
   "source": [
    "def add_bias(X):\n",
    "    m = X.shape[0]\n",
    "    return np.concatenate((np.ones((m, 1)), X), axis=1)\n",
    "\n",
    "test_X = add_bias(np.arange(1, 16).reshape(3, 5).T / 10)\n",
    "test_X"
   ]
  },
  {
   "cell_type": "code",
   "execution_count": 6,
   "metadata": {
    "collapsed": false,
    "deletable": true,
    "editable": true
   },
   "outputs": [
    {
     "data": {
      "text/plain": [
       "(2.5348193961097434,\n",
       " array([ 0.14656137, -0.54855841,  0.72472227,  1.39800296]))"
      ]
     },
     "execution_count": 6,
     "metadata": {},
     "output_type": "execute_result"
    }
   ],
   "source": [
    "def cost_function(theta, X, y, lam):\n",
    "    # eplison so log will not fail on zeros\n",
    "    EPS = np.finfo(np.float64).eps\n",
    "    m = y.shape[0]\n",
    "    h_theta = scipy.stats.logistic.cdf(X.dot(theta))\n",
    "    m_inv = 1 / m\n",
    "    J = m_inv * (-y.dot(np.log(h_theta + EPS)) - (1 - y).dot(np.log(1 - h_theta + EPS)))\n",
    "    J += (lam / (2 * m)) * np.sum(theta[1:] ** 2)\n",
    "    gradient = m_inv * (h_theta - y).dot(X)\n",
    "    gradient[1:] += (lam / m) * theta[1:]\n",
    "    return J, gradient\n",
    "\n",
    "cost_function(\n",
    "    theta=np.array([-2, -1, 1, 2]),\n",
    "    X=test_X,\n",
    "    y=np.array([1, 0, 1, 0, 1]),\n",
    "    lam=3,\n",
    ")"
   ]
  },
  {
   "cell_type": "code",
   "execution_count": 7,
   "metadata": {
    "collapsed": false,
    "deletable": true,
    "editable": true,
    "scrolled": false
   },
   "outputs": [
    {
     "name": "stdout",
     "output_type": "stream",
     "text": [
      "Optimization terminated successfully.\n",
      "         Current function value: 0.029002\n",
      "         Iterations: 73\n",
      "         Function evaluations: 288\n",
      "         Gradient evaluations: 288\n",
      "Optimization terminated successfully.\n",
      "         Current function value: 0.035495\n",
      "         Iterations: 83\n",
      "         Function evaluations: 339\n",
      "         Gradient evaluations: 339\n",
      "Optimization terminated successfully.\n",
      "         Current function value: 0.079974\n",
      "         Iterations: 68\n",
      "         Function evaluations: 212\n",
      "         Gradient evaluations: 212\n",
      "Optimization terminated successfully.\n",
      "         Current function value: 0.081402\n",
      "         Iterations: 78\n",
      "         Function evaluations: 267\n",
      "         Gradient evaluations: 267\n",
      "Optimization terminated successfully.\n",
      "         Current function value: 0.064211\n",
      "         Iterations: 64\n",
      "         Function evaluations: 195\n",
      "         Gradient evaluations: 195\n",
      "Optimization terminated successfully.\n",
      "         Current function value: 0.092909\n",
      "         Iterations: 77\n",
      "         Function evaluations: 209\n",
      "         Gradient evaluations: 209\n",
      "Optimization terminated successfully.\n",
      "         Current function value: 0.044733\n",
      "         Iterations: 69\n",
      "         Function evaluations: 262\n",
      "         Gradient evaluations: 262\n",
      "Optimization terminated successfully.\n",
      "         Current function value: 0.056943\n",
      "         Iterations: 70\n",
      "         Function evaluations: 236\n",
      "         Gradient evaluations: 236\n",
      "Optimization terminated successfully.\n",
      "         Current function value: 0.103424\n",
      "         Iterations: 78\n",
      "         Function evaluations: 220\n",
      "         Gradient evaluations: 220\n",
      "Optimization terminated successfully.\n",
      "         Current function value: 0.102414\n",
      "         Iterations: 76\n",
      "         Function evaluations: 197\n",
      "         Gradient evaluations: 197\n"
     ]
    }
   ],
   "source": [
    "def one_vs_all(X, y, num_labels, lam):\n",
    "    n = X.shape[1]\n",
    "    theta = np.zeros((num_labels, n))\n",
    "    for c in range(num_labels):\n",
    "        fun = lambda t: cost_function(t, X, y == c, lam)\n",
    "        theta[c, :]= scipy.optimize.minimize(\n",
    "            fun=fun,\n",
    "            x0=np.zeros(n),\n",
    "            jac=True,\n",
    "            options={'maxiter': 500, 'disp': True},\n",
    "            method='CG'\n",
    "        ).x\n",
    "    return theta\n",
    "\n",
    "theta = one_vs_all(add_bias(X), y, num_labels=10, lam=3)"
   ]
  },
  {
   "cell_type": "code",
   "execution_count": 8,
   "metadata": {
    "collapsed": false,
    "deletable": true,
    "editable": true
   },
   "outputs": [
    {
     "data": {
      "image/png": "[encoded data removed]",
      "text/plain": [
       "<matplotlib.figure.Figure at 0x7f9c4ce95e48>"
      ]
     },
     "metadata": {},
     "output_type": "display_data"
    }
   ],
   "source": [
    "def plot_theta(theta, num_labels):\n",
    "    for c in range(num_labels):\n",
    "        plt.subplot(2, num_labels / 2, c + 1)\n",
    "        plt.axis('off')\n",
    "        plt.title(c)\n",
    "        plot_number(theta[c, 1:])\n",
    "\n",
    "plot_theta(theta, 10)"
   ]
  },
  {
   "cell_type": "code",
   "execution_count": 9,
   "metadata": {
    "collapsed": true,
    "deletable": true,
    "editable": true
   },
   "outputs": [],
   "source": [
    "def predict(X, theta):\n",
    "    return np.argmax(X.dot(theta.T), axis=1)"
   ]
  },
  {
   "cell_type": "code",
   "execution_count": 10,
   "metadata": {
    "collapsed": false,
    "deletable": true,
    "editable": true
   },
   "outputs": [
    {
     "name": "stdout",
     "output_type": "stream",
     "text": [
      "training set accuracy: 93.30000000000001%\n"
     ]
    }
   ],
   "source": [
    "predicted = predict(add_bias(X), theta)\n",
    "print('training set accuracy: {}%'.format(\n",
    "    np.mean(predicted == y) * 100\n",
    "))"
   ]
  },
  {
   "cell_type": "markdown",
   "metadata": {},
   "source": [
    "## Display Misslabled"
   ]
  },
  {
   "cell_type": "code",
   "execution_count": 11,
   "metadata": {
    "collapsed": false
   },
   "outputs": [
    {
     "data": {
      "image/png": "[encoded data removed]",
      "text/plain": [
       "<matplotlib.figure.Figure at 0x7f9c4cb38080>"
      ]
     },
     "metadata": {},
     "output_type": "display_data"
    }
   ],
   "source": [
    "miss_idx = predicted != y\n",
    "plot_random(X[miss_idx], predicted[miss_idx], 1, 10)"
   ]
  },
  {
   "cell_type": "code",
   "execution_count": 12,
   "metadata": {
    "collapsed": false
   },
   "outputs": [
    {
     "name": "stdout",
     "output_type": "stream",
     "text": [
      "0: 5.5%\n",
      "1: 0.0%\n",
      "2: 0.1%\n",
      "3: 0.0%\n",
      "4: 0.4%\n",
      "5: 0.0%\n",
      "6: 0.1%\n",
      "7: 31.2%\n",
      "8: 0.7%\n",
      "9: 9.8%\n"
     ]
    },
    {
     "data": {
      "image/png": "[encoded data removed]",
      "text/plain": [
       "<matplotlib.figure.Figure at 0x7f9c4cb479e8>"
      ]
     },
     "metadata": {},
     "output_type": "display_data"
    }
   ],
   "source": [
    "def print_probabilities(x, theta):\n",
    "    z = add_bias(np.array([x])).dot(theta.T)\n",
    "    a = scipy.stats.logistic.cdf(z[0])\n",
    "    for i, p in enumerate(a * 100):\n",
    "        print('{}: {:.1f}%'.format(i, p))\n",
    "\n",
    "def show_misslabeled(X, theta, idx):\n",
    "    a = X[idx]\n",
    "    print_probabilities(a, theta)\n",
    "    plot_number(a)\n",
    "\n",
    "show_misslabeled(X[miss_idx], theta, -1)"
   ]
  }
 ],
 "metadata": {
  "kernelspec": {
   "display_name": "Python 3",
   "language": "python",
   "name": "python3"
  },
  "language_info": {
   "codemirror_mode": {
    "name": "ipython",
    "version": 3
   },
   "file_extension": ".py",
   "mimetype": "text/x-python",
   "name": "python",
   "nbconvert_exporter": "python",
   "pygments_lexer": "ipython3",
   "version": "3.4.2"
  }
 },
 "nbformat": 4,
 "nbformat_minor": 2
}
