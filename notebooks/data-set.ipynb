{
 "cells": [
  {
   "cell_type": "markdown",
   "metadata": {
    "deletable": true,
    "editable": true
   },
   "source": [
    "# Data Set\n",
    "\n",
    "Aim is to create dataset and split it into test and training set.\n",
    "\n",
    "https://cs231n.github.io/neural-networks-2/:\n",
    "An important point to make about the preprocessing is that\n",
    "any preprocessing statistics (e.g. the data mean)\n",
    "must only be computed on the training data.\n",
    "\n",
    "The data is imbalanced.\n",
    "Use http://contrib.scikit-learn.org/imbalanced-learn/index.html."
   ]
  },
  {
   "cell_type": "code",
   "execution_count": 1,
   "metadata": {
    "collapsed": false,
    "deletable": true,
    "editable": true
   },
   "outputs": [],
   "source": [
    "# load the resampled data with labels\n",
    "import os\n",
    "import pickle\n",
    "\n",
    "data_filename = 'ondrejov-halpha-labeled-resampled.pickle'\n",
    "with open(os.path.join('data', data_filename), 'rb') as f:\n",
    "    spectra = pickle.load(f)"
   ]
  },
  {
   "cell_type": "code",
   "execution_count": 2,
   "metadata": {
    "collapsed": true,
    "deletable": true,
    "editable": true
   },
   "outputs": [],
   "source": [
    "import numpy as np"
   ]
  },
  {
   "cell_type": "code",
   "execution_count": 3,
   "metadata": {
    "collapsed": false,
    "deletable": true,
    "editable": true
   },
   "outputs": [
    {
     "name": "stdout",
     "output_type": "stream",
     "text": [
      "label -1:\texamples:   11486\n",
      "label  0:\texamples:     176\n",
      "label  1:\texamples:     172\n",
      "label  2:\texamples:    1186\n",
      "label  3:\texamples:      56\n",
      "label  4:\texamples:     132\n"
     ]
    }
   ],
   "source": [
    "# sturucture of classes and not labeled data\n",
    "data_set_struc = np.unique(\n",
    "    [x['label'] for x in spectra.values()],\n",
    "    return_counts=True\n",
    ")\n",
    "for label, count in zip(*data_set_struc):\n",
    "    print('label {:2}:\\texamples: {:7}'.format(label, count))"
   ]
  },
  {
   "cell_type": "code",
   "execution_count": 4,
   "metadata": {
    "collapsed": false,
    "deletable": true,
    "editable": true
   },
   "outputs": [],
   "source": [
    "# get only labeled data\n",
    "data_set = {\n",
    "    ident: data\n",
    "    for ident, data in spectra.items()\n",
    "    if data['label'] != -1\n",
    "}"
   ]
  },
  {
   "cell_type": "code",
   "execution_count": 5,
   "metadata": {
    "collapsed": false,
    "deletable": true,
    "editable": true
   },
   "outputs": [
    {
     "data": {
      "text/plain": [
       "((1722, 4000), (1722,))"
      ]
     },
     "execution_count": 5,
     "metadata": {},
     "output_type": "execute_result"
    }
   ],
   "source": [
    "# create data matrix X and label vector y\n",
    "X_list = []\n",
    "y_list = []\n",
    "for data in data_set.values():\n",
    "    X_list.append(data['resampled_flux'])\n",
    "    y_list.append(data['label'])\n",
    "    \n",
    "X = np.array(X_list)\n",
    "y = np.array(y_list)\n",
    "X.shape, y.shape"
   ]
  },
  {
   "cell_type": "markdown",
   "metadata": {
    "deletable": true,
    "editable": true
   },
   "source": [
    "## Testing set\n",
    "\n",
    "Split testing set.\n",
    "35 samples from each class.\n",
    "This would give 10/90 percent split."
   ]
  },
  {
   "cell_type": "code",
   "execution_count": 6,
   "metadata": {
    "collapsed": false,
    "deletable": true,
    "editable": true
   },
   "outputs": [
    {
     "name": "stdout",
     "output_type": "stream",
     "text": [
      "test set: 10.16%\n",
      "train set: 89.84%\n"
     ]
    }
   ],
   "source": [
    "n_test = 35\n",
    "n_classes = 5\n",
    "n_test_set = n_test * n_classes\n",
    "total_samples = y.shape[0]\n",
    "print('test set: {:.2f}%\\ntrain set: {:.2f}%'.format(\n",
    "    n_test_set / total_samples * 100,\n",
    "    (total_samples - n_test_set) / total_samples * 100\n",
    "))"
   ]
  },
  {
   "cell_type": "code",
   "execution_count": 7,
   "metadata": {
    "collapsed": true,
    "deletable": true,
    "editable": true
   },
   "outputs": [],
   "source": [
    "from sklearn.model_selection import train_test_split"
   ]
  },
  {
   "cell_type": "code",
   "execution_count": 8,
   "metadata": {
    "collapsed": false,
    "deletable": true,
    "editable": true
   },
   "outputs": [],
   "source": [
    "X_train, y_train = [], []\n",
    "X_test, y_test = [], []\n",
    "for label in range(5):\n",
    "    X_tr, X_te, y_tr, y_te = train_test_split(\n",
    "        X[y == label], y[y == label],\n",
    "        test_size=n_test,\n",
    "        random_state=0\n",
    "    )\n",
    "    X_test.append(X_te)\n",
    "    X_train.append(X_tr)\n",
    "    y_test.append(y_te)\n",
    "    y_train.append(y_tr)\n",
    "\n",
    "X_test = np.concatenate(X_test)\n",
    "X_train = np.concatenate(X_train)\n",
    "y_test = np.concatenate(y_test)\n",
    "y_train = np.concatenate(y_train)"
   ]
  },
  {
   "cell_type": "code",
   "execution_count": 9,
   "metadata": {
    "collapsed": false,
    "deletable": true,
    "editable": true
   },
   "outputs": [
    {
     "data": {
      "text/plain": [
       "(array([0, 1, 2, 3, 4]), array([35, 35, 35, 35, 35]))"
      ]
     },
     "execution_count": 9,
     "metadata": {},
     "output_type": "execute_result"
    }
   ],
   "source": [
    "np.unique(y_test, return_counts=True)"
   ]
  },
  {
   "cell_type": "markdown",
   "metadata": {
    "deletable": true,
    "editable": true
   },
   "source": [
    "## Balancing Training Set\n",
    "\n",
    "https://arxiv.org/pdf/1609.06570v1.pdf"
   ]
  },
  {
   "cell_type": "code",
   "execution_count": 10,
   "metadata": {
    "collapsed": false,
    "deletable": true,
    "editable": true,
    "scrolled": false
   },
   "outputs": [
    {
     "data": {
      "text/plain": [
       "(array([0, 1, 2, 3, 4]), array([ 141,  137, 1151,   21,   97]))"
      ]
     },
     "execution_count": 10,
     "metadata": {},
     "output_type": "execute_result"
    }
   ],
   "source": [
    "np.unique(y_train, return_counts=True)"
   ]
  },
  {
   "cell_type": "code",
   "execution_count": 11,
   "metadata": {
    "collapsed": true,
    "deletable": true,
    "editable": true
   },
   "outputs": [],
   "source": [
    "import imblearn.over_sampling"
   ]
  },
  {
   "cell_type": "code",
   "execution_count": 12,
   "metadata": {
    "collapsed": false,
    "deletable": true,
    "editable": true,
    "scrolled": true
   },
   "outputs": [],
   "source": [
    "# call four times because each time only\n",
    "# one class is balanced\n",
    "for i in range(4):\n",
    "    smote = imblearn.over_sampling.RandomOverSampler()\n",
    "    X_train, y_train = smote.fit_sample(X_train, y_train)\n",
    "    np.unique(y_train, return_counts=True)"
   ]
  },
  {
   "cell_type": "code",
   "execution_count": 13,
   "metadata": {
    "collapsed": false,
    "deletable": true,
    "editable": true
   },
   "outputs": [
    {
     "data": {
      "text/plain": [
       "(array([0, 1, 2, 3, 4]), array([1151, 1151, 1151, 1151, 1151]))"
      ]
     },
     "execution_count": 13,
     "metadata": {},
     "output_type": "execute_result"
    }
   ],
   "source": [
    "np.unique(y_train, return_counts=True)"
   ]
  },
  {
   "cell_type": "markdown",
   "metadata": {},
   "source": [
    "## Pickle"
   ]
  },
  {
   "cell_type": "code",
   "execution_count": 14,
   "metadata": {
    "collapsed": false
   },
   "outputs": [],
   "source": [
    "# serialize the object for later use\n",
    "def serialize_pickle(filename, data):\n",
    "    with open(os.path.join('data', filename), 'wb') as f:\n",
    "        pickle.dump(data, f)\n",
    "\n",
    "serialize_pickle('train_set.pickle', (X_train, y_train))\n",
    "serialize_pickle('test_set.pickle', (X_test, y_test))"
   ]
  }
 ],
 "metadata": {
  "kernelspec": {
   "display_name": "Python 3",
   "language": "python",
   "name": "python3"
  },
  "language_info": {
   "codemirror_mode": {
    "name": "ipython",
    "version": 3
   },
   "file_extension": ".py",
   "mimetype": "text/x-python",
   "name": "python",
   "nbconvert_exporter": "python",
   "pygments_lexer": "ipython3",
   "version": "3.4.2"
  }
 },
 "nbformat": 4,
 "nbformat_minor": 2
}
