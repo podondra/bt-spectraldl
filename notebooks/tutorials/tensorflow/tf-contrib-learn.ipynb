{
 "cells": [
  {
   "cell_type": "markdown",
   "metadata": {
    "deletable": true,
    "editable": true
   },
   "source": [
    "# `tf.contrib.learn` Quickstart\n",
    "\n",
    "https://www.tensorflow.org/get_started/tflearn"
   ]
  },
  {
   "cell_type": "code",
   "execution_count": 1,
   "metadata": {
    "collapsed": true,
    "deletable": true,
    "editable": true
   },
   "outputs": [],
   "source": [
    "import tensorflow as tf\n",
    "import numpy as np"
   ]
  },
  {
   "cell_type": "code",
   "execution_count": 2,
   "metadata": {
    "collapsed": true,
    "deletable": true,
    "editable": true
   },
   "outputs": [],
   "source": [
    "# data sets\n",
    "IRIS_TRAINING = \"iris_training.csv\"\n",
    "IRIS_TEST = \"iris_test.csv\"\n",
    "\n",
    "# load datasets\n",
    "training_set = tf.contrib.learn.datasets.base.load_csv_with_header(\n",
    "    filename=IRIS_TRAINING,\n",
    "    target_dtype=np.int,\n",
    "    features_dtype=np.float32\n",
    ")\n",
    "test_set = tf.contrib.learn.datasets.base.load_csv_with_header(\n",
    "    filename=IRIS_TEST,\n",
    "    target_dtype=np.int,\n",
    "    features_dtype=np.float32\n",
    ")"
   ]
  },
  {
   "cell_type": "markdown",
   "metadata": {
    "deletable": true,
    "editable": true
   },
   "source": [
    "## DNN Classifier"
   ]
  },
  {
   "cell_type": "code",
   "execution_count": 3,
   "metadata": {
    "collapsed": false,
    "deletable": true,
    "editable": true
   },
   "outputs": [
    {
     "name": "stdout",
     "output_type": "stream",
     "text": [
      "INFO:tensorflow:Using default config.\n",
      "INFO:tensorflow:Using config: {'_environment': 'local', '_evaluation_master': '', '_model_dir': None, '_save_summary_steps': 100, '_num_worker_replicas': 0, '_tf_random_seed': None, '_master': '', '_is_chief': True, '_keep_checkpoint_max': 5, '_save_checkpoints_secs': 600, '_task_type': None, '_save_checkpoints_steps': None, '_keep_checkpoint_every_n_hours': 10000, '_task_id': 0, '_cluster_spec': <tensorflow.python.training.server_lib.ClusterSpec object at 0x7f39d91896a0>, '_tf_config': gpu_options {\n",
      "  per_process_gpu_memory_fraction: 1.0\n",
      "}\n",
      ", '_num_ps_replicas': 0}\n"
     ]
    }
   ],
   "source": [
    "# specify that all features have real-value data\n",
    "feature_columns = [\n",
    "    tf.contrib.layers.real_valued_column('', dimension=4)\n",
    "]\n",
    "\n",
    "# build 3 layer DNN with 10, 20, 10 units respectively\n",
    "classifier = tf.contrib.learn.DNNClassifier(\n",
    "    feature_columns=feature_columns,\n",
    "    hidden_units=[10, 20, 10],\n",
    "    n_classes=3,\n",
    "    model_dir=\"/tmp/iris_model\"\n",
    ")"
   ]
  },
  {
   "cell_type": "code",
   "execution_count": 4,
   "metadata": {
    "collapsed": false,
    "deletable": true,
    "editable": true
   },
   "outputs": [
    {
     "name": "stdout",
     "output_type": "stream",
     "text": [
      "WARNING:tensorflow:From <ipython-input-4-bee76f9ce9b8>:5: calling BaseEstimator.fit (from tensorflow.contrib.learn.python.learn.estimators.estimator) with y is deprecated and will be removed after 2016-12-01.\n",
      "Instructions for updating:\n",
      "Estimator is decoupled from Scikit Learn interface by moving into\n",
      "separate class SKCompat. Arguments x, y and batch_size are only\n",
      "available in the SKCompat class, Estimator will only accept input_fn.\n",
      "Example conversion:\n",
      "  est = Estimator(...) -> est = SKCompat(Estimator(...))\n",
      "WARNING:tensorflow:From <ipython-input-4-bee76f9ce9b8>:5: calling BaseEstimator.fit (from tensorflow.contrib.learn.python.learn.estimators.estimator) with x is deprecated and will be removed after 2016-12-01.\n",
      "Instructions for updating:\n",
      "Estimator is decoupled from Scikit Learn interface by moving into\n",
      "separate class SKCompat. Arguments x, y and batch_size are only\n",
      "available in the SKCompat class, Estimator will only accept input_fn.\n",
      "Example conversion:\n",
      "  est = Estimator(...) -> est = SKCompat(Estimator(...))\n",
      "WARNING:tensorflow:From /usr/local/lib/python3.5/dist-packages/tensorflow/contrib/learn/python/learn/estimators/head.py:615: scalar_summary (from tensorflow.python.ops.logging_ops) is deprecated and will be removed after 2016-11-30.\n",
      "Instructions for updating:\n",
      "Please switch to tf.summary.scalar. Note that tf.summary.scalar uses the node name instead of the tag. This means that TensorFlow will automatically de-duplicate summary names based on the scope they are created in. Also, passing a tensor or list of tags to a scalar summary op is no longer supported.\n"
     ]
    },
    {
     "name": "stderr",
     "output_type": "stream",
     "text": [
      "/usr/local/lib/python3.5/dist-packages/tensorflow/python/util/deprecation.py:248: FutureWarning: comparison to `None` will result in an elementwise object comparison in the future.\n",
      "  equality = a == b\n"
     ]
    },
    {
     "name": "stdout",
     "output_type": "stream",
     "text": [
      "INFO:tensorflow:Create CheckpointSaverHook.\n",
      "INFO:tensorflow:Restoring parameters from /tmp/iris_model/model.ckpt-2000\n",
      "INFO:tensorflow:Saving checkpoints for 2001 into /tmp/iris_model/model.ckpt.\n",
      "INFO:tensorflow:step = 2001, loss = 0.0424803\n",
      "INFO:tensorflow:global_step/sec: 263.507\n",
      "INFO:tensorflow:step = 2101, loss = 0.0419024 (0.380 sec)\n",
      "INFO:tensorflow:global_step/sec: 255.943\n",
      "INFO:tensorflow:step = 2201, loss = 0.0413543 (0.391 sec)\n",
      "INFO:tensorflow:global_step/sec: 255.942\n",
      "INFO:tensorflow:step = 2301, loss = 0.0408432 (0.390 sec)\n",
      "INFO:tensorflow:global_step/sec: 252.162\n",
      "INFO:tensorflow:step = 2401, loss = 0.040299 (0.397 sec)\n",
      "INFO:tensorflow:global_step/sec: 229.638\n",
      "INFO:tensorflow:step = 2501, loss = 0.0398135 (0.435 sec)\n",
      "INFO:tensorflow:global_step/sec: 249.942\n",
      "INFO:tensorflow:step = 2601, loss = 0.0393212 (0.400 sec)\n",
      "INFO:tensorflow:global_step/sec: 254.051\n",
      "INFO:tensorflow:step = 2701, loss = 0.0388439 (0.393 sec)\n",
      "INFO:tensorflow:global_step/sec: 258.772\n",
      "INFO:tensorflow:step = 2801, loss = 0.0383914 (0.386 sec)\n",
      "INFO:tensorflow:global_step/sec: 243.982\n",
      "INFO:tensorflow:step = 2901, loss = 0.037937 (0.410 sec)\n",
      "INFO:tensorflow:global_step/sec: 239.609\n",
      "INFO:tensorflow:step = 3001, loss = 0.0375091 (0.417 sec)\n",
      "INFO:tensorflow:global_step/sec: 274.187\n",
      "INFO:tensorflow:step = 3101, loss = 0.0370824 (0.365 sec)\n",
      "INFO:tensorflow:global_step/sec: 256.262\n",
      "INFO:tensorflow:step = 3201, loss = 0.0366755 (0.390 sec)\n",
      "INFO:tensorflow:global_step/sec: 277.437\n",
      "INFO:tensorflow:step = 3301, loss = 0.0362643 (0.360 sec)\n",
      "INFO:tensorflow:global_step/sec: 262.178\n",
      "INFO:tensorflow:step = 3401, loss = 0.0358722 (0.381 sec)\n",
      "INFO:tensorflow:global_step/sec: 247.721\n",
      "INFO:tensorflow:step = 3501, loss = 0.0354891 (0.404 sec)\n",
      "INFO:tensorflow:global_step/sec: 275.058\n",
      "INFO:tensorflow:step = 3601, loss = 0.0351122 (0.364 sec)\n",
      "INFO:tensorflow:global_step/sec: 252.108\n",
      "INFO:tensorflow:step = 3701, loss = 0.0347455 (0.397 sec)\n",
      "INFO:tensorflow:global_step/sec: 250.523\n",
      "INFO:tensorflow:step = 3801, loss = 0.0343877 (0.398 sec)\n",
      "INFO:tensorflow:global_step/sec: 258.344\n",
      "INFO:tensorflow:step = 3901, loss = 0.0340351 (0.387 sec)\n",
      "INFO:tensorflow:Saving checkpoints for 4000 into /tmp/iris_model/model.ckpt.\n",
      "INFO:tensorflow:Loss for final step: 0.0335271.\n"
     ]
    },
    {
     "data": {
      "text/plain": [
       "DNNClassifier(params={'embedding_lr_multipliers': None, 'optimizer': None, 'dropout': None, 'input_layer_min_slice_size': None, 'hidden_units': [10, 20, 10], 'gradient_clip_norm': None, 'feature_columns': (_RealValuedColumn(column_name='', dimension=4, default_value=None, dtype=tf.float32, normalizer=None),), 'activation_fn': <function relu at 0x7f39dd706158>, 'head': <tensorflow.contrib.learn.python.learn.estimators.head._MultiClassHead object at 0x7f39d9189940>})"
      ]
     },
     "execution_count": 4,
     "metadata": {},
     "output_type": "execute_result"
    }
   ],
   "source": [
    "# fit model\n",
    "classifier.fit(\n",
    "    x=training_set.data,\n",
    "    y=training_set.target,\n",
    "    steps=2000,\n",
    ")"
   ]
  },
  {
   "cell_type": "code",
   "execution_count": 5,
   "metadata": {
    "collapsed": false,
    "deletable": true,
    "editable": true
   },
   "outputs": [
    {
     "name": "stdout",
     "output_type": "stream",
     "text": [
      "WARNING:tensorflow:From <ipython-input-5-2e25c1715ce7>:3: calling BaseEstimator.evaluate (from tensorflow.contrib.learn.python.learn.estimators.estimator) with y is deprecated and will be removed after 2016-12-01.\n",
      "Instructions for updating:\n",
      "Estimator is decoupled from Scikit Learn interface by moving into\n",
      "separate class SKCompat. Arguments x, y and batch_size are only\n",
      "available in the SKCompat class, Estimator will only accept input_fn.\n",
      "Example conversion:\n",
      "  est = Estimator(...) -> est = SKCompat(Estimator(...))\n",
      "WARNING:tensorflow:From <ipython-input-5-2e25c1715ce7>:3: calling BaseEstimator.evaluate (from tensorflow.contrib.learn.python.learn.estimators.estimator) with x is deprecated and will be removed after 2016-12-01.\n",
      "Instructions for updating:\n",
      "Estimator is decoupled from Scikit Learn interface by moving into\n",
      "separate class SKCompat. Arguments x, y and batch_size are only\n",
      "available in the SKCompat class, Estimator will only accept input_fn.\n",
      "Example conversion:\n",
      "  est = Estimator(...) -> est = SKCompat(Estimator(...))\n",
      "WARNING:tensorflow:From /usr/local/lib/python3.5/dist-packages/tensorflow/contrib/learn/python/learn/estimators/head.py:615: scalar_summary (from tensorflow.python.ops.logging_ops) is deprecated and will be removed after 2016-11-30.\n",
      "Instructions for updating:\n",
      "Please switch to tf.summary.scalar. Note that tf.summary.scalar uses the node name instead of the tag. This means that TensorFlow will automatically de-duplicate summary names based on the scope they are created in. Also, passing a tensor or list of tags to a scalar summary op is no longer supported.\n",
      "INFO:tensorflow:Starting evaluation at 2017-04-14-07:54:28\n"
     ]
    },
    {
     "name": "stderr",
     "output_type": "stream",
     "text": [
      "/usr/local/lib/python3.5/dist-packages/tensorflow/python/util/deprecation.py:248: FutureWarning: comparison to `None` will result in an elementwise object comparison in the future.\n",
      "  equality = a == b\n"
     ]
    },
    {
     "name": "stdout",
     "output_type": "stream",
     "text": [
      "INFO:tensorflow:Restoring parameters from /tmp/iris_model/model.ckpt-4000\n",
      "INFO:tensorflow:Finished evaluation at 2017-04-14-07:54:28\n",
      "INFO:tensorflow:Saving dict for global step 4000: accuracy = 0.966667, global_step = 4000, loss = 0.0835756\n",
      "WARNING:tensorflow:Skipping summary for global_step, must be a float or np.float32.\n",
      "accuracy: 0.966667\n"
     ]
    }
   ],
   "source": [
    "accuracy_score = classifier.evaluate(\n",
    "    x=test_set.data,\n",
    "    y=test_set.target\n",
    ")['accuracy']\n",
    "print('accuracy: {0:f}'.format(accuracy_score))"
   ]
  },
  {
   "cell_type": "code",
   "execution_count": 6,
   "metadata": {
    "collapsed": false,
    "deletable": true,
    "editable": true
   },
   "outputs": [
    {
     "name": "stdout",
     "output_type": "stream",
     "text": [
      "WARNING:tensorflow:From /usr/local/lib/python3.5/dist-packages/tensorflow/python/util/deprecation.py:335: calling DNNClassifier.predict (from tensorflow.contrib.learn.python.learn.estimators.dnn) with outputs=None is deprecated and will be removed after 2017-03-01.\n",
      "Instructions for updating:\n",
      "Please switch to predict_classes, or set `outputs` argument.\n",
      "WARNING:tensorflow:From /usr/local/lib/python3.5/dist-packages/tensorflow/contrib/learn/python/learn/estimators/dnn.py:422: calling BaseEstimator.predict (from tensorflow.contrib.learn.python.learn.estimators.estimator) with x is deprecated and will be removed after 2016-12-01.\n",
      "Instructions for updating:\n",
      "Estimator is decoupled from Scikit Learn interface by moving into\n",
      "separate class SKCompat. Arguments x, y and batch_size are only\n",
      "available in the SKCompat class, Estimator will only accept input_fn.\n",
      "Example conversion:\n",
      "  est = Estimator(...) -> est = SKCompat(Estimator(...))\n",
      "WARNING:tensorflow:float64 is not supported by many models, consider casting to float32.\n"
     ]
    },
    {
     "name": "stderr",
     "output_type": "stream",
     "text": [
      "/usr/local/lib/python3.5/dist-packages/tensorflow/python/util/deprecation.py:248: FutureWarning: comparison to `None` will result in an elementwise object comparison in the future.\n",
      "  equality = a == b\n"
     ]
    },
    {
     "name": "stdout",
     "output_type": "stream",
     "text": [
      "INFO:tensorflow:Restoring parameters from /tmp/iris_model/model.ckpt-4000\n",
      "predictions: [1, 2]\n"
     ]
    }
   ],
   "source": [
    "# xlassify two new flower samples\n",
    "new_samples = np.array(\n",
    "    [[6.4, 3.2, 4.5, 1.5], [5.8, 3.1, 5.0, 1.7]],\n",
    "    dtype=float\n",
    ")\n",
    "y = list(classifier.predict(new_samples, as_iterable=True))\n",
    "print('predictions: {}'.format(y))"
   ]
  }
 ],
 "metadata": {
  "kernelspec": {
   "display_name": "Python 3",
   "language": "python",
   "name": "python3"
  },
  "language_info": {
   "codemirror_mode": {
    "name": "ipython",
    "version": 3
   },
   "file_extension": ".py",
   "mimetype": "text/x-python",
   "name": "python",
   "nbconvert_exporter": "python",
   "pygments_lexer": "ipython3",
   "version": "3.5.2"
  }
 },
 "nbformat": 4,
 "nbformat_minor": 2
}
