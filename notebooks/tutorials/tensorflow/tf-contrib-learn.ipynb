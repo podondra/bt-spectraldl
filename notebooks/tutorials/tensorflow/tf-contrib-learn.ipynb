{
 "cells": [
  {
   "cell_type": "markdown",
   "metadata": {
    "deletable": true,
    "editable": true
   },
   "source": [
    "# `tf.contrib.learn` Quickstart\n",
    "\n",
    "https://www.tensorflow.org/get_started/tflearn"
   ]
  },
  {
   "cell_type": "code",
   "execution_count": 1,
   "metadata": {
    "collapsed": true,
    "deletable": true,
    "editable": true
   },
   "outputs": [],
   "source": [
    "import tensorflow as tf\n",
    "import numpy as np"
   ]
  },
  {
   "cell_type": "code",
   "execution_count": 2,
   "metadata": {
    "collapsed": true,
    "deletable": true,
    "editable": true
   },
   "outputs": [],
   "source": [
    "# data sets\n",
    "IRIS_TRAINING = \"iris_training.csv\"\n",
    "IRIS_TEST = \"iris_test.csv\"\n",
    "\n",
    "# load datasets\n",
    "training_set = tf.contrib.learn.datasets.base.load_csv_with_header(\n",
    "    filename=IRIS_TRAINING,\n",
    "    target_dtype=np.int,\n",
    "    features_dtype=np.float32\n",
    ")\n",
    "test_set = tf.contrib.learn.datasets.base.load_csv_with_header(\n",
    "    filename=IRIS_TEST,\n",
    "    target_dtype=np.int,\n",
    "    features_dtype=np.float32\n",
    ")"
   ]
  },
  {
   "cell_type": "markdown",
   "metadata": {
    "deletable": true,
    "editable": true
   },
   "source": [
    "## DNN Classifier"
   ]
  },
  {
   "cell_type": "code",
   "execution_count": 3,
   "metadata": {
    "collapsed": false,
    "deletable": true,
    "editable": true
   },
   "outputs": [
    {
     "name": "stdout",
     "output_type": "stream",
     "text": [
      "INFO:tensorflow:Using default config.\n",
      "INFO:tensorflow:Using config: {'_tf_config': gpu_options {\n",
      "  per_process_gpu_memory_fraction: 1.0\n",
      "}\n",
      ", '_save_summary_steps': 100, '_keep_checkpoint_max': 5, '_cluster_spec': <tensorflow.python.training.server_lib.ClusterSpec object at 0x7f4cd2c5acc0>, '_save_checkpoints_secs': 600, '_task_type': None, '_environment': 'local', '_tf_random_seed': None, '_master': '', '_keep_checkpoint_every_n_hours': 10000, '_is_chief': True, '_task_id': 0, '_num_ps_replicas': 0, '_save_checkpoints_steps': None, '_evaluation_master': ''}\n"
     ]
    }
   ],
   "source": [
    "# specify that all features have real-value data\n",
    "feature_columns = [\n",
    "    tf.contrib.layers.real_valued_column('', dimension=4)\n",
    "]\n",
    "\n",
    "# build 3 layer DNN with 10, 20, 10 units respectively\n",
    "classifier = tf.contrib.learn.DNNClassifier(\n",
    "    feature_columns=feature_columns,\n",
    "    hidden_units=[10, 20, 10],\n",
    "    n_classes=3,\n",
    "    model_dir=\"/tmp/iris_model\"\n",
    ")"
   ]
  },
  {
   "cell_type": "code",
   "execution_count": 4,
   "metadata": {
    "collapsed": false,
    "deletable": true,
    "editable": true
   },
   "outputs": [
    {
     "name": "stdout",
     "output_type": "stream",
     "text": [
      "WARNING:tensorflow:From <ipython-input-4-bee76f9ce9b8>:5: calling BaseEstimator.fit (from tensorflow.contrib.learn.python.learn.estimators.estimator) with x is deprecated and will be removed after 2016-12-01.\n",
      "Instructions for updating:\n",
      "Estimator is decoupled from Scikit Learn interface by moving into\n",
      "separate class SKCompat. Arguments x, y and batch_size are only\n",
      "available in the SKCompat class, Estimator will only accept input_fn.\n",
      "Example conversion:\n",
      "  est = Estimator(...) -> est = SKCompat(Estimator(...))\n",
      "WARNING:tensorflow:From <ipython-input-4-bee76f9ce9b8>:5: calling BaseEstimator.fit (from tensorflow.contrib.learn.python.learn.estimators.estimator) with y is deprecated and will be removed after 2016-12-01.\n",
      "Instructions for updating:\n",
      "Estimator is decoupled from Scikit Learn interface by moving into\n",
      "separate class SKCompat. Arguments x, y and batch_size are only\n",
      "available in the SKCompat class, Estimator will only accept input_fn.\n",
      "Example conversion:\n",
      "  est = Estimator(...) -> est = SKCompat(Estimator(...))\n",
      "WARNING:tensorflow:From /home/podondra/bt-text/notebooks/venv/lib/python3.4/site-packages/tensorflow/contrib/learn/python/learn/estimators/head.py:1362: scalar_summary (from tensorflow.python.ops.logging_ops) is deprecated and will be removed after 2016-11-30.\n",
      "Instructions for updating:\n",
      "Please switch to tf.summary.scalar. Note that tf.summary.scalar uses the node name instead of the tag. This means that TensorFlow will automatically de-duplicate summary names based on the scope they are created in. Also, passing a tensor or list of tags to a scalar summary op is no longer supported.\n"
     ]
    },
    {
     "name": "stderr",
     "output_type": "stream",
     "text": [
      "/home/podondra/bt-text/notebooks/venv/lib/python3.4/site-packages/tensorflow/python/util/deprecation.py:247: FutureWarning: comparison to `None` will result in an elementwise object comparison in the future.\n",
      "  equality = a == b\n"
     ]
    },
    {
     "name": "stdout",
     "output_type": "stream",
     "text": [
      "INFO:tensorflow:Create CheckpointSaverHook.\n",
      "INFO:tensorflow:Saving checkpoints for 1 into /tmp/iris_model/model.ckpt.\n",
      "INFO:tensorflow:loss = 1.16809, step = 1\n",
      "INFO:tensorflow:global_step/sec: 279.131\n",
      "INFO:tensorflow:loss = 0.108273, step = 101\n",
      "INFO:tensorflow:global_step/sec: 266.328\n",
      "INFO:tensorflow:loss = 0.0695822, step = 201\n",
      "INFO:tensorflow:global_step/sec: 268.848\n",
      "INFO:tensorflow:loss = 0.0625784, step = 301\n",
      "INFO:tensorflow:global_step/sec: 295.976\n",
      "INFO:tensorflow:loss = 0.0581714, step = 401\n",
      "INFO:tensorflow:global_step/sec: 270.153\n",
      "INFO:tensorflow:loss = 0.0555939, step = 501\n",
      "INFO:tensorflow:global_step/sec: 281.75\n",
      "INFO:tensorflow:loss = 0.0532198, step = 601\n",
      "INFO:tensorflow:global_step/sec: 291.076\n",
      "INFO:tensorflow:loss = 0.0514107, step = 701\n",
      "INFO:tensorflow:global_step/sec: 299.586\n",
      "INFO:tensorflow:loss = 0.0499662, step = 801\n",
      "INFO:tensorflow:global_step/sec: 291.915\n",
      "INFO:tensorflow:loss = 0.0486511, step = 901\n",
      "INFO:tensorflow:global_step/sec: 296.427\n",
      "INFO:tensorflow:loss = 0.0476125, step = 1001\n",
      "INFO:tensorflow:global_step/sec: 301.972\n",
      "INFO:tensorflow:loss = 0.0466046, step = 1101\n",
      "INFO:tensorflow:global_step/sec: 292.901\n",
      "INFO:tensorflow:loss = 0.0456918, step = 1201\n",
      "INFO:tensorflow:global_step/sec: 296.66\n",
      "INFO:tensorflow:loss = 0.0448524, step = 1301\n",
      "INFO:tensorflow:global_step/sec: 288.685\n",
      "INFO:tensorflow:loss = 0.0439824, step = 1401\n",
      "INFO:tensorflow:global_step/sec: 311.897\n",
      "INFO:tensorflow:loss = 0.0432564, step = 1501\n",
      "INFO:tensorflow:global_step/sec: 307.426\n",
      "INFO:tensorflow:loss = 0.0425215, step = 1601\n",
      "INFO:tensorflow:global_step/sec: 296.607\n",
      "INFO:tensorflow:loss = 0.0418431, step = 1701\n",
      "INFO:tensorflow:global_step/sec: 293.003\n",
      "INFO:tensorflow:loss = 0.04111, step = 1801\n",
      "INFO:tensorflow:global_step/sec: 271.136\n",
      "INFO:tensorflow:loss = 0.0404864, step = 1901\n",
      "INFO:tensorflow:Saving checkpoints for 2000 into /tmp/iris_model/model.ckpt.\n",
      "INFO:tensorflow:Loss for final step: 0.0398319.\n"
     ]
    },
    {
     "data": {
      "text/plain": [
       "DNNClassifier(params={'embedding_lr_multipliers': None, 'input_layer_min_slice_size': None, 'hidden_units': [10, 20, 10], 'activation_fn': <function relu at 0x7f4cd30e4ae8>, 'feature_columns': (_RealValuedColumn(column_name='', dimension=4, default_value=None, dtype=tf.float32, normalizer=None),), 'dropout': None, 'gradient_clip_norm': None, 'head': <tensorflow.contrib.learn.python.learn.estimators.head._MultiClassHead object at 0x7f4cd2c5a5c0>, 'optimizer': None})"
      ]
     },
     "execution_count": 4,
     "metadata": {},
     "output_type": "execute_result"
    }
   ],
   "source": [
    "# fit model\n",
    "classifier.fit(\n",
    "    x=training_set.data,\n",
    "    y=training_set.target,\n",
    "    steps=2000,\n",
    ")"
   ]
  },
  {
   "cell_type": "code",
   "execution_count": 5,
   "metadata": {
    "collapsed": false,
    "deletable": true,
    "editable": true
   },
   "outputs": [
    {
     "name": "stdout",
     "output_type": "stream",
     "text": [
      "WARNING:tensorflow:From <ipython-input-5-2e25c1715ce7>:4: calling BaseEstimator.evaluate (from tensorflow.contrib.learn.python.learn.estimators.estimator) with x is deprecated and will be removed after 2016-12-01.\n",
      "Instructions for updating:\n",
      "Estimator is decoupled from Scikit Learn interface by moving into\n",
      "separate class SKCompat. Arguments x, y and batch_size are only\n",
      "available in the SKCompat class, Estimator will only accept input_fn.\n",
      "Example conversion:\n",
      "  est = Estimator(...) -> est = SKCompat(Estimator(...))\n",
      "WARNING:tensorflow:From <ipython-input-5-2e25c1715ce7>:4: calling BaseEstimator.evaluate (from tensorflow.contrib.learn.python.learn.estimators.estimator) with y is deprecated and will be removed after 2016-12-01.\n",
      "Instructions for updating:\n",
      "Estimator is decoupled from Scikit Learn interface by moving into\n",
      "separate class SKCompat. Arguments x, y and batch_size are only\n",
      "available in the SKCompat class, Estimator will only accept input_fn.\n",
      "Example conversion:\n",
      "  est = Estimator(...) -> est = SKCompat(Estimator(...))\n",
      "WARNING:tensorflow:From /home/podondra/bt-text/notebooks/venv/lib/python3.4/site-packages/tensorflow/contrib/learn/python/learn/estimators/head.py:1362: scalar_summary (from tensorflow.python.ops.logging_ops) is deprecated and will be removed after 2016-11-30.\n",
      "Instructions for updating:\n",
      "Please switch to tf.summary.scalar. Note that tf.summary.scalar uses the node name instead of the tag. This means that TensorFlow will automatically de-duplicate summary names based on the scope they are created in. Also, passing a tensor or list of tags to a scalar summary op is no longer supported.\n"
     ]
    },
    {
     "name": "stderr",
     "output_type": "stream",
     "text": [
      "/home/podondra/bt-text/notebooks/venv/lib/python3.4/site-packages/tensorflow/python/util/deprecation.py:247: FutureWarning: comparison to `None` will result in an elementwise object comparison in the future.\n",
      "  equality = a == b\n"
     ]
    },
    {
     "name": "stdout",
     "output_type": "stream",
     "text": [
      "INFO:tensorflow:Starting evaluation at 2017-03-21-21:43:37\n",
      "INFO:tensorflow:Finished evaluation at 2017-03-21-21:43:38\n",
      "INFO:tensorflow:Saving dict for global step 2000: accuracy = 0.966667, auc = 0.998333, global_step = 2000, loss = 0.0648587\n",
      "WARNING:tensorflow:Skipping summary for global_step, must be a float or np.float32.\n",
      "accuracy: 0.966667\n"
     ]
    }
   ],
   "source": [
    "accuracy_score = classifier.evaluate(\n",
    "    x=test_set.data,\n",
    "    y=test_set.target\n",
    ")['accuracy']\n",
    "print('accuracy: {0:f}'.format(accuracy_score))"
   ]
  },
  {
   "cell_type": "code",
   "execution_count": 6,
   "metadata": {
    "collapsed": false,
    "deletable": true,
    "editable": true
   },
   "outputs": [
    {
     "name": "stdout",
     "output_type": "stream",
     "text": [
      "WARNING:tensorflow:From /home/podondra/bt-text/notebooks/venv/lib/python3.4/site-packages/tensorflow/contrib/learn/python/learn/estimators/dnn.py:374: calling BaseEstimator.predict (from tensorflow.contrib.learn.python.learn.estimators.estimator) with x is deprecated and will be removed after 2016-12-01.\n",
      "Instructions for updating:\n",
      "Estimator is decoupled from Scikit Learn interface by moving into\n",
      "separate class SKCompat. Arguments x, y and batch_size are only\n",
      "available in the SKCompat class, Estimator will only accept input_fn.\n",
      "Example conversion:\n",
      "  est = Estimator(...) -> est = SKCompat(Estimator(...))\n",
      "WARNING:tensorflow:float64 is not supported by many models, consider casting to float32.\n"
     ]
    },
    {
     "name": "stderr",
     "output_type": "stream",
     "text": [
      "/home/podondra/bt-text/notebooks/venv/lib/python3.4/site-packages/tensorflow/python/util/deprecation.py:247: FutureWarning: comparison to `None` will result in an elementwise object comparison in the future.\n",
      "  equality = a == b\n"
     ]
    },
    {
     "name": "stdout",
     "output_type": "stream",
     "text": [
      "predictions: [1, 2]\n"
     ]
    }
   ],
   "source": [
    "# xlassify two new flower samples\n",
    "new_samples = np.array(\n",
    "    [[6.4, 3.2, 4.5, 1.5], [5.8, 3.1, 5.0, 1.7]],\n",
    "    dtype=float\n",
    ")\n",
    "y = list(classifier.predict(new_samples, as_iterable=True))\n",
    "print('predictions: {}'.format(y))"
   ]
  }
 ],
 "metadata": {
  "kernelspec": {
   "display_name": "Python 3",
   "language": "python",
   "name": "python3"
  },
  "language_info": {
   "codemirror_mode": {
    "name": "ipython",
    "version": 3
   },
   "file_extension": ".py",
   "mimetype": "text/x-python",
   "name": "python",
   "nbconvert_exporter": "python",
   "pygments_lexer": "ipython3",
   "version": "3.4.2"
  }
 },
 "nbformat": 4,
 "nbformat_minor": 2
}
