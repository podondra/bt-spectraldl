{
 "cells": [
  {
   "cell_type": "markdown",
   "metadata": {
    "deletable": true,
    "editable": true
   },
   "source": [
    "# TensorFlow\n",
    "\n",
    "https://www.tensorflow.org/get_started/get_started\n",
    "\n",
    "This notebook makes learning survey throught TensorFlow.\n",
    "Some part will be used in bachelor thesis."
   ]
  },
  {
   "cell_type": "markdown",
   "metadata": {
    "deletable": true,
    "editable": true
   },
   "source": [
    "## Tensors\n",
    "\n",
    "Central unit of data is the **tensor**.\n",
    "It is a set of primitive values shaped into an array of any\n",
    "number of\n",
    "dimensions.\n",
    "A tensor's **rank** is its number of dimensions."
   ]
  },
  {
   "cell_type": "code",
   "execution_count": 1,
   "metadata": {
    "collapsed": false,
    "deletable": true,
    "editable": true
   },
   "outputs": [
    {
     "data": {
      "text/plain": [
       "[[[1.0, 2.0, 3.0]], [[7.0, 8.0, 9.0]]]"
      ]
     },
     "execution_count": 1,
     "metadata": {},
     "output_type": "execute_result"
    }
   ],
   "source": [
    "3.                               # rank 0, scalar\n",
    "[1., 2., 3.]                     # rank 1, vector\n",
    "[[1., 2., 3.], [4., 5., 6.]]     # rank 2; matrix\n",
    "[[[1., 2., 3.]], [[7., 8., 9.]]] # rank 3 with shape [2, 1, 3]"
   ]
  },
  {
   "cell_type": "markdown",
   "metadata": {
    "deletable": true,
    "editable": true
   },
   "source": [
    "## TensorFlow Core Tutorial"
   ]
  },
  {
   "cell_type": "code",
   "execution_count": 2,
   "metadata": {
    "collapsed": true,
    "deletable": true,
    "editable": true
   },
   "outputs": [],
   "source": [
    "# canonical import statement\n",
    "import tensorflow as tf"
   ]
  },
  {
   "cell_type": "markdown",
   "metadata": {
    "deletable": true,
    "editable": true
   },
   "source": [
    "### The Computational Graph\n",
    "\n",
    "TF Core program consist of:\n",
    "\n",
    "1. building the graph\n",
    "2. running the graph\n",
    "\n",
    "A **computational graph** is a series of TF operations\n",
    "arranged into a graph of nodes.\n",
    "Each node takes zero or more tensors as inputs and\n",
    "produces a tensor as an output.\n",
    "One type is a constant."
   ]
  },
  {
   "cell_type": "code",
   "execution_count": 3,
   "metadata": {
    "collapsed": false,
    "deletable": true,
    "editable": true
   },
   "outputs": [
    {
     "data": {
      "text/plain": [
       "(<tf.Tensor 'Const:0' shape=() dtype=float32>,\n",
       " <tf.Tensor 'Const_1:0' shape=() dtype=float32>)"
      ]
     },
     "execution_count": 3,
     "metadata": {},
     "output_type": "execute_result"
    }
   ],
   "source": [
    "node1 = tf.constant(3.0, tf.float32)\n",
    "node2 = tf.constant(4.0) # also tf.float32 implicitly\n",
    "node1, node2"
   ]
  },
  {
   "cell_type": "markdown",
   "metadata": {
    "deletable": true,
    "editable": true
   },
   "source": [
    "Noticce that the nodes does not output the values.\n",
    "Instead when evaluated they would produce the values 3.0\n",
    "and 4.0.\n",
    "\n",
    "To evaluate the nodes, a **session** has to be created.\n",
    "A session encapsulates the control and state of the TF\n",
    "runtime."
   ]
  },
  {
   "cell_type": "code",
   "execution_count": 4,
   "metadata": {
    "collapsed": false,
    "deletable": true,
    "editable": true
   },
   "outputs": [
    {
     "data": {
      "text/plain": [
       "[3.0, 4.0]"
      ]
     },
     "execution_count": 4,
     "metadata": {},
     "output_type": "execute_result"
    }
   ],
   "source": [
    "sess = tf.Session()\n",
    "sess.run([node1, node2])"
   ]
  },
  {
   "cell_type": "markdown",
   "metadata": {
    "deletable": true,
    "editable": true
   },
   "source": [
    "More complicated computation are built by combining nodes\n",
    "with operations."
   ]
  },
  {
   "cell_type": "code",
   "execution_count": 5,
   "metadata": {
    "collapsed": false,
    "deletable": true,
    "editable": true
   },
   "outputs": [
    {
     "name": "stdout",
     "output_type": "stream",
     "text": [
      "node3: Tensor(\"Add:0\", shape=(), dtype=float32)\n",
      "run: 7.0\n"
     ]
    }
   ],
   "source": [
    "node3 = tf.add(node1, node2)\n",
    "print('node3:', node3)\n",
    "print('run:', sess.run(node3))"
   ]
  },
  {
   "cell_type": "markdown",
   "metadata": {
    "deletable": true,
    "editable": true
   },
   "source": [
    "A graph can be parameterized to accept external inputs\n",
    "known as **placeholders**.\n",
    "A **placeholder** is a promise to provide a value later."
   ]
  },
  {
   "cell_type": "code",
   "execution_count": 6,
   "metadata": {
    "collapsed": true,
    "deletable": true,
    "editable": true
   },
   "outputs": [],
   "source": [
    "a = tf.placeholder(tf.float32)\n",
    "b = tf.placeholder(tf.float32)\n",
    "adder_node = a + b    # shortcut for tf.add(a, b)"
   ]
  },
  {
   "cell_type": "markdown",
   "metadata": {
    "deletable": true,
    "editable": true
   },
   "source": [
    "This graph can be evaluated with multiple inputs by using\n",
    "`feed_dict` parameter to specify tensors that provide\n",
    "concrete values."
   ]
  },
  {
   "cell_type": "code",
   "execution_count": 7,
   "metadata": {
    "collapsed": false,
    "deletable": true,
    "editable": true
   },
   "outputs": [
    {
     "name": "stdout",
     "output_type": "stream",
     "text": [
      "7.5\n",
      "[ 3.  7.]\n"
     ]
    }
   ],
   "source": [
    "print(sess.run(adder_node, {a: 3, b: 4.5}))\n",
    "print(sess.run(adder_node, {a: [1, 3], b: [2, 4]}))"
   ]
  },
  {
   "cell_type": "code",
   "execution_count": 8,
   "metadata": {
    "collapsed": false,
    "deletable": true,
    "editable": true
   },
   "outputs": [
    {
     "name": "stdout",
     "output_type": "stream",
     "text": [
      "22.5\n"
     ]
    }
   ],
   "source": [
    "add_and_triple = adder_node * 3.\n",
    "print(sess.run(add_and_triple, {a: 3, b: 4.5}))"
   ]
  },
  {
   "cell_type": "markdown",
   "metadata": {
    "deletable": true,
    "editable": true
   },
   "source": [
    "Machine learning wanta a model that takse arbitrary inputs.\n",
    "To make the model trainable the graph need to be modifiable\n",
    "to get new outputs with the same inputs.\n",
    "**Variables** allow to add trainable parameters."
   ]
  },
  {
   "cell_type": "code",
   "execution_count": 9,
   "metadata": {
    "collapsed": true,
    "deletable": true,
    "editable": true
   },
   "outputs": [],
   "source": [
    "W = tf.Variable([.3], tf.float32)\n",
    "b = tf.Variable([-.3], tf.float32)\n",
    "x = tf.placeholder(tf.float32)\n",
    "linear_model = W * x + b"
   ]
  },
  {
   "cell_type": "markdown",
   "metadata": {
    "deletable": true,
    "editable": true
   },
   "source": [
    "Constants are initialized when `tf.constant` is called and\n",
    "their value can never change.\n",
    "By contrast, variables are not initialized when\n",
    "`tf.Variable` is called."
   ]
  },
  {
   "cell_type": "code",
   "execution_count": 10,
   "metadata": {
    "collapsed": true,
    "deletable": true,
    "editable": true
   },
   "outputs": [],
   "source": [
    "# initialize variables\n",
    "init = tf.global_variables_initializer()\n",
    "sess.run(init)"
   ]
  },
  {
   "cell_type": "code",
   "execution_count": 11,
   "metadata": {
    "collapsed": false,
    "deletable": true,
    "editable": true
   },
   "outputs": [
    {
     "data": {
      "text/plain": [
       "array([ 0.        ,  0.30000001,  0.60000002,  0.90000004], dtype=float32)"
      ]
     },
     "execution_count": 11,
     "metadata": {},
     "output_type": "execute_result"
    }
   ],
   "source": [
    "sess.run(linear_model, {x: range(1, 5)})"
   ]
  },
  {
   "cell_type": "code",
   "execution_count": 12,
   "metadata": {
    "collapsed": false,
    "deletable": true,
    "editable": true
   },
   "outputs": [
    {
     "data": {
      "text/plain": [
       "23.66"
      ]
     },
     "execution_count": 12,
     "metadata": {},
     "output_type": "execute_result"
    }
   ],
   "source": [
    "# desired values\n",
    "y = tf.placeholder(tf.float32)\n",
    "# loss funciton\n",
    "squared_deltas = tf.square(linear_model - y)\n",
    "loss = tf.reduce_sum(squared_deltas)\n",
    "sess.run(loss, {x: range(1, 5), y: [0, -1, -2, -3]})"
   ]
  },
  {
   "cell_type": "markdown",
   "metadata": {
    "deletable": true,
    "editable": true
   },
   "source": [
    "Variables can be reassigned."
   ]
  },
  {
   "cell_type": "code",
   "execution_count": 13,
   "metadata": {
    "collapsed": false,
    "deletable": true,
    "editable": true
   },
   "outputs": [
    {
     "data": {
      "text/plain": [
       "0.0"
      ]
     },
     "execution_count": 13,
     "metadata": {},
     "output_type": "execute_result"
    }
   ],
   "source": [
    "fixW = tf.assign(W, [-1.])\n",
    "fixb = tf.assign(b, [1.])\n",
    "sess.run([fixW, fixb])\n",
    "sess.run(loss, {x: range(1, 5), y: [0, -1, -2, -3]})"
   ]
  },
  {
   "cell_type": "markdown",
   "metadata": {
    "deletable": true,
    "editable": true
   },
   "source": [
    "### tf.train API"
   ]
  },
  {
   "cell_type": "markdown",
   "metadata": {
    "deletable": true,
    "editable": true
   },
   "source": [
    "TF provides **oprimizers** which minimize the loss\n",
    "function.\n",
    "The simplest is **gradient descent**.\n",
    "TF can automatically produce derivatives given only a\n",
    "desctiption of the model using `tf.gradients`.\n",
    "Optimizers typically do this automatically."
   ]
  },
  {
   "cell_type": "code",
   "execution_count": 14,
   "metadata": {
    "collapsed": true,
    "deletable": true,
    "editable": true
   },
   "outputs": [],
   "source": [
    "optimizer = tf.train.GradientDescentOptimizer(0.01)\n",
    "train = optimizer.minimize(loss)"
   ]
  },
  {
   "cell_type": "code",
   "execution_count": 15,
   "metadata": {
    "collapsed": false,
    "deletable": true,
    "editable": true
   },
   "outputs": [
    {
     "name": "stdout",
     "output_type": "stream",
     "text": [
      "W: [-0.9999969]\n",
      "b: [ 0.99999082]\n",
      "loss: 5.699973826267524e-11\n"
     ]
    }
   ],
   "source": [
    "x_train = [1., 2., 3., 4.]\n",
    "y_train = [0., -1., -2., -3.]\n",
    "\n",
    "sess.run(init) # reset variables\n",
    "for i in range(1000):\n",
    "    sess.run(train, {x: x_train, y: y_train})\n",
    "\n",
    "curr_W, curr_b, curr_loss = sess.run(\n",
    "    [W, b, loss],\n",
    "    {x: x_train, y: y_train}\n",
    ")\n",
    "print('W: {}\\nb: {}\\nloss: {}'.format(curr_W, curr_b, curr_loss))"
   ]
  },
  {
   "cell_type": "markdown",
   "metadata": {
    "deletable": true,
    "editable": true
   },
   "source": [
    "### tf.contrib.learn\n",
    "\n",
    "`tf.contrib.learn` is a high-level TF library that\n",
    "simplifies machine learning:\n",
    "\n",
    "* running training loops\n",
    "* running evaluation loops\n",
    "* managing data sets\n",
    "* managing feeding\n",
    "* defines many common models\n",
    "\n",
    "#### Basic Usage"
   ]
  },
  {
   "cell_type": "code",
   "execution_count": 16,
   "metadata": {
    "collapsed": true,
    "deletable": true,
    "editable": true
   },
   "outputs": [],
   "source": [
    "import numpy as np"
   ]
  },
  {
   "cell_type": "code",
   "execution_count": 17,
   "metadata": {
    "collapsed": false,
    "deletable": true,
    "editable": true
   },
   "outputs": [
    {
     "name": "stdout",
     "output_type": "stream",
     "text": [
      "INFO:tensorflow:Using default config.\n",
      "INFO:tensorflow:Using config: {'_save_checkpoints_steps': None, '_num_worker_replicas': 0, '_model_dir': None, '_tf_random_seed': None, '_keep_checkpoint_every_n_hours': 10000, '_task_type': None, '_is_chief': True, '_tf_config': gpu_options {\n",
      "  per_process_gpu_memory_fraction: 1.0\n",
      "}\n",
      ", '_keep_checkpoint_max': 5, '_save_summary_steps': 100, '_cluster_spec': <tensorflow.python.training.server_lib.ClusterSpec object at 0x7f05c3d557f0>, '_evaluation_master': '', '_environment': 'local', '_task_id': 0, '_save_checkpoints_secs': 600, '_master': '', '_num_ps_replicas': 0}\n",
      "WARNING:tensorflow:Using temporary folder as model directory: /tmp/tmpg6olie1q\n",
      "WARNING:tensorflow:Rank of input Tensor (1) should be the same as output_rank (2) for column. Will attempt to expand dims. It is highly recommended that you resize your input, as this behavior may change.\n",
      "WARNING:tensorflow:From /usr/local/lib/python3.5/dist-packages/tensorflow/contrib/learn/python/learn/estimators/head.py:615: scalar_summary (from tensorflow.python.ops.logging_ops) is deprecated and will be removed after 2016-11-30.\n",
      "Instructions for updating:\n",
      "Please switch to tf.summary.scalar. Note that tf.summary.scalar uses the node name instead of the tag. This means that TensorFlow will automatically de-duplicate summary names based on the scope they are created in. Also, passing a tensor or list of tags to a scalar summary op is no longer supported.\n",
      "INFO:tensorflow:Create CheckpointSaverHook.\n",
      "INFO:tensorflow:Saving checkpoints for 1 into /tmp/tmpg6olie1q/model.ckpt.\n",
      "INFO:tensorflow:step = 1, loss = 3.5\n",
      "INFO:tensorflow:global_step/sec: 252.8\n",
      "INFO:tensorflow:step = 101, loss = 0.0728899 (0.397 sec)\n",
      "INFO:tensorflow:global_step/sec: 257.411\n",
      "INFO:tensorflow:step = 201, loss = 0.00345574 (0.389 sec)\n",
      "INFO:tensorflow:global_step/sec: 268.303\n",
      "INFO:tensorflow:step = 301, loss = 0.000501127 (0.373 sec)\n",
      "INFO:tensorflow:global_step/sec: 364.536\n",
      "INFO:tensorflow:step = 401, loss = 0.000320359 (0.275 sec)\n",
      "INFO:tensorflow:global_step/sec: 254.863\n",
      "INFO:tensorflow:step = 501, loss = 0.000162428 (0.392 sec)\n",
      "INFO:tensorflow:global_step/sec: 268.823\n",
      "INFO:tensorflow:step = 601, loss = 2.56594e-05 (0.372 sec)\n",
      "INFO:tensorflow:global_step/sec: 229.89\n",
      "INFO:tensorflow:step = 701, loss = 2.04887e-06 (0.435 sec)\n",
      "INFO:tensorflow:global_step/sec: 226.927\n",
      "INFO:tensorflow:step = 801, loss = 1.78942e-06 (0.441 sec)\n",
      "INFO:tensorflow:global_step/sec: 263.159\n",
      "INFO:tensorflow:step = 901, loss = 3.5953e-07 (0.380 sec)\n",
      "INFO:tensorflow:Saving checkpoints for 1000 into /tmp/tmpg6olie1q/model.ckpt.\n",
      "INFO:tensorflow:Loss for final step: 2.95471e-08.\n",
      "WARNING:tensorflow:Rank of input Tensor (1) should be the same as output_rank (2) for column. Will attempt to expand dims. It is highly recommended that you resize your input, as this behavior may change.\n",
      "WARNING:tensorflow:From /usr/local/lib/python3.5/dist-packages/tensorflow/contrib/learn/python/learn/estimators/head.py:615: scalar_summary (from tensorflow.python.ops.logging_ops) is deprecated and will be removed after 2016-11-30.\n",
      "Instructions for updating:\n",
      "Please switch to tf.summary.scalar. Note that tf.summary.scalar uses the node name instead of the tag. This means that TensorFlow will automatically de-duplicate summary names based on the scope they are created in. Also, passing a tensor or list of tags to a scalar summary op is no longer supported.\n",
      "INFO:tensorflow:Starting evaluation at 2017-04-14-07:45:56\n",
      "INFO:tensorflow:Restoring parameters from /tmp/tmpg6olie1q/model.ckpt-1000\n",
      "INFO:tensorflow:Finished evaluation at 2017-04-14-07:45:58\n",
      "INFO:tensorflow:Saving dict for global step 1000: global_step = 1000, loss = 2.88729e-08\n",
      "WARNING:tensorflow:Skipping summary for global_step, must be a float or np.float32.\n"
     ]
    },
    {
     "data": {
      "text/plain": [
       "{'global_step': 1000, 'loss': 2.8872867e-08}"
      ]
     },
     "execution_count": 17,
     "metadata": {},
     "output_type": "execute_result"
    }
   ],
   "source": [
    "# declare list of features\n",
    "features = [tf.contrib.layers.real_valued_column(\n",
    "    'x',\n",
    "    dimension=1\n",
    ")]\n",
    "\n",
    "# estimator is the front end to invoke training and\n",
    "# evaluation\n",
    "estimator = tf.contrib.learn.LinearRegressor(\n",
    "    feature_columns=features\n",
    ")\n",
    "\n",
    "# helper method to read and set up dataset\n",
    "x = np.array(x_train)\n",
    "y = np.array(y_train)\n",
    "input_fn = tf.contrib.learn.io.numpy_input_fn(\n",
    "    {'x': x},\n",
    "    y,\n",
    "    batch_size=4,\n",
    "    num_epochs=1000\n",
    ")\n",
    "\n",
    "# invoke training\n",
    "estimator.fit(input_fn=input_fn, steps=1000)\n",
    "\n",
    "# evaluate how well the model did\n",
    "estimator.evaluate(input_fn=input_fn)"
   ]
  },
  {
   "cell_type": "markdown",
   "metadata": {
    "deletable": true,
    "editable": true
   },
   "source": [
    "#### Custom Model"
   ]
  },
  {
   "cell_type": "code",
   "execution_count": 18,
   "metadata": {
    "collapsed": false,
    "deletable": true,
    "editable": true
   },
   "outputs": [
    {
     "name": "stdout",
     "output_type": "stream",
     "text": [
      "INFO:tensorflow:Using default config.\n",
      "INFO:tensorflow:Using config: {'_save_checkpoints_steps': None, '_num_worker_replicas': 0, '_model_dir': None, '_tf_random_seed': None, '_keep_checkpoint_every_n_hours': 10000, '_task_type': None, '_is_chief': True, '_tf_config': gpu_options {\n",
      "  per_process_gpu_memory_fraction: 1.0\n",
      "}\n",
      ", '_keep_checkpoint_max': 5, '_save_summary_steps': 100, '_cluster_spec': <tensorflow.python.training.server_lib.ClusterSpec object at 0x7f05f97196a0>, '_evaluation_master': '', '_environment': 'local', '_task_id': 0, '_save_checkpoints_secs': 600, '_master': '', '_num_ps_replicas': 0}\n",
      "WARNING:tensorflow:Using temporary folder as model directory: /tmp/tmpn34ik9ti\n",
      "INFO:tensorflow:Create CheckpointSaverHook.\n",
      "INFO:tensorflow:Saving checkpoints for 1 into /tmp/tmpn34ik9ti/model.ckpt.\n",
      "INFO:tensorflow:step = 1, loss = 215.082694619\n",
      "INFO:tensorflow:global_step/sec: 370.57\n",
      "INFO:tensorflow:step = 101, loss = 0.194454121533 (0.272 sec)\n",
      "INFO:tensorflow:global_step/sec: 393.316\n",
      "INFO:tensorflow:step = 201, loss = 0.033620325925 (0.255 sec)\n",
      "INFO:tensorflow:global_step/sec: 442.771\n",
      "INFO:tensorflow:step = 301, loss = 0.00144392193362 (0.225 sec)\n",
      "INFO:tensorflow:global_step/sec: 424.267\n",
      "INFO:tensorflow:step = 401, loss = 0.000105504728298 (0.236 sec)\n",
      "INFO:tensorflow:global_step/sec: 353.627\n",
      "INFO:tensorflow:step = 501, loss = 3.37367067379e-05 (0.285 sec)\n",
      "INFO:tensorflow:global_step/sec: 395.407\n",
      "INFO:tensorflow:step = 601, loss = 5.89061806678e-07 (0.251 sec)\n",
      "INFO:tensorflow:global_step/sec: 420.546\n",
      "INFO:tensorflow:step = 701, loss = 5.57455732342e-08 (0.238 sec)\n",
      "INFO:tensorflow:global_step/sec: 405.703\n",
      "INFO:tensorflow:step = 801, loss = 7.69081026864e-09 (0.246 sec)\n",
      "INFO:tensorflow:global_step/sec: 407.213\n",
      "INFO:tensorflow:step = 901, loss = 1.09498887342e-09 (0.246 sec)\n",
      "INFO:tensorflow:Saving checkpoints for 1000 into /tmp/tmpn34ik9ti/model.ckpt.\n",
      "INFO:tensorflow:Loss for final step: 6.24106546994e-11.\n",
      "INFO:tensorflow:Starting evaluation at 2017-04-14-07:46:01\n",
      "INFO:tensorflow:Restoring parameters from /tmp/tmpn34ik9ti/model.ckpt-1000\n",
      "INFO:tensorflow:Evaluation [1/10]\n",
      "INFO:tensorflow:Evaluation [2/10]\n",
      "INFO:tensorflow:Evaluation [3/10]\n",
      "INFO:tensorflow:Evaluation [4/10]\n",
      "INFO:tensorflow:Evaluation [5/10]\n",
      "INFO:tensorflow:Evaluation [6/10]\n",
      "INFO:tensorflow:Evaluation [7/10]\n",
      "INFO:tensorflow:Evaluation [8/10]\n",
      "INFO:tensorflow:Evaluation [9/10]\n",
      "INFO:tensorflow:Evaluation [10/10]\n",
      "INFO:tensorflow:Finished evaluation at 2017-04-14-07:46:02\n",
      "INFO:tensorflow:Saving dict for global step 1000: global_step = 1000, loss = 7.12251e-11\n",
      "WARNING:tensorflow:Skipping summary for global_step, must be a float or np.float32.\n"
     ]
    },
    {
     "data": {
      "text/plain": [
       "{'global_step': 1000, 'loss': 7.1225123e-11}"
      ]
     },
     "execution_count": 18,
     "metadata": {},
     "output_type": "execute_result"
    }
   ],
   "source": [
    "def model(features, labels, mode):\n",
    "    W = tf.get_variable('W', [1], dtype=tf.float64)\n",
    "    b = tf.get_variable('b', [1], dtype=tf.float64)\n",
    "    y = W * features['x'] + b\n",
    "    loss = tf.reduce_sum(tf.square(y - labels))\n",
    "    global_step = tf.train.get_global_step()\n",
    "    oprimizer = tf.train.GradientDescentOptimizer(0.01)\n",
    "    train = tf.group(\n",
    "        optimizer.minimize(loss),\n",
    "        tf.assign_add(global_step, 1)\n",
    "    )\n",
    "    return tf.contrib.learn.ModelFnOps(\n",
    "        mode=mode,\n",
    "        predictions=y,\n",
    "        loss=loss,\n",
    "        train_op=train,\n",
    "    )\n",
    "\n",
    "estimator = tf.contrib.learn.Estimator(model_fn=model)\n",
    "estimator.fit(input_fn=input_fn, steps=1000)\n",
    "estimator.evaluate(input_fn=input_fn, steps=10)"
   ]
  }
 ],
 "metadata": {
  "kernelspec": {
   "display_name": "Python 3",
   "language": "python",
   "name": "python3"
  },
  "language_info": {
   "codemirror_mode": {
    "name": "ipython",
    "version": 3
   },
   "file_extension": ".py",
   "mimetype": "text/x-python",
   "name": "python",
   "nbconvert_exporter": "python",
   "pygments_lexer": "ipython3",
   "version": "3.5.2"
  }
 },
 "nbformat": 4,
 "nbformat_minor": 2
}
