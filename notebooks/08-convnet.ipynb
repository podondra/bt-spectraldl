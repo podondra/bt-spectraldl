{
 "cells": [
  {
   "cell_type": "markdown",
   "metadata": {
    "deletable": true,
    "editable": true
   },
   "source": [
    "# Convolutional Neural Network"
   ]
  },
  {
   "cell_type": "code",
   "execution_count": 1,
   "metadata": {
    "collapsed": false,
    "deletable": true,
    "editable": true
   },
   "outputs": [],
   "source": [
    "import math\n",
    "import h5py\n",
    "import numpy as np\n",
    "from sklearn.model_selection import StratifiedKFold\n",
    "from sklearn.utils import shuffle\n",
    "from sklearn import preprocessing\n",
    "from sklearn.preprocessing import OneHotEncoder\n",
    "import tensorflow as tf"
   ]
  },
  {
   "cell_type": "code",
   "execution_count": 2,
   "metadata": {
    "collapsed": true,
    "deletable": true,
    "editable": true
   },
   "outputs": [],
   "source": [
    "# open HDF5 file with all data\n",
    "f = h5py.File('data.hdf5')\n",
    "\n",
    "X = f['X_balanced'][...]\n",
    "y = f['y_balanced'][...]"
   ]
  },
  {
   "cell_type": "code",
   "execution_count": 3,
   "metadata": {
    "collapsed": false,
    "deletable": true,
    "editable": true,
    "scrolled": true
   },
   "outputs": [],
   "source": [
    "# constants as global variables\n",
    "N_FEATURES = X.shape[1]\n",
    "N_CLASSES = 5\n",
    "LOG_DIR = '/data/podondra/tensorboard'"
   ]
  },
  {
   "cell_type": "markdown",
   "metadata": {
    "deletable": true,
    "editable": true
   },
   "source": [
    "## One-hot Vector\n",
    "\n",
    "http://scikit-learn.org/stable/modules/generated/sklearn.preprocessing.OneHotEncoder.html"
   ]
  },
  {
   "cell_type": "code",
   "execution_count": 4,
   "metadata": {
    "collapsed": false,
    "deletable": true,
    "editable": true
   },
   "outputs": [
    {
     "data": {
      "text/plain": [
       "(array([[1, 0, 0, 0, 0],\n",
       "        [1, 0, 0, 0, 0],\n",
       "        [1, 0, 0, 0, 0],\n",
       "        ..., \n",
       "        [1, 0, 0, 0, 0],\n",
       "        [1, 0, 0, 0, 0],\n",
       "        [1, 0, 0, 0, 0]], dtype=int32), (5755, 5))"
      ]
     },
     "execution_count": 4,
     "metadata": {},
     "output_type": "execute_result"
    }
   ],
   "source": [
    "# create one-hot vector \n",
    "enc = OneHotEncoder(dtype=np.int32, sparse=False)\n",
    "y_one_hot = enc.fit_transform(y.reshape(-1, 1))\n",
    "y_one_hot, y_one_hot.shape"
   ]
  },
  {
   "cell_type": "code",
   "execution_count": 5,
   "metadata": {
    "collapsed": false,
    "deletable": true,
    "editable": true
   },
   "outputs": [],
   "source": [
    "sess = tf.InteractiveSession()"
   ]
  },
  {
   "cell_type": "markdown",
   "metadata": {
    "deletable": true,
    "editable": true
   },
   "source": [
    "## The Model"
   ]
  },
  {
   "cell_type": "code",
   "execution_count": 6,
   "metadata": {
    "collapsed": true,
    "deletable": true,
    "editable": true
   },
   "outputs": [],
   "source": [
    "def variable_summaries(var):\n",
    "    with tf.name_scope('summaries'):\n",
    "        mean = tf.reduce_mean(var)\n",
    "        tf.summary.scalar('mean', mean)\n",
    "        with tf.name_scope('stddev'):\n",
    "            stddev = tf.sqrt(tf.reduce_mean(tf.square(var - mean)))\n",
    "        tf.summary.scalar('stddev', stddev)\n",
    "        tf.summary.scalar('max', tf.reduce_max(var))\n",
    "        tf.summary.scalar('min', tf.reduce_min(var))\n",
    "        tf.summary.histogram('histogram', var)"
   ]
  },
  {
   "cell_type": "code",
   "execution_count": 7,
   "metadata": {
    "collapsed": true,
    "deletable": true,
    "editable": true
   },
   "outputs": [],
   "source": [
    "def weight_variable(shape):\n",
    "    '''Create weight variable. Initialize weights with\n",
    "    small amount of noise to aviod dead neurons due to\n",
    "    use of ReLU activation function.\n",
    "    '''\n",
    "    initial = tf.truncated_normal(shape, stddev=0.1)\n",
    "    var = tf.Variable(initial, name='weight')\n",
    "    variable_summaries(var)\n",
    "    return var\n",
    "\n",
    "def bias_variable(shape):\n",
    "    '''Create bias variable. Initialize it to 0.1.'''\n",
    "    initial = tf.constant(0.1, shape=shape)\n",
    "    var = tf.Variable(initial, name='biases')\n",
    "    variable_summaries(var)\n",
    "    return var"
   ]
  },
  {
   "cell_type": "markdown",
   "metadata": {
    "deletable": true,
    "editable": true
   },
   "source": [
    "https://www.tensorflow.org/versions/r0.11/api_docs/python/nn/convolution#conv2d\n",
    "https://www.tensorflow.org/versions/r0.11/api_docs/python/nn/pooling#max_pool "
   ]
  },
  {
   "cell_type": "code",
   "execution_count": 8,
   "metadata": {
    "collapsed": true,
    "deletable": true,
    "editable": true
   },
   "outputs": [],
   "source": [
    "# convolution\n",
    "def conv1d(x, W):\n",
    "    return tf.nn.conv2d(x, W, strides=[1, 1, 1, 1], padding='SAME')\n",
    "\n",
    "# max pooling\n",
    "def max_pool_1x2(x):\n",
    "    return tf.nn.max_pool(x, ksize=[1, 1, 5, 1], strides=[1, 1, 5, 1], padding='SAME')"
   ]
  },
  {
   "cell_type": "code",
   "execution_count": 9,
   "metadata": {
    "collapsed": false,
    "deletable": true,
    "editable": true
   },
   "outputs": [],
   "source": [
    "with tf.name_scope('input'):\n",
    "    x = tf.placeholder(tf.float32, shape=[None, N_FEATURES], name='spectra')\n",
    "    y_ = tf.placeholder(tf.float32, shape=[None, N_CLASSES], name='labels')\n",
    "\n",
    "with tf.name_scope('input-reshape'):\n",
    "    x_spectrum = tf.reshape(x, [-1, 1, N_FEATURES, 1])\n",
    "\n",
    "# first convolutional layer\n",
    "with tf.name_scope('conv1'):\n",
    "    W_conv1 = weight_variable([5, 1, 1, 32])\n",
    "    b_conv1 = bias_variable([32])\n",
    "\n",
    "    h_conv1 = tf.nn.relu(conv1d(x_spectrum, W_conv1) + b_conv1)\n",
    "    h_pool1 = max_pool_1x2(h_conv1)\n",
    "\n",
    "# second convolutional layer\n",
    "with tf.name_scope('conv2'):\n",
    "    W_conv2 = weight_variable([5, 1, 32, 64])\n",
    "    b_conv2 = bias_variable([64])\n",
    "\n",
    "    h_conv2 = tf.nn.relu(conv1d(h_pool1, W_conv2) + b_conv2)\n",
    "    h_pool2 = max_pool_1x2(h_conv2)\n",
    "\n",
    "# densely connected layer\n",
    "with tf.name_scope('dense'):\n",
    "    W_fc1 = weight_variable([160 * 64, 128])\n",
    "    b_fc1 = bias_variable([128])\n",
    "\n",
    "    h_pool2_flat = tf.reshape(h_pool2, [-1, 160 * 64])\n",
    "    h_fc1 = tf.nn.relu(tf.matmul(h_pool2_flat, W_fc1) + b_fc1)\n",
    "\n",
    "# dropout\n",
    "keep_prob = tf.placeholder(tf.float32)\n",
    "h_fc1_drop = tf.nn.dropout(h_fc1, keep_prob)\n",
    "\n",
    "# readout layer\n",
    "with tf.name_scope('readout'):\n",
    "    W_fc2 = weight_variable([128, N_CLASSES])\n",
    "    b_fc2 = bias_variable([N_CLASSES])\n",
    "\n",
    "    y_conv = tf.matmul(h_fc1_drop, W_fc2) + b_fc2\n",
    "\n",
    "xentropy = tf.reduce_mean(\n",
    "    tf.nn.softmax_cross_entropy_with_logits(labels=y_, logits=y_conv)\n",
    ")\n",
    "\n",
    "tf.summary.scalar('xentropy', xentropy)\n",
    "\n",
    "train_step = tf.train.GradientDescentOptimizer(0.1).minimize(xentropy)\n",
    "correct_prediction = tf.equal(tf.argmax(y_conv, 1), tf.argmax(y_, 1))\n",
    "accuracy = tf.reduce_mean(tf.cast(correct_prediction, tf.float32))\n",
    "\n",
    "merged = tf.summary.merge_all()"
   ]
  },
  {
   "cell_type": "markdown",
   "metadata": {
    "deletable": true,
    "editable": true
   },
   "source": [
    "## TensorBoard"
   ]
  },
  {
   "cell_type": "code",
   "execution_count": 10,
   "metadata": {
    "collapsed": true,
    "deletable": true,
    "editable": true
   },
   "outputs": [],
   "source": [
    "if tf.gfile.Exists(LOG_DIR):\n",
    "    tf.gfile.DeleteRecursively(LOG_DIR)\n",
    "tf.gfile.MakeDirs(LOG_DIR)\n",
    "summary_writer = tf.summary.FileWriter(LOG_DIR, sess.graph)"
   ]
  },
  {
   "cell_type": "markdown",
   "metadata": {
    "deletable": true,
    "editable": true
   },
   "source": [
    "## Cross-validation"
   ]
  },
  {
   "cell_type": "code",
   "execution_count": null,
   "metadata": {
    "collapsed": false,
    "deletable": true,
    "editable": true
   },
   "outputs": [],
   "source": [
    "# stratified k-folds cross-validator\n",
    "# the folds preserve the percentage for each class\n",
    "skf = StratifiedKFold(n_splits=5)\n",
    "\n",
    "# shuffle the matrixes\n",
    "X, y = shuffle(X, y, random_state=0)\n",
    "\n",
    "n_folds = 5\n",
    "accuracies = np.zeros((n_folds,))\n",
    "\n",
    "for iteration, (train_idx, valid_idx) in enumerate(skf.split(X, y)):\n",
    "    # split to train and validation seet\n",
    "    X_train, y_train = X[train_idx], y_one_hot[train_idx]\n",
    "    X_valid, y_valid = X[valid_idx], y_one_hot[valid_idx]\n",
    "\n",
    "    # preprocessing\n",
    "    scaler = preprocessing.StandardScaler().fit(X_train)\n",
    "    X_train_transformed = scaler.transform(X_train)\n",
    "\n",
    "    sess.run(tf.global_variables_initializer())\n",
    "    train_dict = {\n",
    "        x: X_train_transformed,\n",
    "        y_: y_train,\n",
    "        keep_prob: 1.0\n",
    "    }\n",
    "    for i in range(1000):\n",
    "        idx = np.random.choice(X_train_transformed.shape[0], 256, replace=False)\n",
    "        batch_dict = {\n",
    "            x: X_train_transformed[idx, :],\n",
    "            y_: y_train[idx, :],\n",
    "            keep_prob: 0.5\n",
    "        }\n",
    "        train_step.run(feed_dict=batch_dict)\n",
    "\n",
    "        if i % 10 == 0:\n",
    "            summary, train_accuracy, loss = sess.run(\n",
    "                [merged, accuracy, xentropy],\n",
    "                feed_dict={\n",
    "                    x: X_train_transformed[idx, :],\n",
    "                    y_: y_train[idx, :],\n",
    "                    keep_prob: 1.0\n",
    "                },\n",
    "            )\n",
    "            print('{:6} train {:6.6f} loss {:6.6f}'.format(i, train_accuracy, loss))\n",
    "            writer.add_summary(summary, i)\n",
    "\n",
    "    # evaluate\n",
    "    X_valid_transformed = scaler.transform(X_valid)\n",
    "    valid_dict = {\n",
    "        x: X_valid_transformed,\n",
    "        y_: y_valid,\n",
    "        keep_prob: 1.0\n",
    "    }\n",
    "    valid_accuracy = accuracy.eval(feed_dict=valid_dict)\n",
    "    accuracies[iteration] = valid_accuracy\n",
    "    print('valid {}'.format(valid_accuracy))\n",
    "    break\n",
    "\n",
    "accuracies.mean(), accuracies.std()"
   ]
  },
  {
   "cell_type": "code",
   "execution_count": null,
   "metadata": {
    "collapsed": true,
    "deletable": true,
    "editable": true
   },
   "outputs": [],
   "source": [
    "f.close()"
   ]
  }
 ],
 "metadata": {
  "kernelspec": {
   "display_name": "Python 3",
   "language": "python",
   "name": "python3"
  },
  "language_info": {
   "codemirror_mode": {
    "name": "ipython",
    "version": 3
   },
   "file_extension": ".py",
   "mimetype": "text/x-python",
   "name": "python",
   "nbconvert_exporter": "python",
   "pygments_lexer": "ipython3",
   "version": "3.4.2"
  }
 },
 "nbformat": 4,
 "nbformat_minor": 2
}
