{
 "cells": [
  {
   "cell_type": "markdown",
   "metadata": {
    "deletable": true,
    "editable": true
   },
   "source": [
    "# `tf.contrib.learn` Quickstart\n",
    "\n",
    "https://www.tensorflow.org/get_started/tflearn"
   ]
  },
  {
   "cell_type": "code",
   "execution_count": 1,
   "metadata": {
    "collapsed": true,
    "deletable": true,
    "editable": true
   },
   "outputs": [],
   "source": [
    "import tensorflow as tf\n",
    "import numpy as np"
   ]
  },
  {
   "cell_type": "code",
   "execution_count": 2,
   "metadata": {
    "collapsed": true,
    "deletable": true,
    "editable": true
   },
   "outputs": [],
   "source": [
    "# data sets\n",
    "IRIS_TRAINING = \"iris_training.csv\"\n",
    "IRIS_TEST = \"iris_test.csv\"\n",
    "\n",
    "# load datasets\n",
    "training_set = tf.contrib.learn.datasets.base.load_csv_with_header(\n",
    "    filename=IRIS_TRAINING,\n",
    "    target_dtype=np.int,\n",
    "    features_dtype=np.float32\n",
    ")\n",
    "test_set = tf.contrib.learn.datasets.base.load_csv_with_header(\n",
    "    filename=IRIS_TEST,\n",
    "    target_dtype=np.int,\n",
    "    features_dtype=np.float32\n",
    ")"
   ]
  },
  {
   "cell_type": "markdown",
   "metadata": {
    "deletable": true,
    "editable": true
   },
   "source": [
    "## DNN Classifier"
   ]
  },
  {
   "cell_type": "code",
   "execution_count": 3,
   "metadata": {
    "collapsed": false,
    "deletable": true,
    "editable": true
   },
   "outputs": [
    {
     "name": "stdout",
     "output_type": "stream",
     "text": [
      "INFO:tensorflow:Using default config.\n",
      "INFO:tensorflow:Using config: {'_save_checkpoints_secs': 600, '_is_chief': True, '_save_summary_steps': 100, '_cluster_spec': <tensorflow.python.training.server_lib.ClusterSpec object at 0x7f4242932358>, '_save_checkpoints_steps': None, '_tf_config': gpu_options {\n",
      "  per_process_gpu_memory_fraction: 1.0\n",
      "}\n",
      ", '_master': '', '_evaluation_master': '', '_keep_checkpoint_max': 5, '_task_type': None, '_keep_checkpoint_every_n_hours': 10000, '_num_ps_replicas': 0, '_environment': 'local', '_tf_random_seed': None, '_task_id': 0}\n"
     ]
    }
   ],
   "source": [
    "# specify that all features have real-value data\n",
    "feature_columns = [\n",
    "    tf.contrib.layers.real_valued_column('', dimension=4)\n",
    "]\n",
    "\n",
    "# build 3 layer DNN with 10, 20, 10 units respectively\n",
    "classifier = tf.contrib.learn.DNNClassifier(\n",
    "    feature_columns=feature_columns,\n",
    "    hidden_units=[10, 20, 10],\n",
    "    n_classes=3,\n",
    "    model_dir=\"/tmp/iris_model\"\n",
    ")"
   ]
  },
  {
   "cell_type": "code",
   "execution_count": 4,
   "metadata": {
    "collapsed": false,
    "deletable": true,
    "editable": true
   },
   "outputs": [
    {
     "name": "stdout",
     "output_type": "stream",
     "text": [
      "WARNING:tensorflow:From <ipython-input-4-bee76f9ce9b8>:5: calling BaseEstimator.fit (from tensorflow.contrib.learn.python.learn.estimators.estimator) with y is deprecated and will be removed after 2016-12-01.\n",
      "Instructions for updating:\n",
      "Estimator is decoupled from Scikit Learn interface by moving into\n",
      "separate class SKCompat. Arguments x, y and batch_size are only\n",
      "available in the SKCompat class, Estimator will only accept input_fn.\n",
      "Example conversion:\n",
      "  est = Estimator(...) -> est = SKCompat(Estimator(...))\n",
      "WARNING:tensorflow:From <ipython-input-4-bee76f9ce9b8>:5: calling BaseEstimator.fit (from tensorflow.contrib.learn.python.learn.estimators.estimator) with x is deprecated and will be removed after 2016-12-01.\n",
      "Instructions for updating:\n",
      "Estimator is decoupled from Scikit Learn interface by moving into\n",
      "separate class SKCompat. Arguments x, y and batch_size are only\n",
      "available in the SKCompat class, Estimator will only accept input_fn.\n",
      "Example conversion:\n",
      "  est = Estimator(...) -> est = SKCompat(Estimator(...))\n",
      "WARNING:tensorflow:From /home/podondra/.local/lib/python3.4/site-packages/tensorflow/contrib/learn/python/learn/estimators/head.py:1362: scalar_summary (from tensorflow.python.ops.logging_ops) is deprecated and will be removed after 2016-11-30.\n",
      "Instructions for updating:\n",
      "Please switch to tf.summary.scalar. Note that tf.summary.scalar uses the node name instead of the tag. This means that TensorFlow will automatically de-duplicate summary names based on the scope they are created in. Also, passing a tensor or list of tags to a scalar summary op is no longer supported.\n"
     ]
    },
    {
     "name": "stderr",
     "output_type": "stream",
     "text": [
      "/home/podondra/.local/lib/python3.4/site-packages/tensorflow/python/util/deprecation.py:247: FutureWarning: comparison to `None` will result in an elementwise object comparison in the future.\n",
      "  equality = a == b\n"
     ]
    },
    {
     "name": "stdout",
     "output_type": "stream",
     "text": [
      "INFO:tensorflow:Create CheckpointSaverHook.\n",
      "INFO:tensorflow:Saving checkpoints for 2001 into /tmp/iris_model/model.ckpt.\n",
      "INFO:tensorflow:loss = 0.0403109, step = 2001\n",
      "INFO:tensorflow:global_step/sec: 647.283\n",
      "INFO:tensorflow:loss = 0.0397554, step = 2101\n",
      "INFO:tensorflow:global_step/sec: 847.445\n",
      "INFO:tensorflow:loss = 0.039303, step = 2201\n",
      "INFO:tensorflow:global_step/sec: 855.706\n",
      "INFO:tensorflow:loss = 0.0388465, step = 2301\n",
      "INFO:tensorflow:global_step/sec: 855.129\n",
      "INFO:tensorflow:loss = 0.0384532, step = 2401\n",
      "INFO:tensorflow:global_step/sec: 888.793\n",
      "INFO:tensorflow:loss = 0.0380101, step = 2501\n",
      "INFO:tensorflow:global_step/sec: 856.4\n",
      "INFO:tensorflow:loss = 0.037667, step = 2601\n",
      "INFO:tensorflow:global_step/sec: 877.532\n",
      "INFO:tensorflow:loss = 0.0371363, step = 2701\n",
      "INFO:tensorflow:global_step/sec: 634.994\n",
      "INFO:tensorflow:loss = 0.0367848, step = 2801\n",
      "INFO:tensorflow:global_step/sec: 783.704\n",
      "INFO:tensorflow:loss = 0.0362455, step = 2901\n",
      "INFO:tensorflow:global_step/sec: 643.221\n",
      "INFO:tensorflow:loss = 0.0351897, step = 3001\n",
      "INFO:tensorflow:global_step/sec: 859.172\n",
      "INFO:tensorflow:loss = 0.0344218, step = 3101\n",
      "INFO:tensorflow:global_step/sec: 874.927\n",
      "INFO:tensorflow:loss = 0.0342412, step = 3201\n",
      "INFO:tensorflow:global_step/sec: 838.447\n",
      "INFO:tensorflow:loss = 0.0365257, step = 3301\n",
      "INFO:tensorflow:global_step/sec: 835.244\n",
      "INFO:tensorflow:loss = 0.0344629, step = 3401\n",
      "INFO:tensorflow:global_step/sec: 859.991\n",
      "INFO:tensorflow:loss = 0.0327515, step = 3501\n",
      "INFO:tensorflow:global_step/sec: 886.537\n",
      "INFO:tensorflow:loss = 0.0323812, step = 3601\n",
      "INFO:tensorflow:global_step/sec: 834.528\n",
      "INFO:tensorflow:loss = 0.0320185, step = 3701\n",
      "INFO:tensorflow:global_step/sec: 891.038\n",
      "INFO:tensorflow:loss = 0.031663, step = 3801\n",
      "INFO:tensorflow:global_step/sec: 887.094\n",
      "INFO:tensorflow:loss = 0.0313124, step = 3901\n",
      "INFO:tensorflow:Saving checkpoints for 4000 into /tmp/iris_model/model.ckpt.\n",
      "INFO:tensorflow:Loss for final step: 0.0309695.\n"
     ]
    },
    {
     "data": {
      "text/plain": [
       "DNNClassifier(params={'dropout': None, 'optimizer': None, 'hidden_units': [10, 20, 10], 'head': <tensorflow.contrib.learn.python.learn.estimators.head._MultiClassHead object at 0x7f42429327f0>, 'feature_columns': (_RealValuedColumn(column_name='', dimension=4, default_value=None, dtype=tf.float32, normalizer=None),), 'gradient_clip_norm': None, 'embedding_lr_multipliers': None, 'activation_fn': <function relu at 0x7f4242e2ac80>, 'input_layer_min_slice_size': None})"
      ]
     },
     "execution_count": 4,
     "metadata": {},
     "output_type": "execute_result"
    }
   ],
   "source": [
    "# fit model\n",
    "classifier.fit(\n",
    "    x=training_set.data,\n",
    "    y=training_set.target,\n",
    "    steps=2000,\n",
    ")"
   ]
  },
  {
   "cell_type": "code",
   "execution_count": 5,
   "metadata": {
    "collapsed": false,
    "deletable": true,
    "editable": true
   },
   "outputs": [
    {
     "name": "stdout",
     "output_type": "stream",
     "text": [
      "WARNING:tensorflow:From <ipython-input-5-2e25c1715ce7>:4: calling BaseEstimator.evaluate (from tensorflow.contrib.learn.python.learn.estimators.estimator) with y is deprecated and will be removed after 2016-12-01.\n",
      "Instructions for updating:\n",
      "Estimator is decoupled from Scikit Learn interface by moving into\n",
      "separate class SKCompat. Arguments x, y and batch_size are only\n",
      "available in the SKCompat class, Estimator will only accept input_fn.\n",
      "Example conversion:\n",
      "  est = Estimator(...) -> est = SKCompat(Estimator(...))\n",
      "WARNING:tensorflow:From <ipython-input-5-2e25c1715ce7>:4: calling BaseEstimator.evaluate (from tensorflow.contrib.learn.python.learn.estimators.estimator) with x is deprecated and will be removed after 2016-12-01.\n",
      "Instructions for updating:\n",
      "Estimator is decoupled from Scikit Learn interface by moving into\n",
      "separate class SKCompat. Arguments x, y and batch_size are only\n",
      "available in the SKCompat class, Estimator will only accept input_fn.\n",
      "Example conversion:\n",
      "  est = Estimator(...) -> est = SKCompat(Estimator(...))\n",
      "WARNING:tensorflow:From /home/podondra/.local/lib/python3.4/site-packages/tensorflow/contrib/learn/python/learn/estimators/head.py:1362: scalar_summary (from tensorflow.python.ops.logging_ops) is deprecated and will be removed after 2016-11-30.\n",
      "Instructions for updating:\n",
      "Please switch to tf.summary.scalar. Note that tf.summary.scalar uses the node name instead of the tag. This means that TensorFlow will automatically de-duplicate summary names based on the scope they are created in. Also, passing a tensor or list of tags to a scalar summary op is no longer supported.\n"
     ]
    },
    {
     "name": "stderr",
     "output_type": "stream",
     "text": [
      "/home/podondra/.local/lib/python3.4/site-packages/tensorflow/python/util/deprecation.py:247: FutureWarning: comparison to `None` will result in an elementwise object comparison in the future.\n",
      "  equality = a == b\n"
     ]
    },
    {
     "name": "stdout",
     "output_type": "stream",
     "text": [
      "INFO:tensorflow:Starting evaluation at 2017-03-20-22:00:08\n",
      "INFO:tensorflow:Finished evaluation at 2017-03-20-22:00:08\n",
      "INFO:tensorflow:Saving dict for global step 4000: accuracy = 0.966667, auc = 0.998333, global_step = 4000, loss = 0.0948321\n",
      "WARNING:tensorflow:Skipping summary for global_step, must be a float or np.float32.\n",
      "accuracy: 0.966667\n"
     ]
    }
   ],
   "source": [
    "accuracy_score = classifier.evaluate(\n",
    "    x=test_set.data,\n",
    "    y=test_set.target\n",
    ")['accuracy']\n",
    "print('accuracy: {0:f}'.format(accuracy_score))"
   ]
  },
  {
   "cell_type": "code",
   "execution_count": 6,
   "metadata": {
    "collapsed": false,
    "deletable": true,
    "editable": true
   },
   "outputs": [
    {
     "name": "stdout",
     "output_type": "stream",
     "text": [
      "WARNING:tensorflow:From /home/podondra/.local/lib/python3.4/site-packages/tensorflow/contrib/learn/python/learn/estimators/dnn.py:374: calling BaseEstimator.predict (from tensorflow.contrib.learn.python.learn.estimators.estimator) with x is deprecated and will be removed after 2016-12-01.\n",
      "Instructions for updating:\n",
      "Estimator is decoupled from Scikit Learn interface by moving into\n",
      "separate class SKCompat. Arguments x, y and batch_size are only\n",
      "available in the SKCompat class, Estimator will only accept input_fn.\n",
      "Example conversion:\n",
      "  est = Estimator(...) -> est = SKCompat(Estimator(...))\n",
      "WARNING:tensorflow:float64 is not supported by many models, consider casting to float32.\n"
     ]
    },
    {
     "name": "stderr",
     "output_type": "stream",
     "text": [
      "/home/podondra/.local/lib/python3.4/site-packages/tensorflow/python/util/deprecation.py:247: FutureWarning: comparison to `None` will result in an elementwise object comparison in the future.\n",
      "  equality = a == b\n"
     ]
    },
    {
     "name": "stdout",
     "output_type": "stream",
     "text": [
      "predictions: [1, 1]\n"
     ]
    }
   ],
   "source": [
    "# xlassify two new flower samples\n",
    "new_samples = np.array(\n",
    "    [[6.4, 3.2, 4.5, 1.5], [5.8, 3.1, 5.0, 1.7]],\n",
    "    dtype=float\n",
    ")\n",
    "y = list(classifier.predict(new_samples, as_iterable=True))\n",
    "print('predictions: {}'.format(y))"
   ]
  }
 ],
 "metadata": {
  "kernelspec": {
   "display_name": "Python 3",
   "language": "python",
   "name": "python3"
  },
  "language_info": {
   "codemirror_mode": {
    "name": "ipython",
    "version": 3
   },
   "file_extension": ".py",
   "mimetype": "text/x-python",
   "name": "python",
   "nbconvert_exporter": "python",
   "pygments_lexer": "ipython3",
   "version": "3.4.2"
  }
 },
 "nbformat": 4,
 "nbformat_minor": 2
}
