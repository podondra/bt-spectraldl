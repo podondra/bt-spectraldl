{
 "cells": [
  {
   "cell_type": "markdown",
   "metadata": {
    "deletable": true,
    "editable": true
   },
   "source": [
    "# Resampling"
   ]
  },
  {
   "cell_type": "code",
   "execution_count": 1,
   "metadata": {
    "collapsed": true,
    "deletable": true,
    "editable": true
   },
   "outputs": [],
   "source": [
    "import os\n",
    "import random\n",
    "import h5py\n",
    "import numpy as np\n",
    "import matplotlib.pyplot as plt\n",
    "%matplotlib inline"
   ]
  },
  {
   "cell_type": "code",
   "execution_count": 2,
   "metadata": {
    "collapsed": false
   },
   "outputs": [],
   "source": [
    "# load HDF5 file with data\n",
    "f = h5py.File('data.hdf5')\n",
    "spectra = f['spectra']"
   ]
  },
  {
   "cell_type": "markdown",
   "metadata": {
    "deletable": true,
    "editable": true
   },
   "source": [
    "## Wavelength range"
   ]
  },
  {
   "cell_type": "code",
   "execution_count": 3,
   "metadata": {
    "collapsed": true,
    "deletable": true,
    "editable": true
   },
   "outputs": [],
   "source": [
    "# list of starting wavelens\n",
    "wavelen_starts = list(map(\n",
    "    lambda x: x['wave'][0], spectra.values()\n",
    "))\n",
    "# list of ending wavelens\n",
    "wavelen_ends = list(map(\n",
    "    lambda x: x['wave'][-1], spectra.values()\n",
    "))"
   ]
  },
  {
   "cell_type": "code",
   "execution_count": 4,
   "metadata": {
    "collapsed": false,
    "deletable": true,
    "editable": true
   },
   "outputs": [
    {
     "data": {
      "text/plain": [
       "(array([  1.10300000e+03,   1.21070000e+04,   5.00000000e+00,\n",
       "          1.50000000e+01,   0.00000000e+00,   3.60000000e+01,\n",
       "          7.50000000e+01,   1.00000000e+00,   0.00000000e+00,\n",
       "          3.00000000e+00]),\n",
       " array([ 6222.4026459 ,  6252.0050907 ,  6281.6075355 ,  6311.2099803 ,\n",
       "         6340.8124251 ,  6370.41486989,  6400.01731469,  6429.61975949,\n",
       "         6459.22220429,  6488.82464909,  6518.42709388]))"
      ]
     },
     "execution_count": 4,
     "metadata": {},
     "output_type": "execute_result"
    },
    {
     "data": {
      "image/png": "[encoded data removed]",
      "text/plain": [
       "<matplotlib.figure.Figure at 0x7fd83bca18d0>"
      ]
     },
     "metadata": {},
     "output_type": "display_data"
    }
   ],
   "source": [
    "# show histogram\n",
    "starts_n, starts_bins, _ = plt.hist(wavelen_starts)\n",
    "plt.title('wavelenght starts')\n",
    "starts_n, starts_bins"
   ]
  },
  {
   "cell_type": "code",
   "execution_count": 5,
   "metadata": {
    "collapsed": true,
    "deletable": true,
    "editable": true
   },
   "outputs": [],
   "source": [
    "# derived from data above\n",
    "start = 6282"
   ]
  },
  {
   "cell_type": "code",
   "execution_count": 6,
   "metadata": {
    "collapsed": false,
    "deletable": true,
    "editable": true
   },
   "outputs": [
    {
     "data": {
      "text/plain": [
       "(array([  4.37900000e+03,   8.83900000e+03,   0.00000000e+00,\n",
       "          1.20000000e+01,   6.00000000e+01,   3.40000000e+01,\n",
       "          1.70000000e+01,   3.00000000e+00,   0.00000000e+00,\n",
       "          1.00000000e+00]),\n",
       " array([ 6733.49077681,  6763.18532498,  6792.87987315,  6822.57442133,\n",
       "         6852.2689695 ,  6881.96351767,  6911.65806584,  6941.35261401,\n",
       "         6971.04716218,  7000.74171036,  7030.43625853]))"
      ]
     },
     "execution_count": 6,
     "metadata": {},
     "output_type": "execute_result"
    },
    {
     "data": {
      "image/png": "[encoded data removed]",
      "text/plain": [
       "<matplotlib.figure.Figure at 0x7fd83b857a58>"
      ]
     },
     "metadata": {},
     "output_type": "display_data"
    }
   ],
   "source": [
    "plt.title('wavelenght ends')\n",
    "ends_n, ends_bins, _ = plt.hist(wavelen_ends)\n",
    "ends_n, ends_bins"
   ]
  },
  {
   "cell_type": "code",
   "execution_count": 7,
   "metadata": {
    "collapsed": true,
    "deletable": true,
    "editable": true
   },
   "outputs": [],
   "source": [
    "end = 6733"
   ]
  },
  {
   "cell_type": "code",
   "execution_count": 8,
   "metadata": {
    "collapsed": false,
    "deletable": true,
    "editable": true
   },
   "outputs": [
    {
     "data": {
      "text/plain": [
       "(array([ 9242.,     0.,     0.,     0.,     0.,     0.,     0.,     0.,\n",
       "            0.,  4103.]),\n",
       " array([ 1997.,  2002.,  2007.,  2012.,  2017.,  2022.,  2027.,  2032.,\n",
       "         2037.,  2042.,  2047.]),\n",
       " <a list of 10 Patch objects>)"
      ]
     },
     "execution_count": 8,
     "metadata": {},
     "output_type": "execute_result"
    },
    {
     "data": {
      "image/png": "[encoded data removed]",
      "text/plain": [
       "<matplotlib.figure.Figure at 0x7fd837fea198>"
      ]
     },
     "metadata": {},
     "output_type": "display_data"
    }
   ],
   "source": [
    "wavelen_lens = np.array([x['wave'].shape[0] for x in spectra.values()])\n",
    "plt.hist(wavelen_lens)"
   ]
  },
  {
   "cell_type": "code",
   "execution_count": 9,
   "metadata": {
    "collapsed": false,
    "deletable": true,
    "editable": true
   },
   "outputs": [
    {
     "name": "stdout",
     "output_type": "stream",
     "text": [
      "1997 waves: 9242 samples\n",
      "2047 waves: 4103 samples\n"
     ]
    }
   ],
   "source": [
    "for waves, count in zip(*np.unique(wavelen_lens, return_counts=True)):\n",
    "    print('{} waves: {} samples'.format(waves, count))"
   ]
  },
  {
   "cell_type": "markdown",
   "metadata": {
    "deletable": true,
    "editable": true
   },
   "source": [
    "## Sample-rate Conversion\n",
    "\n",
    "Sample-rate conversion it the process of changing the\n",
    "sampling rate of discrete signal to get new representation\n",
    "of the underlying continuous signal. The sampling rate\n",
    "can be either increased (upsampling) or decreased\n",
    "(decimation)."
   ]
  },
  {
   "cell_type": "code",
   "execution_count": 10,
   "metadata": {
    "collapsed": false,
    "deletable": true,
    "editable": true
   },
   "outputs": [],
   "source": [
    "_, test_spectrum = random.choice(list(spectra.items()))\n",
    "_, bar = random.choice(list(spectra.items()))"
   ]
  },
  {
   "cell_type": "code",
   "execution_count": 11,
   "metadata": {
    "collapsed": false,
    "deletable": true,
    "editable": true
   },
   "outputs": [
    {
     "data": {
      "text/plain": [
       "(<HDF5 dataset \"wave\": shape (1997,), type \">f8\">,\n",
       " <HDF5 dataset \"wave\": shape (1997,), type \">f8\">)"
      ]
     },
     "execution_count": 11,
     "metadata": {},
     "output_type": "execute_result"
    }
   ],
   "source": [
    "# sampled at different wavelens\n",
    "test_spectrum['wave'], bar['wave']"
   ]
  },
  {
   "cell_type": "code",
   "execution_count": 12,
   "metadata": {
    "collapsed": false,
    "deletable": true,
    "editable": true,
    "scrolled": false
   },
   "outputs": [
    {
     "data": {
      "image/png": "[encoded data removed]",
      "text/plain": [
       "<matplotlib.figure.Figure at 0x7fd8379ed780>"
      ]
     },
     "metadata": {},
     "output_type": "display_data"
    }
   ],
   "source": [
    "def plot_spectrum_with_points(spectrum):\n",
    "    x = spectrum['wave']\n",
    "    y = spectrum['flux']\n",
    "    plt.plot(x, y, 'o', x, y)\n",
    "\n",
    "plot_spectrum_with_points(test_spectrum)"
   ]
  },
  {
   "cell_type": "markdown",
   "metadata": {
    "deletable": true,
    "editable": true
   },
   "source": [
    "If resampled, upsampled and downsampled data are\n",
    "plotted it can be seen then surely upsampling is the best.\n",
    "Downsampling may lost some peaks. Therefore, upsampling\n",
    "is choosen but smaller sample-rate can be choosen if\n",
    "computation difficulties will be observed."
   ]
  },
  {
   "cell_type": "code",
   "execution_count": 13,
   "metadata": {
    "collapsed": true,
    "deletable": true,
    "editable": true
   },
   "outputs": [],
   "source": [
    "def resample_flux(new_wavelens, wavelens, flux):\n",
    "    '''Resample spectrum defined by wavelens and flux\n",
    "    to new_wavelens.'''\n",
    "    return np.interp(new_wavelens, wavelens, flux)"
   ]
  },
  {
   "cell_type": "code",
   "execution_count": 14,
   "metadata": {
    "collapsed": false,
    "deletable": true,
    "editable": true
   },
   "outputs": [
    {
     "data": {
      "image/png": "[encoded data removed]",
      "text/plain": [
       "<matplotlib.figure.Figure at 0x7fd837fdea58>"
      ]
     },
     "metadata": {},
     "output_type": "display_data"
    }
   ],
   "source": [
    "plt.plot(test_spectrum['wave'], test_spectrum['flux'], label='normalized')\n",
    "\n",
    "# plot upsampled spectrum\n",
    "upsampled_wavelens = np.linspace(start, end, 4000)\n",
    "plt.plot(\n",
    "    upsampled_wavelens,\n",
    "    resample_flux(upsampled_wavelens, test_spectrum['wave'], test_spectrum['flux']),\n",
    "    label='upsampled'\n",
    ")\n",
    "_ = plt.legend()"
   ]
  },
  {
   "cell_type": "code",
   "execution_count": 15,
   "metadata": {
    "collapsed": false,
    "deletable": true,
    "editable": true
   },
   "outputs": [
    {
     "data": {
      "image/png": "[encoded data removed]",
      "text/plain": [
       "<matplotlib.figure.Figure at 0x7fd83b91ada0>"
      ]
     },
     "metadata": {},
     "output_type": "display_data"
    }
   ],
   "source": [
    "# plot normalized spectrum\n",
    "plt.plot(test_spectrum['wave'], test_spectrum['flux'], label='normalized')\n",
    "\n",
    "# define new wavelens whe number of wavelens is the same\n",
    "# as in original spectrum\n",
    "n_wavelens = test_spectrum['wave'].shape[0]\n",
    "sampled_wavelens = np.linspace(start, end, n_wavelens)\n",
    "# plot sampled spectrum\n",
    "plt.plot(\n",
    "    sampled_wavelens,\n",
    "    resample_flux(sampled_wavelens, test_spectrum['wave'], test_spectrum['flux']),\n",
    "    label='sampled'\n",
    ")\n",
    "_ = plt.legend()"
   ]
  },
  {
   "cell_type": "code",
   "execution_count": 16,
   "metadata": {
    "collapsed": false,
    "deletable": true,
    "editable": true
   },
   "outputs": [
    {
     "data": {
      "image/png": "[encoded data removed]",
      "text/plain": [
       "<matplotlib.figure.Figure at 0x7fd837b5eac8>"
      ]
     },
     "metadata": {},
     "output_type": "display_data"
    }
   ],
   "source": [
    "plt.plot(test_spectrum['wave'], test_spectrum['flux'], label='normalized')\n",
    "\n",
    "# plot downsampled spectrum\n",
    "downsampled_wavelens = np.linspace(start, end, 1000)\n",
    "plt.plot(\n",
    "    downsampled_wavelens,\n",
    "    resample_flux(downsampled_wavelens, test_spectrum['wave'], test_spectrum['flux']),\n",
    "    label='downsampled'\n",
    ")\n",
    "_ = plt.legend()"
   ]
  },
  {
   "cell_type": "code",
   "execution_count": 17,
   "metadata": {
    "collapsed": false,
    "deletable": true,
    "editable": true
   },
   "outputs": [
    {
     "data": {
      "text/plain": [
       "True"
      ]
     },
     "execution_count": 17,
     "metadata": {},
     "output_type": "execute_result"
    }
   ],
   "source": [
    "def are_wavelens_in_range(wavelen, start, end):\n",
    "    return wavelen[0] < start and wavelen[-1] > end\n",
    "    \n",
    "are_wavelens_in_range(\n",
    "    test_spectrum['wave'],\n",
    "    start,\n",
    "    end\n",
    ")"
   ]
  },
  {
   "cell_type": "code",
   "execution_count": 18,
   "metadata": {
    "collapsed": false,
    "deletable": true,
    "editable": true
   },
   "outputs": [
    {
     "data": {
      "text/plain": [
       "array(['a201305230017', 'a201306060015', 'a201306060016', ..., 'we180033',\n",
       "       'we200014', 'we200016'], \n",
       "      dtype='<U14')"
      ]
     },
     "execution_count": 18,
     "metadata": {},
     "output_type": "execute_result"
    }
   ],
   "source": [
    "idents = np.array([\n",
    "    ident\n",
    "    for ident, data in spectra.items()\n",
    "    if are_wavelens_in_range(data['wave'], start, end)\n",
    "        and ident != 'rd270026' # this is outlier\n",
    "])\n",
    "idents"
   ]
  },
  {
   "cell_type": "code",
   "execution_count": 19,
   "metadata": {
    "collapsed": false
   },
   "outputs": [],
   "source": [
    "if 'resampled/idents' in f:\n",
    "    del f['resampled/idents']\n",
    "\n",
    "dset = f.create_dataset(\n",
    "    'resampled/idents',\n",
    "    idents.shape,\n",
    "    dtype=h5py.special_dtype(vlen=str)\n",
    ")\n",
    "\n",
    "dset[...] = idents"
   ]
  },
  {
   "cell_type": "code",
   "execution_count": 20,
   "metadata": {
    "collapsed": false
   },
   "outputs": [],
   "source": [
    "if 'resampled/wave' in f:\n",
    "    del f['resampled/wave']\n",
    "\n",
    "dset = f.create_dataset(\n",
    "    'resampled/wave',\n",
    "    upsampled_wavelens.shape,\n",
    "    dtype=upsampled_wavelens.dtype\n",
    ")\n",
    "\n",
    "dset[...] = upsampled_wavelens"
   ]
  },
  {
   "cell_type": "code",
   "execution_count": 21,
   "metadata": {
    "collapsed": false
   },
   "outputs": [],
   "source": [
    "if 'resampled/fluxes' in f:\n",
    "    del f['resampled/fluxes']\n",
    "\n",
    "flux_dtype = test_spectrum['flux'].dtype\n",
    "\n",
    "fluxes = f.create_dataset(\n",
    "    'resampled/fluxes',\n",
    "    (idents.shape[0], 4000),\n",
    "    dtype=flux_dtype\n",
    ")\n",
    "\n",
    "for idx, ident in enumerate(idents):\n",
    "    spectrum = spectra[ident]\n",
    "    fluxes[idx, :] = resample_flux(upsampled_wavelens, spectrum['wave'], spectrum['flux']),"
   ]
  },
  {
   "cell_type": "code",
   "execution_count": 22,
   "metadata": {
    "collapsed": false,
    "deletable": true,
    "editable": true
   },
   "outputs": [
    {
     "data": {
      "text/plain": [
       "[<matplotlib.lines.Line2D at 0x7fd837b81a58>]"
      ]
     },
     "execution_count": 22,
     "metadata": {},
     "output_type": "execute_result"
    },
    {
     "data": {
      "image/png": "[encoded data removed]",
      "text/plain": [
       "<matplotlib.figure.Figure at 0x7fd83b9f9cf8>"
      ]
     },
     "metadata": {},
     "output_type": "display_data"
    }
   ],
   "source": [
    "# corrupted spectrum\n",
    "corrupted = spectra['rd270026']\n",
    "plt.plot(corrupted['wave'], corrupted['flux'])"
   ]
  },
  {
   "cell_type": "code",
   "execution_count": 23,
   "metadata": {
    "collapsed": true
   },
   "outputs": [],
   "source": [
    "f.close()"
   ]
  }
 ],
 "metadata": {
  "kernelspec": {
   "display_name": "Python 3",
   "language": "python",
   "name": "python3"
  },
  "language_info": {
   "codemirror_mode": {
    "name": "ipython",
    "version": 3
   },
   "file_extension": ".py",
   "mimetype": "text/x-python",
   "name": "python",
   "nbconvert_exporter": "python",
   "pygments_lexer": "ipython3",
   "version": "3.4.2"
  }
 },
 "nbformat": 4,
 "nbformat_minor": 2
}
