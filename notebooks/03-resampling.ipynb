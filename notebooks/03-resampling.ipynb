{
 "cells": [
  {
   "cell_type": "markdown",
   "metadata": {
    "deletable": true,
    "editable": true
   },
   "source": [
    "# Resampling"
   ]
  },
  {
   "cell_type": "markdown",
   "metadata": {
    "deletable": true,
    "editable": true
   },
   "source": [
    "## Data\n",
    "\n",
    "The data are loaded from file with pickle in dict format.\n",
    "This format is the same as in `get-data-from-fits.ipynb`\n",
    "notebook."
   ]
  },
  {
   "cell_type": "code",
   "execution_count": 1,
   "metadata": {
    "collapsed": true,
    "deletable": true,
    "editable": true
   },
   "outputs": [],
   "source": [
    "import pickle\n",
    "import os"
   ]
  },
  {
   "cell_type": "code",
   "execution_count": 2,
   "metadata": {
    "collapsed": false,
    "deletable": true,
    "editable": true
   },
   "outputs": [],
   "source": [
    "# load the data\n",
    "data_filename = 'ondrejov-halpha-labeled.pickle'\n",
    "with open(os.path.join('data', data_filename), 'rb') as f:\n",
    "    spectra = pickle.load(f)"
   ]
  },
  {
   "cell_type": "markdown",
   "metadata": {
    "deletable": true,
    "editable": true
   },
   "source": [
    "## Wavelength range"
   ]
  },
  {
   "cell_type": "code",
   "execution_count": 3,
   "metadata": {
    "collapsed": true,
    "deletable": true,
    "editable": true
   },
   "outputs": [],
   "source": [
    "import matplotlib.pyplot as plt\n",
    "%matplotlib inline"
   ]
  },
  {
   "cell_type": "code",
   "execution_count": 4,
   "metadata": {
    "collapsed": true,
    "deletable": true,
    "editable": true
   },
   "outputs": [],
   "source": [
    "# list of starting wavelens\n",
    "wavelen_starts = list(map(\n",
    "    lambda x: x['wavelen'][0], spectra.values()\n",
    "))\n",
    "# list of ending wavelens\n",
    "wavelen_ends = list(map(\n",
    "    lambda x: x['wavelen'][-1], spectra.values()\n",
    "))"
   ]
  },
  {
   "cell_type": "code",
   "execution_count": 5,
   "metadata": {
    "collapsed": false,
    "deletable": true,
    "editable": true
   },
   "outputs": [
    {
     "data": {
      "text/plain": [
       "(array([  1.10300000e+03,   1.21060000e+04,   5.00000000e+00,\n",
       "          1.50000000e+01,   0.00000000e+00,   3.60000000e+01,\n",
       "          7.50000000e+01,   1.00000000e+00,   0.00000000e+00,\n",
       "          3.00000000e+00]),\n",
       " array([ 6222.4026459 ,  6252.0050907 ,  6281.6075355 ,  6311.2099803 ,\n",
       "         6340.8124251 ,  6370.41486989,  6400.01731469,  6429.61975949,\n",
       "         6459.22220429,  6488.82464909,  6518.42709388]))"
      ]
     },
     "execution_count": 5,
     "metadata": {},
     "output_type": "execute_result"
    },
    {
     "data": {
      "image/png": "[encoded data removed]",
      "text/plain": [
       "<matplotlib.figure.Figure at 0x7f7ebf0ba240>"
      ]
     },
     "metadata": {},
     "output_type": "display_data"
    }
   ],
   "source": [
    "# show histogram\n",
    "starts_n, starts_bins, _ = plt.hist(wavelen_starts)\n",
    "plt.title('wavelenght starts')\n",
    "starts_n, starts_bins"
   ]
  },
  {
   "cell_type": "code",
   "execution_count": 6,
   "metadata": {
    "collapsed": true,
    "deletable": true,
    "editable": true
   },
   "outputs": [],
   "source": [
    "# derived from data above\n",
    "start = 6282"
   ]
  },
  {
   "cell_type": "code",
   "execution_count": 7,
   "metadata": {
    "collapsed": false,
    "deletable": true,
    "editable": true
   },
   "outputs": [
    {
     "data": {
      "text/plain": [
       "(array([  4.37900000e+03,   8.83800000e+03,   0.00000000e+00,\n",
       "          1.20000000e+01,   6.00000000e+01,   3.40000000e+01,\n",
       "          1.70000000e+01,   3.00000000e+00,   0.00000000e+00,\n",
       "          1.00000000e+00]),\n",
       " array([ 6733.49077681,  6763.18532498,  6792.87987315,  6822.57442133,\n",
       "         6852.2689695 ,  6881.96351767,  6911.65806584,  6941.35261401,\n",
       "         6971.04716218,  7000.74171036,  7030.43625853]))"
      ]
     },
     "execution_count": 7,
     "metadata": {},
     "output_type": "execute_result"
    },
    {
     "data": {
      "image/png": "[encoded data removed]",
      "text/plain": [
       "<matplotlib.figure.Figure at 0x7f7ebec36470>"
      ]
     },
     "metadata": {},
     "output_type": "display_data"
    }
   ],
   "source": [
    "plt.title('wavelenght ends')\n",
    "ends_n, ends_bins, _ = plt.hist(wavelen_ends)\n",
    "ends_n, ends_bins"
   ]
  },
  {
   "cell_type": "code",
   "execution_count": 8,
   "metadata": {
    "collapsed": true,
    "deletable": true,
    "editable": true
   },
   "outputs": [],
   "source": [
    "end = 6733"
   ]
  },
  {
   "cell_type": "code",
   "execution_count": 9,
   "metadata": {
    "collapsed": false,
    "deletable": true,
    "editable": true
   },
   "outputs": [
    {
     "data": {
      "text/plain": [
       "(array([ 9241.,     0.,     0.,     0.,     0.,     0.,     0.,     0.,\n",
       "            0.,  4103.]),\n",
       " array([ 1997.,  2002.,  2007.,  2012.,  2017.,  2022.,  2027.,  2032.,\n",
       "         2037.,  2042.,  2047.]),\n",
       " <a list of 10 Patch objects>)"
      ]
     },
     "execution_count": 9,
     "metadata": {},
     "output_type": "execute_result"
    },
    {
     "data": {
      "image/png": "[encoded data removed]",
      "text/plain": [
       "<matplotlib.figure.Figure at 0x7f7ebe80f828>"
      ]
     },
     "metadata": {},
     "output_type": "display_data"
    }
   ],
   "source": [
    "wavelen_lens = [x['wavelen'].shape[0] for x in spectra.values()]\n",
    "plt.hist(wavelen_lens)"
   ]
  },
  {
   "cell_type": "code",
   "execution_count": 10,
   "metadata": {
    "collapsed": true,
    "deletable": true,
    "editable": true
   },
   "outputs": [],
   "source": [
    "from collections import Counter"
   ]
  },
  {
   "cell_type": "markdown",
   "metadata": {
    "deletable": true,
    "editable": true
   },
   "source": [
    "There are spectra sampled in different lengths."
   ]
  },
  {
   "cell_type": "code",
   "execution_count": 11,
   "metadata": {
    "collapsed": false,
    "deletable": true,
    "editable": true
   },
   "outputs": [
    {
     "data": {
      "text/plain": [
       "Counter({1997: 9241, 2047: 4103})"
      ]
     },
     "execution_count": 11,
     "metadata": {},
     "output_type": "execute_result"
    }
   ],
   "source": [
    "Counter(wavelen_lens)"
   ]
  },
  {
   "cell_type": "markdown",
   "metadata": {
    "deletable": true,
    "editable": true
   },
   "source": [
    "## Sample-rate Conversion\n",
    "\n",
    "Sample-rate conversion it the process of changing the\n",
    "sampling rate of discrete signal to get new representation\n",
    "of the underlying continuous signal. The sampling rate\n",
    "can be either increased (upsampling) or decreased\n",
    "(decimation)."
   ]
  },
  {
   "cell_type": "code",
   "execution_count": 12,
   "metadata": {
    "collapsed": true,
    "deletable": true,
    "editable": true
   },
   "outputs": [],
   "source": [
    "import random"
   ]
  },
  {
   "cell_type": "code",
   "execution_count": 13,
   "metadata": {
    "collapsed": false,
    "deletable": true,
    "editable": true
   },
   "outputs": [],
   "source": [
    "_, test_spectrum = random.choice(list(spectra.items()))\n",
    "_, bar = random.choice(list(spectra.items()))"
   ]
  },
  {
   "cell_type": "code",
   "execution_count": 14,
   "metadata": {
    "collapsed": false,
    "deletable": true,
    "editable": true
   },
   "outputs": [
    {
     "data": {
      "text/plain": [
       "(array([ 6262.79277184,  6263.02370487,  6263.2546379 , ...,  6734.81988115,\n",
       "         6735.05081417,  6735.2817472 ]),\n",
       " array([ 6407.28165593,  6407.5125516 ,  6407.74344726, ...,  6879.2324001 ,\n",
       "         6879.46329577,  6879.69419144]))"
      ]
     },
     "execution_count": 14,
     "metadata": {},
     "output_type": "execute_result"
    }
   ],
   "source": [
    "# sampled at different wavelens\n",
    "test_spectrum['wavelen'], bar['wavelen']"
   ]
  },
  {
   "cell_type": "code",
   "execution_count": 15,
   "metadata": {
    "collapsed": false,
    "deletable": true,
    "editable": true,
    "scrolled": false
   },
   "outputs": [
    {
     "data": {
      "image/png": "[encoded data removed]",
      "text/plain": [
       "<matplotlib.figure.Figure at 0x7f7ebe7838d0>"
      ]
     },
     "metadata": {},
     "output_type": "display_data"
    }
   ],
   "source": [
    "def plot_spectrum_with_points(spectrum):\n",
    "    x = spectrum['wavelen']\n",
    "    y = spectrum['norm_flux']\n",
    "    plt.plot(x, y, 'o', x, y)\n",
    "\n",
    "plot_spectrum_with_points(test_spectrum)"
   ]
  },
  {
   "cell_type": "code",
   "execution_count": 16,
   "metadata": {
    "collapsed": true,
    "deletable": true,
    "editable": true
   },
   "outputs": [],
   "source": [
    "import numpy as np"
   ]
  },
  {
   "cell_type": "markdown",
   "metadata": {
    "deletable": true,
    "editable": true
   },
   "source": [
    "If resampled, upsampled and downsampled data are\n",
    "plotted it can be seen then surely upsampling is the best.\n",
    "Downsampling may lost some peaks. Therefore, upsampling\n",
    "is choosen but smaller sample-rate can be choosen if\n",
    "computation difficulties will be observed."
   ]
  },
  {
   "cell_type": "code",
   "execution_count": 17,
   "metadata": {
    "collapsed": true,
    "deletable": true,
    "editable": true
   },
   "outputs": [],
   "source": [
    "def resample_flux(new_wavelens, wavelens, flux):\n",
    "    '''Resample spectrum defined by wavelens and flux\n",
    "    to new_wavelens.'''\n",
    "    return np.interp(new_wavelens, wavelens, flux)"
   ]
  },
  {
   "cell_type": "code",
   "execution_count": 18,
   "metadata": {
    "collapsed": false,
    "deletable": true,
    "editable": true
   },
   "outputs": [
    {
     "data": {
      "text/plain": [
       "<matplotlib.legend.Legend at 0x7f7ebe4ed048>"
      ]
     },
     "execution_count": 18,
     "metadata": {},
     "output_type": "execute_result"
    },
    {
     "data": {
      "image/png": "[encoded data removed]",
      "text/plain": [
       "<matplotlib.figure.Figure at 0x7f7ebe81ff60>"
      ]
     },
     "metadata": {},
     "output_type": "display_data"
    }
   ],
   "source": [
    "plt.plot(test_spectrum['wavelen'], test_spectrum['norm_flux'], label='normalized')\n",
    "\n",
    "# plot upsampled spectrum\n",
    "upsampled_wavelens = np.linspace(start, end, 4000)\n",
    "plt.plot(\n",
    "    upsampled_wavelens,\n",
    "    resample_flux(\n",
    "        upsampled_wavelens,\n",
    "        test_spectrum['wavelen'],\n",
    "        test_spectrum['norm_flux']\n",
    "    ),\n",
    "    label='upsampled'\n",
    ")\n",
    "plt.legend()"
   ]
  },
  {
   "cell_type": "code",
   "execution_count": 19,
   "metadata": {
    "collapsed": false,
    "deletable": true,
    "editable": true
   },
   "outputs": [
    {
     "data": {
      "text/plain": [
       "<matplotlib.legend.Legend at 0x7f7ebec7ccf8>"
      ]
     },
     "execution_count": 19,
     "metadata": {},
     "output_type": "execute_result"
    },
    {
     "data": {
      "image/png": "[encoded data removed]",
      "text/plain": [
       "<matplotlib.figure.Figure at 0x7f7ebec7cc18>"
      ]
     },
     "metadata": {},
     "output_type": "display_data"
    }
   ],
   "source": [
    "# plot normalized spectrum\n",
    "plt.plot(test_spectrum['wavelen'], test_spectrum['norm_flux'], label='normalized')\n",
    "\n",
    "# define new wavelens whe number of wavelens is the same\n",
    "# as in original spectrum\n",
    "n_wavelens = test_spectrum['wavelen'].shape[0]\n",
    "sampled_wavelens = np.linspace(start, end, n_wavelens)\n",
    "# plot sampled spectrum\n",
    "plt.plot(\n",
    "    sampled_wavelens,\n",
    "    resample_flux(\n",
    "        sampled_wavelens,\n",
    "        test_spectrum['wavelen'],\n",
    "        test_spectrum['norm_flux']\n",
    "    ),\n",
    "    label='sampled'\n",
    ")\n",
    "plt.legend()"
   ]
  },
  {
   "cell_type": "code",
   "execution_count": 20,
   "metadata": {
    "collapsed": false,
    "deletable": true,
    "editable": true
   },
   "outputs": [
    {
     "data": {
      "text/plain": [
       "<matplotlib.legend.Legend at 0x7f7ebe4c60b8>"
      ]
     },
     "execution_count": 20,
     "metadata": {},
     "output_type": "execute_result"
    },
    {
     "data": {
      "image/png": "[encoded data removed]",
      "text/plain": [
       "<matplotlib.figure.Figure at 0x7f7ebe556390>"
      ]
     },
     "metadata": {},
     "output_type": "display_data"
    }
   ],
   "source": [
    "plt.plot(test_spectrum['wavelen'], test_spectrum['norm_flux'], label='normalized')\n",
    "\n",
    "# plot downsampled spectrum\n",
    "downsampled_wavelens = np.linspace(start, end, 1000)\n",
    "plt.plot(\n",
    "    downsampled_wavelens,\n",
    "    resample_flux(\n",
    "        downsampled_wavelens,\n",
    "        test_spectrum['wavelen'],\n",
    "        test_spectrum['norm_flux']\n",
    "    ),\n",
    "    label='downsampled'\n",
    ")\n",
    "plt.legend()"
   ]
  },
  {
   "cell_type": "code",
   "execution_count": 21,
   "metadata": {
    "collapsed": false,
    "deletable": true,
    "editable": true
   },
   "outputs": [
    {
     "data": {
      "text/plain": [
       "True"
      ]
     },
     "execution_count": 21,
     "metadata": {},
     "output_type": "execute_result"
    }
   ],
   "source": [
    "def are_wavelens_in_range(wavelen, start, end):\n",
    "    return wavelen[0] < start and wavelen[-1] > end\n",
    "    \n",
    "are_wavelens_in_range(\n",
    "    test_spectrum['wavelen'],\n",
    "    start,\n",
    "    end\n",
    ")"
   ]
  },
  {
   "cell_type": "code",
   "execution_count": 22,
   "metadata": {
    "collapsed": false,
    "deletable": true,
    "editable": true
   },
   "outputs": [],
   "source": [
    "resampled_spectra = {\n",
    "    spectrum_id: spectra[spectrum_id]\n",
    "    for spectrum_id in spectra\n",
    "    if are_wavelens_in_range(\n",
    "        spectra[spectrum_id]['wavelen'],\n",
    "        start,\n",
    "        end\n",
    "    ) and spectrum_id != 'rd270026' # this is outlier\n",
    "}\n",
    "\n",
    "for spectrum in resampled_spectra.values():\n",
    "    wavelen = spectrum['wavelen']\n",
    "    spectrum['resampled_wavelen'] = upsampled_wavelens\n",
    "    spectrum['resampled_flux'] = resample_flux(\n",
    "        upsampled_wavelens,\n",
    "        spectrum['wavelen'],\n",
    "        spectrum['norm_flux']\n",
    "    )"
   ]
  },
  {
   "cell_type": "code",
   "execution_count": 23,
   "metadata": {
    "collapsed": false,
    "deletable": true,
    "editable": true
   },
   "outputs": [
    {
     "data": {
      "text/plain": [
       "[<matplotlib.lines.Line2D at 0x7f7ebec8cb70>]"
      ]
     },
     "execution_count": 23,
     "metadata": {},
     "output_type": "execute_result"
    },
    {
     "data": {
      "image/png": "[encoded data removed]",
      "text/plain": [
       "<matplotlib.figure.Figure at 0x7f7ebec8c9e8>"
      ]
     },
     "metadata": {},
     "output_type": "display_data"
    }
   ],
   "source": [
    "# strange\n",
    "foo = spectra['rd270026']\n",
    "plt.plot(foo['wavelen'], foo['raw_flux'])\n",
    "plt.plot(foo['wavelen'], foo['norm_flux'])"
   ]
  },
  {
   "cell_type": "code",
   "execution_count": 24,
   "metadata": {
    "collapsed": false,
    "deletable": true,
    "editable": true
   },
   "outputs": [
    {
     "data": {
      "text/plain": [
       "(13344, 13208)"
      ]
     },
     "execution_count": 24,
     "metadata": {},
     "output_type": "execute_result"
    }
   ],
   "source": [
    "len(spectra), len(resampled_spectra)"
   ]
  },
  {
   "cell_type": "code",
   "execution_count": 25,
   "metadata": {
    "collapsed": true,
    "deletable": true,
    "editable": true
   },
   "outputs": [],
   "source": [
    "# serialize the object for later use\n",
    "pickle_filename = 'ondrejov-halpha-labeled-resampled.pickle'\n",
    "with open(os.path.join('data', pickle_filename), 'wb') as f:\n",
    "    pickle.dump(resampled_spectra, f)"
   ]
  }
 ],
 "metadata": {
  "kernelspec": {
   "display_name": "Python 3",
   "language": "python",
   "name": "python3"
  },
  "language_info": {
   "codemirror_mode": {
    "name": "ipython",
    "version": 3
   },
   "file_extension": ".py",
   "mimetype": "text/x-python",
   "name": "python",
   "nbconvert_exporter": "python",
   "pygments_lexer": "ipython3",
   "version": "3.4.2"
  }
 },
 "nbformat": 4,
 "nbformat_minor": 2
}
