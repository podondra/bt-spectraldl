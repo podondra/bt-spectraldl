{
 "cells": [
  {
   "cell_type": "markdown",
   "metadata": {
    "deletable": true,
    "editable": true
   },
   "source": [
    "# Data Download\n",
    "\n",
    "This notebook download all FITS data.\n",
    "List of files is in file `ondrejov-labeled-spectra.csv`.\n",
    "These spectra has been classified with\n",
    "[Spectral View](https://github.com/podondra/spectralview) tool."
   ]
  },
  {
   "cell_type": "code",
   "execution_count": 1,
   "metadata": {
    "collapsed": false,
    "deletable": true,
    "editable": true,
    "scrolled": false
   },
   "outputs": [
    {
     "name": "stdout",
     "output_type": "stream",
     "text": [
      "data/ondrejov-labeled-spectra.csv\r\n"
     ]
    }
   ],
   "source": [
    "LABELS_FILE = 'data/ondrejov-labeled-spectra.csv'\n",
    "%ls $LABELS_FILE"
   ]
  },
  {
   "cell_type": "code",
   "execution_count": 2,
   "metadata": {
    "collapsed": true,
    "deletable": true,
    "editable": true
   },
   "outputs": [],
   "source": [
    "import urllib.request\n",
    "import urllib.parse\n",
    "import io\n",
    "import os\n",
    "import glob\n",
    "from functools import partial\n",
    "from itertools import count\n",
    "import numpy as np\n",
    "from astropy.io import fits\n",
    "import matplotlib.pyplot as plt\n",
    "%matplotlib inline"
   ]
  },
  {
   "cell_type": "markdown",
   "metadata": {
    "deletable": true,
    "editable": true
   },
   "source": [
    "## Read CSV with Labels"
   ]
  },
  {
   "cell_type": "code",
   "execution_count": 3,
   "metadata": {
    "collapsed": false,
    "deletable": true,
    "editable": true
   },
   "outputs": [
    {
     "data": {
      "text/plain": [
       "((13335,), array([(b'ivo://asu.cas.cz/stel/ccd700/uc050029', 2),\n",
       "        (b'ivo://asu.cas.cz/stel/ccd700/sd150065', 1),\n",
       "        (b'ivo://asu.cas.cz/stel/ccd700/oj140028', 1), ...,\n",
       "        (b'ivo://asu.cas.cz/stel/ccd700/rd260049', 0),\n",
       "        (b'ivo://asu.cas.cz/stel/ccd700/ti110051', 1),\n",
       "        (b'ivo://asu.cas.cz/stel/ccd700/a201409230031', 1)], \n",
       "       dtype=[('f0', 'S43'), ('f1', '<i8')]))"
      ]
     },
     "execution_count": 3,
     "metadata": {},
     "output_type": "execute_result"
    }
   ],
   "source": [
    "labeled_idents = np.genfromtxt(\n",
    "    LABELS_FILE,\n",
    "    delimiter=',',   # CSV file\n",
    "    dtype=None,      # guess dtypes automatically\n",
    "    skip_header=1    # first he\n",
    ")\n",
    "labeled_idents.shape, labeled_idents"
   ]
  },
  {
   "cell_type": "code",
   "execution_count": 4,
   "metadata": {
    "collapsed": false,
    "deletable": true,
    "editable": true
   },
   "outputs": [
    {
     "data": {
      "text/plain": [
       "13335"
      ]
     },
     "execution_count": 4,
     "metadata": {},
     "output_type": "execute_result"
    }
   ],
   "source": [
    "# each public id is unique and set operation will be usefull later\n",
    "spectra_idents = set()\n",
    "for ident, label in labeled_idents:\n",
    "    # ident is binary string so convert it to python unicode string\n",
    "    spectra_idents.add(ident.decode('ascii'))\n",
    "\n",
    "len(spectra_idents)"
   ]
  },
  {
   "cell_type": "markdown",
   "metadata": {
    "deletable": true,
    "editable": true
   },
   "source": [
    "## Simple Spectral Access protocol\n",
    "\n",
    "This is not much revlevant now since only datalink is used\n",
    "to download normalized spectra.\n",
    "\n",
    "SSAP, SSA defines a uniform intreface to remotely discover\n",
    "and access one dimenisonal spectra. Spectral data access\n",
    "mmay involve active transformation of data. SSA also\n",
    "defines complete metadata to describe the available\n",
    "datasets. It makes use of VOTable for metadata exchange.\n",
    "\n",
    "### Architecture\n",
    "\n",
    "A query is used for data discovery and to negotiate the\n",
    "details of the static or dynamically created dataset\n",
    "to be retrieved. SSA allows to mediate not only dataset\n",
    "metadata but the actual dataset itself. Direct access to\n",
    "data is also provided.\n",
    "\n",
    "A single service may support multiple operation to perform\n",
    "various functions. The current interface use an HTTP GET\n",
    "request to submit parametrized requests with responses\n",
    "being returned as for example FITS or VOTable. Defined\n",
    "operations are the following:\n",
    "\n",
    "1. A queryData operation return a VOTable describing\n",
    "candidate datasets.\n",
    "2. A getData operation is used to access an individual\n",
    "dataset."
   ]
  },
  {
   "cell_type": "code",
   "execution_count": 5,
   "metadata": {
    "collapsed": true,
    "deletable": true,
    "editable": true
   },
   "outputs": [],
   "source": [
    "def request_url(url):\n",
    "    '''Make HTTP request and return response data.'''\n",
    "    with urllib.request.urlopen(url) as response:\n",
    "         data = response.read()\n",
    "    return data"
   ]
  },
  {
   "cell_type": "markdown",
   "metadata": {
    "deletable": true,
    "editable": true
   },
   "source": [
    "## Datalink\n",
    "\n",
    "Datalink is a service for working with spectra.\n",
    "I don't really understand what is it but it do normalization automatically.\n",
    "For information about the one which is used here see\n",
    "http://vos2.asu.cas.cz/ccd700/q/sdl/info."
   ]
  },
  {
   "cell_type": "code",
   "execution_count": 6,
   "metadata": {
    "collapsed": false,
    "deletable": true,
    "editable": true
   },
   "outputs": [
    {
     "data": {
      "text/plain": [
       "'http://vos2.asu.cas.cz/ccd700/q/sdl/dlget?FLUXCALIB=normalized&BAND=6.5e-07+6.6e-07&ID=ivo%3A%2F%2Fasu.cas.cz%2Fstel%2Fccd700%2Fsh270028&FORMAT=application%2Ffits'"
      ]
     },
     "execution_count": 6,
     "metadata": {},
     "output_type": "execute_result"
    }
   ],
   "source": [
    "datalink_service = 'http://vos2.asu.cas.cz/ccd700/q/sdl/dlget'\n",
    "\n",
    "def make_datalink_url(\n",
    "    pub_id, fluxcalib=None, wave_min=None, wave_max=None,\n",
    "    file_format='application/fits', url=datalink_service\n",
    "):\n",
    "    url_parameters = {'ID': pub_id}\n",
    "    if fluxcalib:\n",
    "        url_parameters['FLUXCALIB'] = fluxcalib\n",
    "    if wave_min and wave_max:\n",
    "        url_parameters['BAND'] = str(wave_min) + ' ' + str(wave_max)\n",
    "    if file_format:\n",
    "        url_parameters['FORMAT'] = file_format\n",
    "    \n",
    "    return url + '?' + urllib.parse.urlencode(url_parameters)\n",
    "\n",
    "make_datalink_url(\n",
    "    'ivo://asu.cas.cz/stel/ccd700/sh270028',\n",
    "    fluxcalib='normalized',\n",
    "    wave_min=6500e-10, wave_max=6600e-10\n",
    ")"
   ]
  },
  {
   "cell_type": "markdown",
   "metadata": {
    "deletable": true,
    "editable": true
   },
   "source": [
    "## Show 'fluxcalib' Parameters\n",
    "\n",
    "To show how to work with datalink\n",
    "and what it offers.\n",
    "From this is obvious that the 'normalized' setting is the desired."
   ]
  },
  {
   "cell_type": "code",
   "execution_count": 7,
   "metadata": {
    "collapsed": false,
    "deletable": true,
    "editable": true
   },
   "outputs": [
    {
     "data": {
      "image/png": "[encoded data removed]",
      "text/plain": [
       "<matplotlib.figure.Figure at 0x7f7838697630>"
      ]
     },
     "metadata": {},
     "output_type": "display_data"
    }
   ],
   "source": [
    "def plot_fluxcalib(fluxcalib, ax):\n",
    "    # create the datalink service URL\n",
    "    datalink_url = make_datalink_url('ivo://asu.cas.cz/stel/ccd700/sh270028', fluxcalib=fluxcalib)\n",
    "    # download the data\n",
    "    fits_data = request_url(datalink_url)\n",
    "    # open the data as file\n",
    "    hdulist = fits.open(io.BytesIO(fits_data))\n",
    "    # plot it\n",
    "    ax.set_title('fluxcalib is ' + str(fluxcalib))\n",
    "    ax.plot(hdulist[1].data['spectral'], hdulist[1].data['flux'])\n",
    "\n",
    "fluxcalibs = [None, 'normalized', 'relative', 'UNCALIBRATED']\n",
    "f, axs = plt.subplots(4, 1)\n",
    "\n",
    "for fluxcalib, ax in zip(fluxcalibs, axs):\n",
    "    plot_fluxcalib(fluxcalib, ax)\n",
    "\n",
    "plt.tight_layout()"
   ]
  },
  {
   "cell_type": "markdown",
   "metadata": {
    "deletable": true,
    "editable": true
   },
   "source": [
    "## FITS Download"
   ]
  },
  {
   "cell_type": "code",
   "execution_count": 8,
   "metadata": {
    "collapsed": true,
    "deletable": true,
    "editable": true
   },
   "outputs": [],
   "source": [
    "def download_spectrum(pub_id, n, directory, fluxcalib, minimum=None, maximum=None):\n",
    "    # get the name from public id\n",
    "    name = pub_id.split('/')[-1]\n",
    "    # directory HAS TO end with '/'\n",
    "    path = directory + name + '.fits'\n",
    "    url = make_datalink_url(pub_id, fluxcalib, minimum, maximum)\n",
    "    \n",
    "    print('{:5} downloading {}'.format(n, name))\n",
    "    \n",
    "    try:\n",
    "        data = request_url(url)\n",
    "    except Exception as e:\n",
    "        print(e)\n",
    "        return name\n",
    "    \n",
    "    with open(path, 'wb') as f:\n",
    "        f.write(data)"
   ]
  },
  {
   "cell_type": "code",
   "execution_count": 9,
   "metadata": {
    "collapsed": true,
    "deletable": true,
    "editable": true
   },
   "outputs": [],
   "source": [
    "FITS_DIR = 'ssap/'\n",
    "%mkdir $FITS_DIR 2> /dev/null\n",
    "\n",
    "ondrejov_downloader = partial(\n",
    "    download_spectrum,\n",
    "    directory=FITS_DIR,\n",
    "    fluxcalib='normalized'\n",
    ")"
   ]
  },
  {
   "cell_type": "code",
   "execution_count": 10,
   "metadata": {
    "collapsed": false,
    "deletable": true,
    "editable": true
   },
   "outputs": [
    {
     "data": {
      "text/plain": [
       "'ivo://asu.cas.cz/stel/ccd700/uh260033'"
      ]
     },
     "execution_count": 10,
     "metadata": {},
     "output_type": "execute_result"
    }
   ],
   "source": [
    "ccd700_prefix = 'ivo://asu.cas.cz/stel/ccd700/'\n",
    "\n",
    "def get_pub_id(path, prefix=ccd700_prefix):\n",
    "    return prefix + os.path.splitext(os.path.split(path)[-1])[0]\n",
    "\n",
    "get_pub_id('ssap/uh260033.fits')"
   ]
  },
  {
   "cell_type": "code",
   "execution_count": 11,
   "metadata": {
    "collapsed": false,
    "deletable": true,
    "editable": true,
    "scrolled": true
   },
   "outputs": [
    {
     "name": "stdout",
     "output_type": "stream",
     "text": [
      "All spectra downloaded.\n"
     ]
    }
   ],
   "source": [
    "spectra_idents -= set(map(get_pub_id, glob.glob(FITS_DIR + '*.fits')))\n",
    "if len(spectra_idents) != 0:\n",
    "    donwload_info = list(map(ondrejov_downloader, spectra_idents, count(start=1)))\n",
    "print('All spectra downloaded.')"
   ]
  }
 ],
 "metadata": {
  "kernelspec": {
   "display_name": "Python 3",
   "language": "python",
   "name": "python3"
  },
  "language_info": {
   "codemirror_mode": {
    "name": "ipython",
    "version": 3
   },
   "file_extension": ".py",
   "mimetype": "text/x-python",
   "name": "python",
   "nbconvert_exporter": "python",
   "pygments_lexer": "ipython3",
   "version": "3.5.2"
  }
 },
 "nbformat": 4,
 "nbformat_minor": 2
}
