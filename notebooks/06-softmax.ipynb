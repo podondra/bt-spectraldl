{
 "cells": [
  {
   "cell_type": "code",
   "execution_count": 1,
   "metadata": {
    "collapsed": false,
    "deletable": true,
    "editable": true
   },
   "outputs": [],
   "source": [
    "import math\n",
    "import h5py\n",
    "import numpy as np\n",
    "from sklearn.model_selection import StratifiedKFold\n",
    "from sklearn.utils import shuffle\n",
    "from sklearn import preprocessing\n",
    "import tensorflow as tf"
   ]
  },
  {
   "cell_type": "code",
   "execution_count": 22,
   "metadata": {
    "collapsed": false,
    "deletable": true,
    "editable": true
   },
   "outputs": [],
   "source": [
    "f = h5py.File('data.hdf5')\n",
    "\n",
    "X = f['X_balanced'][...]\n",
    "y = f['y_balanced'][...]\n",
    "N_FEATURES = X.shape[1]\n",
    "N_CLASSES = 5"
   ]
  },
  {
   "cell_type": "markdown",
   "metadata": {
    "deletable": true,
    "editable": true
   },
   "source": [
    "## Cross-validation\n",
    "\n",
    "http://scikit-learn.org/stable/modules/cross_validation.html\n",
    "\n",
    "Evaluating estimator performance. Maybe `cross_val_score`\n",
    "can be used if TensorFlow supports estimator\n",
    "with the right API."
   ]
  },
  {
   "cell_type": "code",
   "execution_count": 29,
   "metadata": {
    "collapsed": true
   },
   "outputs": [],
   "source": [
    "def make_one_hot(y, n_classes=N_CLASSES):\n",
    "    one_hot = np.zeros((y.shape[0], n_classes), dtype=y.dtype)\n",
    "    one_hot[np.arange(y.shape[0]), y] = 1\n",
    "    return one_hot"
   ]
  },
  {
   "cell_type": "code",
   "execution_count": 28,
   "metadata": {
    "collapsed": false,
    "deletable": true,
    "editable": true
   },
   "outputs": [
    {
     "data": {
      "text/plain": [
       "array([[1, 0, 0, 0, 0],\n",
       "       [1, 0, 0, 0, 0],\n",
       "       [1, 0, 0, 0, 0],\n",
       "       ..., \n",
       "       [1, 0, 0, 0, 0],\n",
       "       [1, 0, 0, 0, 0],\n",
       "       [1, 0, 0, 0, 0]], dtype=int8)"
      ]
     },
     "execution_count": 28,
     "metadata": {},
     "output_type": "execute_result"
    }
   ],
   "source": [
    "one_hot = make_one_hot(y)\n",
    "one_hot"
   ]
  },
  {
   "cell_type": "markdown",
   "metadata": {
    "deletable": true,
    "editable": true
   },
   "source": [
    "### TensorFlow softmax graph\n",
    "\n",
    "https://www.tensorflow.org/get_started/mnist/mechanics"
   ]
  },
  {
   "cell_type": "code",
   "execution_count": 7,
   "metadata": {
    "collapsed": true,
    "deletable": true,
    "editable": true
   },
   "outputs": [],
   "source": [
    "# start interactive session\n",
    "# session is connection to C++ backend\n",
    "# typically construct graph and run it in session\n",
    "sess = tf.InteractiveSession()\n",
    "\n",
    "X_op = tf.placeholder(tf.float32, shape=[None, N_FEATURES])\n",
    "y_op = tf.placeholder(tf.int8, shape=[None, N_CLASSES])\n",
    "\n",
    "W = tf.Variable(tf.zeros([N_FEATURES, N_CLASSES]))\n",
    "b = tf.Variable(tf.zeros([N_CLASSES]))\n",
    "\n",
    "logits = tf.matmul(X_op, W) + b\n",
    "\n",
    "cross_entropy = tf.reduce_mean(\n",
    "    tf.nn.softmax_cross_entropy_with_logits(\n",
    "        labels=y_op, logits=logits\n",
    "    )\n",
    ")\n",
    "\n",
    "train_step = tf.train.GradientDescentOptimizer(0.5).minimize(cross_entropy)\n",
    "\n",
    "correct_prediction = tf.equal(\n",
    "    tf.argmax(logits, 1), tf.argmax(y_op, 1)\n",
    ")\n",
    "\n",
    "accuracy = tf.reduce_mean(\n",
    "    tf.cast(correct_prediction, tf.float32)\n",
    ")"
   ]
  },
  {
   "cell_type": "code",
   "execution_count": 15,
   "metadata": {
    "collapsed": false,
    "deletable": true,
    "editable": true,
    "scrolled": true
   },
   "outputs": [
    {
     "name": "stdout",
     "output_type": "stream",
     "text": [
      "epoch:   0 train_accuracy: 73.00 loss: 6.4849358\n",
      "epoch:  10 train_accuracy: 88.67 loss: 1.1685427\n",
      "epoch:  20 train_accuracy: 98.17 loss: 0.1135308\n",
      "epoch:  30 train_accuracy: 99.04 loss: 0.0489655\n",
      "epoch:  40 train_accuracy: 99.52 loss: 0.0273929\n",
      "epoch:  50 train_accuracy: 99.67 loss: 0.0168916\n",
      "epoch:  60 train_accuracy: 99.83 loss: 0.0113925\n",
      "epoch:  70 train_accuracy: 99.89 loss: 0.0085677\n",
      "epoch:  80 train_accuracy: 99.91 loss: 0.0066205\n",
      "epoch:  90 train_accuracy: 99.91 loss: 0.0051121\n",
      "epoch: 100 train_accuracy: 99.96 loss: 0.0039684\n",
      "epoch: 110 train_accuracy: 99.96 loss: 0.0032695\n",
      "epoch: 120 train_accuracy: 99.98 loss: 0.0028949\n",
      "epoch: 130 train_accuracy: 100.00 loss: 0.0026396\n",
      "epoch: 140 train_accuracy: 100.00 loss: 0.0024427\n",
      "epoch: 150 train_accuracy: 100.00 loss: 0.0022824\n",
      "epoch: 160 train_accuracy: 100.00 loss: 0.0021477\n",
      "epoch: 170 train_accuracy: 100.00 loss: 0.0020323\n",
      "epoch: 180 train_accuracy: 100.00 loss: 0.0019318\n",
      "epoch: 190 train_accuracy: 100.00 loss: 0.0018432\n",
      "validation accuracy: 99.91\n",
      "epoch:   0 train_accuracy: 72.49 loss: 6.6029234\n",
      "epoch:  10 train_accuracy: 90.62 loss: 0.9451294\n",
      "epoch:  20 train_accuracy: 97.89 loss: 0.1072400\n",
      "epoch:  30 train_accuracy: 99.17 loss: 0.0360727\n",
      "epoch:  40 train_accuracy: 99.63 loss: 0.0194877\n",
      "epoch:  50 train_accuracy: 99.72 loss: 0.0116572\n",
      "epoch:  60 train_accuracy: 99.78 loss: 0.0076001\n",
      "epoch:  70 train_accuracy: 99.89 loss: 0.0056251\n",
      "epoch:  80 train_accuracy: 99.93 loss: 0.0045612\n",
      "epoch:  90 train_accuracy: 99.98 loss: 0.0038931\n",
      "epoch: 100 train_accuracy: 99.98 loss: 0.0034314\n",
      "epoch: 110 train_accuracy: 99.98 loss: 0.0030908\n",
      "epoch: 120 train_accuracy: 99.98 loss: 0.0028272\n",
      "epoch: 130 train_accuracy: 100.00 loss: 0.0026158\n",
      "epoch: 140 train_accuracy: 100.00 loss: 0.0024413\n",
      "epoch: 150 train_accuracy: 100.00 loss: 0.0022942\n",
      "epoch: 160 train_accuracy: 100.00 loss: 0.0021679\n",
      "epoch: 170 train_accuracy: 100.00 loss: 0.0020578\n",
      "epoch: 180 train_accuracy: 100.00 loss: 0.0019608\n",
      "epoch: 190 train_accuracy: 100.00 loss: 0.0018745\n",
      "validation accuracy: 99.22\n",
      "epoch:   0 train_accuracy: 71.05 loss: 6.6311555\n",
      "epoch:  10 train_accuracy: 91.51 loss: 0.7507955\n",
      "epoch:  20 train_accuracy: 97.83 loss: 0.1036968\n",
      "epoch:  30 train_accuracy: 99.02 loss: 0.0441022\n",
      "epoch:  40 train_accuracy: 99.50 loss: 0.0250765\n",
      "epoch:  50 train_accuracy: 99.70 loss: 0.0153473\n",
      "epoch:  60 train_accuracy: 99.85 loss: 0.0101091\n",
      "epoch:  70 train_accuracy: 99.89 loss: 0.0072974\n",
      "epoch:  80 train_accuracy: 99.98 loss: 0.0057594\n",
      "epoch:  90 train_accuracy: 99.98 loss: 0.0047617\n",
      "epoch: 100 train_accuracy: 99.98 loss: 0.0040649\n",
      "epoch: 110 train_accuracy: 99.98 loss: 0.0035949\n",
      "epoch: 120 train_accuracy: 100.00 loss: 0.0032642\n",
      "epoch: 130 train_accuracy: 100.00 loss: 0.0030114\n",
      "epoch: 140 train_accuracy: 100.00 loss: 0.0028073\n",
      "epoch: 150 train_accuracy: 100.00 loss: 0.0026368\n",
      "epoch: 160 train_accuracy: 100.00 loss: 0.0024912\n",
      "epoch: 170 train_accuracy: 100.00 loss: 0.0023647\n",
      "epoch: 180 train_accuracy: 100.00 loss: 0.0022534\n",
      "epoch: 190 train_accuracy: 100.00 loss: 0.0021544\n",
      "validation accuracy: 99.57\n",
      "epoch:   0 train_accuracy: 72.62 loss: 6.6545482\n",
      "epoch:  10 train_accuracy: 78.44 loss: 4.1245203\n",
      "epoch:  20 train_accuracy: 97.85 loss: 0.1417409\n",
      "epoch:  30 train_accuracy: 98.78 loss: 0.0545198\n",
      "epoch:  40 train_accuracy: 99.39 loss: 0.0269848\n",
      "epoch:  50 train_accuracy: 99.63 loss: 0.0158116\n",
      "epoch:  60 train_accuracy: 99.83 loss: 0.0103056\n",
      "epoch:  70 train_accuracy: 99.91 loss: 0.0075375\n",
      "epoch:  80 train_accuracy: 99.96 loss: 0.0059708\n",
      "epoch:  90 train_accuracy: 99.96 loss: 0.0049317\n",
      "epoch: 100 train_accuracy: 99.96 loss: 0.0041739\n",
      "epoch: 110 train_accuracy: 99.96 loss: 0.0036455\n",
      "epoch: 120 train_accuracy: 99.98 loss: 0.0032749\n",
      "epoch: 130 train_accuracy: 99.98 loss: 0.0029951\n",
      "epoch: 140 train_accuracy: 100.00 loss: 0.0027718\n",
      "epoch: 150 train_accuracy: 100.00 loss: 0.0025871\n",
      "epoch: 160 train_accuracy: 100.00 loss: 0.0024309\n",
      "epoch: 170 train_accuracy: 100.00 loss: 0.0022963\n",
      "epoch: 180 train_accuracy: 100.00 loss: 0.0021789\n",
      "epoch: 190 train_accuracy: 100.00 loss: 0.0020751\n",
      "validation accuracy: 99.39\n",
      "epoch:   0 train_accuracy: 73.01 loss: 6.4924130\n",
      "epoch:  10 train_accuracy: 91.49 loss: 0.8479853\n",
      "epoch:  20 train_accuracy: 98.07 loss: 0.1135860\n",
      "epoch:  30 train_accuracy: 98.96 loss: 0.0464958\n",
      "epoch:  40 train_accuracy: 99.48 loss: 0.0257517\n",
      "epoch:  50 train_accuracy: 99.63 loss: 0.0153802\n",
      "epoch:  60 train_accuracy: 99.78 loss: 0.0099388\n",
      "epoch:  70 train_accuracy: 99.89 loss: 0.0071451\n",
      "epoch:  80 train_accuracy: 99.93 loss: 0.0055739\n",
      "epoch:  90 train_accuracy: 99.93 loss: 0.0046175\n",
      "epoch: 100 train_accuracy: 99.96 loss: 0.0039993\n",
      "epoch: 110 train_accuracy: 99.98 loss: 0.0035701\n",
      "epoch: 120 train_accuracy: 99.98 loss: 0.0032479\n",
      "epoch: 130 train_accuracy: 99.98 loss: 0.0029929\n",
      "epoch: 140 train_accuracy: 99.98 loss: 0.0027841\n",
      "epoch: 150 train_accuracy: 99.98 loss: 0.0026089\n",
      "epoch: 160 train_accuracy: 100.00 loss: 0.0024589\n",
      "epoch: 170 train_accuracy: 100.00 loss: 0.0023287\n",
      "epoch: 180 train_accuracy: 100.00 loss: 0.0022143\n",
      "epoch: 190 train_accuracy: 100.00 loss: 0.0021128\n",
      "validation accuracy: 99.74\n"
     ]
    }
   ],
   "source": [
    "# stratified k-folds cross-validator\n",
    "# the folds preserve the percentage for each class\n",
    "skf = StratifiedKFold(n_splits=5)\n",
    "skf\n",
    "\n",
    "# shuffle the matrixes\n",
    "X, y = shuffle(X, y, random_state=0)\n",
    "\n",
    "accuracies = np.zeros((5,))\n",
    "for iteration, (train_idx, valid_idx) in enumerate(skf.split(X, y)):\n",
    "    # split to train and validation seet\n",
    "    X_train, y_train = X[train_idx], one_hot[train_idx]\n",
    "    X_valid, y_valid = X[valid_idx], one_hot[valid_idx]\n",
    "\n",
    "    # preprocessing\n",
    "    scaler = preprocessing.StandardScaler().fit(X_train)\n",
    "    X_train_transformed = scaler.transform(X_train)\n",
    "    \n",
    "    # initialize variables\n",
    "    sess.run(tf.global_variables_initializer())\n",
    "    \n",
    "    # fit model\n",
    "    train_dict = {\n",
    "        X_op: X_train_transformed,\n",
    "        y_op: y_train,\n",
    "    }\n",
    "    for i in range(200):\n",
    "        train_step.run(feed_dict=train_dict)\n",
    "        if i % 10 == 0:\n",
    "            train_acc, loss = sess.run([accuracy, cross_entropy], feed_dict=train_dict)\n",
    "            print('epoch: {:3} train_accuracy: {:.2f} loss: {:.7f}'.format(\n",
    "                i, train_acc * 100, loss\n",
    "            ))\n",
    "    \n",
    "    # evalueta model\n",
    "    X_valid_transformed = scaler.transform(X_valid)\n",
    "    valid_dict={\n",
    "        X_op: X_valid_transformed,\n",
    "        y_op: y_valid,\n",
    "    }\n",
    "    accuracy_score = accuracy.eval(feed_dict=valid_dict)\n",
    "    accuracies[iteration] = accuracy_score\n",
    "    print('validation accuracy: {:.2f}'.format(accuracy_score * 100))\n",
    "\n",
    "accuracies.mean(), accuracies.std()"
   ]
  },
  {
   "cell_type": "code",
   "execution_count": 32,
   "metadata": {
    "collapsed": false,
    "deletable": true,
    "editable": true
   },
   "outputs": [
    {
     "data": {
      "text/plain": [
       "((175, 4000), (175,), (175, 5))"
      ]
     },
     "execution_count": 32,
     "metadata": {},
     "output_type": "execute_result"
    }
   ],
   "source": [
    "X_test = f['X_test'][...]\n",
    "y_test = f['y_test'][...]\n",
    "\n",
    "one_hot_test = make_one_hot(y_test)\n",
    "X_test.shape, y_test.shape, one_hot_test.shape"
   ]
  },
  {
   "cell_type": "code",
   "execution_count": 31,
   "metadata": {
    "collapsed": false,
    "deletable": true,
    "editable": true
   },
   "outputs": [
    {
     "name": "stderr",
     "output_type": "stream",
     "text": [
      "/home/podondra/bt-text/notebooks/venv/lib/python3.4/site-packages/sklearn/utils/validation.py:429: DataConversionWarning: Data with input dtype >f8 was converted to float64 by StandardScaler.\n",
      "  warnings.warn(msg, _DataConversionWarning)\n"
     ]
    },
    {
     "data": {
      "text/plain": [
       "0.81714284"
      ]
     },
     "execution_count": 31,
     "metadata": {},
     "output_type": "execute_result"
    }
   ],
   "source": [
    "test_dict = {\n",
    "    X_op: scaler.transform(X_test),\n",
    "    y_op: one_hot_test,\n",
    "}\n",
    "test_accuracy = accuracy.eval(feed_dict=test_dict)\n",
    "test_accuracy"
   ]
  },
  {
   "cell_type": "code",
   "execution_count": 33,
   "metadata": {
    "collapsed": true,
    "deletable": true,
    "editable": true
   },
   "outputs": [],
   "source": [
    "f.close()"
   ]
  }
 ],
 "metadata": {
  "kernelspec": {
   "display_name": "Python 3",
   "language": "python",
   "name": "python3"
  },
  "language_info": {
   "codemirror_mode": {
    "name": "ipython",
    "version": 3
   },
   "file_extension": ".py",
   "mimetype": "text/x-python",
   "name": "python",
   "nbconvert_exporter": "python",
   "pygments_lexer": "ipython3",
   "version": "3.4.2"
  }
 },
 "nbformat": 4,
 "nbformat_minor": 2
}
