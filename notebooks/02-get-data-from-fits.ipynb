{
 "cells": [
  {
   "cell_type": "markdown",
   "metadata": {},
   "source": [
    "# From FITS to HDF5\n",
    "\n",
    "Purpose of this notebook is to get the data to suitable\n",
    "data structure for preprocessing."
   ]
  },
  {
   "cell_type": "markdown",
   "metadata": {},
   "source": [
    "## FITS file format\n",
    "\n",
    "https://fits.gsfc.nasa.gov/fits_primer.html\n",
    "\n",
    "Flexible Image Transport System is data format used within\n",
    "astronomy for transporting, analyzing, archiving scientific\n",
    "data files. It is design to store data sets consisting of\n",
    "multidimensiional arrays and two dimensional tables."
   ]
  },
  {
   "cell_type": "code",
   "execution_count": 1,
   "metadata": {
    "collapsed": true
   },
   "outputs": [],
   "source": [
    "import os\n",
    "import glob\n",
    "import random\n",
    "import h5py\n",
    "import astropy.io.fits\n",
    "import numpy as np\n",
    "import matplotlib.pyplot as plt\n",
    "%matplotlib inline"
   ]
  },
  {
   "cell_type": "code",
   "execution_count": 2,
   "metadata": {},
   "outputs": [
    {
     "data": {
      "text/plain": [
       "13335"
      ]
     },
     "execution_count": 2,
     "metadata": {},
     "output_type": "execute_result"
    }
   ],
   "source": [
    "# find the normalized spectra in data_path directory\n",
    "# add all filenames to the list fits_paths\n",
    "data_path = 'ssap/'\n",
    "fits_paths = glob.glob(data_path + '*.fits')\n",
    "len(fits_paths)"
   ]
  },
  {
   "cell_type": "code",
   "execution_count": 3,
   "metadata": {},
   "outputs": [
    {
     "data": {
      "text/plain": [
       "'ssap/vi300015.fits'"
      ]
     },
     "execution_count": 3,
     "metadata": {},
     "output_type": "execute_result"
    }
   ],
   "source": [
    "# pick random fits\n",
    "random_fits = random.choice(fits_paths)\n",
    "random_fits"
   ]
  },
  {
   "cell_type": "markdown",
   "metadata": {},
   "source": [
    "### HDUs\n",
    "\n",
    "A FITS file is comprised of segmets called Header/Data\n",
    "Units (HDUs). The first HDU is called the 'Primary HDU'.\n",
    "The primary data array can contain a 1-999 dimensional\n",
    "array of numbers. A typical primary array could contain\n",
    "a 1 dimensional **spectrum**, a 2 dimensional image,\n",
    "a 3 dimensional data cube.\n",
    "\n",
    "Any number of additional HDUs may follow the primary array.\n",
    "These HDUs are referred as 'extensions'. There are three\n",
    "types of standart extensions currently defined:\n",
    "\n",
    "1. Image Extension (`XTENSION = 'IMAGE'`)\n",
    "2. ASCII Table Extension (`XTENSION = 'TABLE'`)\n",
    "3. Binary Table Extension (`XTENSION = 'BINTABLE'`)"
   ]
  },
  {
   "cell_type": "code",
   "execution_count": 4,
   "metadata": {},
   "outputs": [
    {
     "name": "stdout",
     "output_type": "stream",
     "text": [
      "Filename: ssap/vi300015.fits\n",
      "No.    Name         Type      Cards   Dimensions   Format\n",
      "  0  PRIMARY     PrimaryHDU       5   ()      \n",
      "  1              BinTableHDU     39   1757R x 2C   [D, D]   \n"
     ]
    }
   ],
   "source": [
    "# open file with astropy\n",
    "hdulist = astropy.io.fits.open(random_fits)\n",
    "# display info about the HDUs\n",
    "hdulist.info()"
   ]
  },
  {
   "cell_type": "markdown",
   "metadata": {},
   "source": [
    "### Header Units\n",
    "\n",
    "Every HDU consists of an ASCII formatted 'Header Unit' and\n",
    "'Data Unit'.\n",
    "\n",
    "Each header unit contains a sequence of fixed-length 80\n",
    "character long keyword record which have form:\n",
    "\n",
    "    KEYNAME = value / comment string\n",
    "\n",
    "Non-printing ASCII character such as tabs,\n",
    "carriage-returns, line-feeds are not allowed anywhere in\n",
    "the header unit."
   ]
  },
  {
   "cell_type": "code",
   "execution_count": 5,
   "metadata": {
    "scrolled": true
   },
   "outputs": [
    {
     "data": {
      "text/plain": [
       "SIMPLE  =                    T / conforms to FITS standard                      \n",
       "BITPIX  =                    8 / array data type                                \n",
       "NAXIS   =                    0 / number of array dimensions                     \n",
       "EXTEND  =                    T / More exts following                            \n",
       "DATE    = '2017-04-07'         / Date file was written                          "
      ]
     },
     "execution_count": 5,
     "metadata": {},
     "output_type": "execute_result"
    }
   ],
   "source": [
    "hdulist[0].header"
   ]
  },
  {
   "cell_type": "code",
   "execution_count": 6,
   "metadata": {},
   "outputs": [
    {
     "data": {
      "text/plain": [
       "XTENSION= 'BINTABLE'           / binary table extension                         \n",
       "BITPIX  =                    8 / array data type                                \n",
       "NAXIS   =                    2 / number of array dimensions                     \n",
       "NAXIS1  =                   16 / length of dimension 1                          \n",
       "NAXIS2  =                 1757 / length of dimension 2                          \n",
       "PCOUNT  =                    0 / number of group parameters                     \n",
       "GCOUNT  =                    1 / number of groups                               \n",
       "TFIELDS =                    2 / number of table fields                         \n",
       "TTYPE1  = 'spectral'           / Air wavelength                                 \n",
       "TFORM1  = 'D       '                                                            \n",
       "TUNIT1  = 'Angstrom'                                                            \n",
       "TTYPE2  = 'flux    '           / Relative flux                                  \n",
       "TFORM2  = 'D       '                                                            \n",
       "TUTYP1  = 'spec:spectrum.data.spectralaxis.value'                               \n",
       "TUTYP2  = 'spec:spectrum.data.fluxaxis.value'                                   \n",
       "TITLE   = 'ccd700/data/hd224699/6255-6767/vi300015.fit'                         \n",
       "DS_IDPUB= 'ivo://asu.cas.cz/stel/ccd700/vi300015'                               \n",
       "DATE    = '2012-10-05T19:48:50'                                                 \n",
       "VODATE  = '2016-02-02T11:21:47.523826'                                          \n",
       "SPECBAND= 'Optical '                                                            \n",
       "OBJECT  = 'HD 224699'                                                           \n",
       "SRCCLASS= 'star    '                                                            \n",
       "RA      = 0.005029165694650557                                                  \n",
       "DEC     =    38.85927777953746                                                  \n",
       "APERTURE=             0.000167 / [deg]                                          \n",
       "TMID    =      56200.770914352 / [d]                                            \n",
       "TELAPSE =               1800.0 / [s]                                            \n",
       "SPEC_VAL= 6.50752207352305E-07 / [m]                                            \n",
       "SPEC_BW = 4.50751216689306E-08 / [m]                                            \n",
       "TDMIN1  = 6.28214646517839E-07 / [m]                                            \n",
       "TDMAX1  = 6.73289768186770E-07 / [m]                                            \n",
       "RADECSYS= 'ICRS    '                                                            \n",
       "SPECSDIM= 'Angstrom'                                                            \n",
       "VOSEGT  = 'Spectrum'                                                            \n",
       "VOPUB   = 'ivo://asu.cas.cz/org'                                                \n",
       "DSSOURCE= 'pointed '                                                            \n",
       "CRETYPE = 'archival'                                                            \n",
       "FLUX_CAL= 'UNCALIBRATED'                                                        \n",
       "SPEC_CAL= 'ABSOLUTE'                                                            "
      ]
     },
     "execution_count": 6,
     "metadata": {},
     "output_type": "execute_result"
    }
   ],
   "source": [
    "hdulist[1].header"
   ]
  },
  {
   "cell_type": "markdown",
   "metadata": {},
   "source": [
    "### Data Units\n",
    "\n",
    "Note that the data unit is not required. The image pixels\n",
    "in primary array or an image extension may have one of\n",
    "5 supported data types:\n",
    "\n",
    "* 8-bit (unsigned) integer bytes\n",
    "* 16-bit (signed) integer bytes\n",
    "* 32-bit (signed) integer bytes\n",
    "* 32-bit single precision floating point real numbers\n",
    "* 64-bit double precision floating point real numbers\n",
    "\n",
    "The othe 2 standard extensions, ASCII tables and binary\n",
    "tables, contain tabular information organized into rows\n",
    "and columns. Binary tables are more compact and are faster\n",
    "to read and write then ASCII tables.\n",
    "\n",
    "All the entries within a column of a tables have the same\n",
    "datatype. The allowed data formats for an ASCII table\n",
    "column are: integer, signe and double precision floating\n",
    "point value, character string. Binary table also support\n",
    "logical, bit and complex data formats."
   ]
  },
  {
   "cell_type": "code",
   "execution_count": 7,
   "metadata": {},
   "outputs": [
    {
     "data": {
      "text/plain": [
       "FITS_rec([( 6282.14646518,  0.93619467), ( 6282.40315722,  0.93807934),\n",
       "       ( 6282.65984925,  0.92719424), ..., ( 6732.38429779,  1.00592277),\n",
       "       ( 6732.64098983,  1.00515453), ( 6732.89768187,  1.00283778)], \n",
       "      dtype=(numpy.record, [('spectral', '>f8'), ('flux', '>f8')]))"
      ]
     },
     "execution_count": 7,
     "metadata": {},
     "output_type": "execute_result"
    }
   ],
   "source": [
    "data = hdulist[1].data\n",
    "data"
   ]
  },
  {
   "cell_type": "code",
   "execution_count": 8,
   "metadata": {},
   "outputs": [
    {
     "data": {
      "text/plain": [
       "((1757,), (1757,))"
      ]
     },
     "execution_count": 8,
     "metadata": {},
     "output_type": "execute_result"
    }
   ],
   "source": [
    "flux = data.field('flux').astype(np.float32, order='C', copy=True)\n",
    "wave = data.field('spectral').astype(np.float32, order='C', copy=True)\n",
    "flux.shape, wave.shape"
   ]
  },
  {
   "cell_type": "code",
   "execution_count": 9,
   "metadata": {},
   "outputs": [
    {
     "data": {
      "image/png": "[encoded data removed]",
      "text/plain": [
       "<matplotlib.figure.Figure at 0x7ff196fa0b70>"
      ]
     },
     "metadata": {},
     "output_type": "display_data"
    }
   ],
   "source": [
    "plt.plot(wave, flux)\n",
    "plt.ylabel('flux')\n",
    "plt.xlabel('wavelength')\n",
    "plt.grid(True)"
   ]
  },
  {
   "cell_type": "markdown",
   "metadata": {},
   "source": [
    "## FITS parsing\n",
    "\n",
    "Parse interesting thing from FITS file:\n",
    "\n",
    "* wave\n",
    "* flux\n",
    "* date\n",
    "* ra\n",
    "* dec"
   ]
  },
  {
   "cell_type": "code",
   "execution_count": 10,
   "metadata": {},
   "outputs": [
    {
     "data": {
      "text/plain": [
       "('vi300015',\n",
       " {'date': '2012-10-05T19:48:50',\n",
       "  'dec': 38.85927777953746,\n",
       "  'flux': array([ 0.93619466,  0.93807936,  0.92719424, ...,  1.00592279,\n",
       "          1.00515449,  1.00283778], dtype=float32),\n",
       "  'ra': 0.005029165694650557,\n",
       "  'wave': array([ 6282.14648438,  6282.40332031,  6282.65966797, ...,  6732.38427734,\n",
       "          6732.64111328,  6732.89746094], dtype=float32)})"
      ]
     },
     "execution_count": 10,
     "metadata": {},
     "output_type": "execute_result"
    }
   ],
   "source": [
    "def parse_fits_id(path):\n",
    "    return os.path.splitext(os.path.split(path)[-1])[0]\n",
    "\n",
    "# http://astropy.readthedocs.io/en/latest/io/fits/appendix/faq.html#i-m-opening-many-fits-files-in-a-loop-and-getting-oserror-too-many-open-files\n",
    "def parse_fits(filename):\n",
    "    '''Parse normalized spectrum from fits file.'''\n",
    "    try:\n",
    "        with astropy.io.fits.open(filename, mmap=False) as hdulist:\n",
    "            data = hdulist[1].data\n",
    "            header = hdulist[1].header\n",
    "            wave = data['spectral'].astype(np.float32, order='C', copy=True)\n",
    "            flux = data['flux'].astype(np.float32, order='C', copy=True)\n",
    "            date = header['DATE']\n",
    "            ra = header['RA']\n",
    "            dec = header['DEC']\n",
    "    except IOError as e:\n",
    "        print(e, filename)\n",
    "        return None, None\n",
    "    return parse_fits_id(filename), {\n",
    "        'wave': wave,\n",
    "        'flux': flux,\n",
    "        'date': date,\n",
    "        'ra': ra,\n",
    "        'dec': dec,\n",
    "    }   \n",
    "\n",
    "parse_fits(random_fits)"
   ]
  },
  {
   "cell_type": "code",
   "execution_count": 11,
   "metadata": {},
   "outputs": [],
   "source": [
    "H_ALPHA = 6562.8\n",
    "\n",
    "def in_range(start, stop, val=H_ALPHA):\n",
    "    '''Check if val is in range [start, stop]'''\n",
    "    return start <= val <= stop\n",
    "\n",
    "def in_wavelen(wavelens, val=H_ALPHA):\n",
    "    '''Check if val is somewhere in-between wavelens\n",
    "    array start and end.'''\n",
    "    return wavelens is not None and in_range(wavelens[0], wavelens[-1], val)"
   ]
  },
  {
   "cell_type": "code",
   "execution_count": 12,
   "metadata": {
    "scrolled": true
   },
   "outputs": [
    {
     "data": {
      "text/plain": [
       "13335"
      ]
     },
     "execution_count": 12,
     "metadata": {},
     "output_type": "execute_result"
    }
   ],
   "source": [
    "# the data stucture is dict where a key is spectrum id\n",
    "# and a value is dict of wavelen and flux\n",
    "spectra = {\n",
    "    fits_id: data_dict\n",
    "    for fits_id, data_dict in map(parse_fits, fits_paths)\n",
    "    if in_wavelen(wave, H_ALPHA)\n",
    "}\n",
    "len(spectra)"
   ]
  },
  {
   "cell_type": "markdown",
   "metadata": {},
   "source": [
    "## Save to HDF5"
   ]
  },
  {
   "cell_type": "code",
   "execution_count": 13,
   "metadata": {},
   "outputs": [],
   "source": [
    "with h5py.File('data.hdf5', 'w') as f:\n",
    "    for ident, data in spectra.items():\n",
    "        wave = data['wave']\n",
    "        flux = data['flux']\n",
    "        group = 'spectra/' + ident\n",
    "        dset = f.create_dataset(group, (2, wave.shape[0]), dtype=wave.dtype)\n",
    "        dset[0, :] = wave\n",
    "        dset[1, :] = flux\n",
    "        dset.attrs['date'] = data['date']\n",
    "        dset.attrs['dec'] = data['dec']\n",
    "        dset.attrs['ra'] = data['ra']"
   ]
  }
 ],
 "metadata": {
  "kernelspec": {
   "display_name": "Python 3",
   "language": "python",
   "name": "python3"
  },
  "language_info": {
   "codemirror_mode": {
    "name": "ipython",
    "version": 3
   },
   "file_extension": ".py",
   "mimetype": "text/x-python",
   "name": "python",
   "nbconvert_exporter": "python",
   "pygments_lexer": "ipython3",
   "version": "3.4.2"
  }
 },
 "nbformat": 4,
 "nbformat_minor": 2
}
