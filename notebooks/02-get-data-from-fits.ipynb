{
 "cells": [
  {
   "cell_type": "markdown",
   "metadata": {
    "deletable": true,
    "editable": true
   },
   "source": [
    "# Raw Data\n",
    "\n",
    "Purpose of this notebook is to get the data to suitable\n",
    "data structure for preprocessing.\n",
    "\n",
    "The data were taken form antares server. Concretly,\n",
    "from the `/data/ccd700` directory."
   ]
  },
  {
   "cell_type": "markdown",
   "metadata": {
    "deletable": true,
    "editable": true
   },
   "source": [
    "## FITS file format\n",
    "\n",
    "https://fits.gsfc.nasa.gov/fits_primer.html\n",
    "\n",
    "Flexible Image Transport System is data format used within\n",
    "astronomy for transporting, analyzing, archiving scientific\n",
    "data files. It is design to store data sets consisting of\n",
    "multidimensiional arrays and two dimensional tables."
   ]
  },
  {
   "cell_type": "code",
   "execution_count": 1,
   "metadata": {
    "collapsed": true,
    "deletable": true,
    "editable": true
   },
   "outputs": [],
   "source": [
    "import os\n",
    "import glob\n",
    "import random\n",
    "import fnmatch\n",
    "import h5py\n",
    "import astropy.io.fits\n",
    "import matplotlib.pyplot as plt\n",
    "%matplotlib inline"
   ]
  },
  {
   "cell_type": "code",
   "execution_count": 2,
   "metadata": {
    "collapsed": false,
    "deletable": true,
    "editable": true
   },
   "outputs": [
    {
     "data": {
      "text/plain": [
       "17056"
      ]
     },
     "execution_count": 2,
     "metadata": {},
     "output_type": "execute_result"
    }
   ],
   "source": [
    "# find the normalized spectra in data_path directory\n",
    "# normalized spectra filenames end with _norm.fit\n",
    "# add all filenames to the list fits_paths\n",
    "data_path = '/data/ccd700'\n",
    "fits_paths = []\n",
    "for root, dirname, filenames in os.walk(data_path):\n",
    "    for filename in fnmatch.filter(filenames, '*_norm.fit'):\n",
    "        fits_paths.append(root + '/' + filename)\n",
    "len(fits_paths)"
   ]
  },
  {
   "cell_type": "code",
   "execution_count": 3,
   "metadata": {
    "collapsed": false,
    "deletable": true,
    "editable": true
   },
   "outputs": [
    {
     "data": {
      "text/plain": [
       "'/data/ccd700/hip98325/5327-5801/a201406200014_norm.fit'"
      ]
     },
     "execution_count": 3,
     "metadata": {},
     "output_type": "execute_result"
    }
   ],
   "source": [
    "# pick random fits\n",
    "random_fits = random.choice(fits_paths)\n",
    "random_fits"
   ]
  },
  {
   "cell_type": "markdown",
   "metadata": {
    "deletable": true,
    "editable": true
   },
   "source": [
    "### HDUs\n",
    "\n",
    "A FITS file is comprised of segmets called Header/Data\n",
    "Units (HDUs). The first HDU is called the 'Primary HDU'.\n",
    "The primary data array can contain a 1-999 dimensional\n",
    "array of numbers. A typical primary array could contain\n",
    "a 1 dimensional **spectrum**, a 2 dimensional image,\n",
    "a 3 dimensional data cube.\n",
    "\n",
    "Any number of additional HDUs may follow the primary array.\n",
    "These HDUs are referred as 'extensions'. There are three\n",
    "types of standart extensions currently defined:\n",
    "\n",
    "1. Image Extension (`XTENSION = 'IMAGE'`)\n",
    "2. ASCII Table Extension (`XTENSION = 'TABLE'`)\n",
    "3. Binary Table Extension (`XTENSION = 'BINTABLE'`)"
   ]
  },
  {
   "cell_type": "code",
   "execution_count": 4,
   "metadata": {
    "collapsed": false,
    "deletable": true,
    "editable": true
   },
   "outputs": [
    {
     "name": "stdout",
     "output_type": "stream",
     "text": [
      "Filename: /data/ccd700/hip98325/5327-5801/a201406200014_norm.fit\n",
      "No.    Name         Type      Cards   Dimensions   Format\n",
      "  0  PRIMARY     PrimaryHDU     105   ()      \n",
      "  1              BinTableHDU     19   2047R x 2C   [D, D]   \n"
     ]
    }
   ],
   "source": [
    "# open file with astropy\n",
    "hdulist = astropy.io.fits.open(random_fits)\n",
    "# display info about the HDUs\n",
    "hdulist.info()"
   ]
  },
  {
   "cell_type": "markdown",
   "metadata": {
    "deletable": true,
    "editable": true
   },
   "source": [
    "### Header Units\n",
    "\n",
    "Every HDU consists of an ASCII formatted 'Header Unit' and\n",
    "'Data Unit'.\n",
    "\n",
    "Each header unit contains a sequence of fixed-length 80\n",
    "character long keyword record which have form:\n",
    "\n",
    "    KEYNAME = value / comment string\n",
    "\n",
    "Non-printing ASCII character such as tabs,\n",
    "carriage-returns, line-feeds are not allowed anywhere in\n",
    "the header unit."
   ]
  },
  {
   "cell_type": "code",
   "execution_count": 5,
   "metadata": {
    "collapsed": false,
    "deletable": true,
    "editable": true,
    "scrolled": true
   },
   "outputs": [
    {
     "data": {
      "text/plain": [
       "SIMPLE  =                    T / Fits standard                                  \n",
       "BITPIX  =                    8 / Bits per pixel                                 \n",
       "NAXIS   =                    0 / Number of axes                                 \n",
       "EXTEND  =                    T / File may contain extensions                    \n",
       "ORIGIN  = 'NOAO-IRAF FITS Image Kernel July 2003' / FITS file originator        \n",
       "DATE    = '2014-06-21T20:11:46' / Date FITS file was generated                  \n",
       "IRAF-TLM= '2014-06-21T20:11:46' / Time of last modification                     \n",
       "OBJECT  = 'HIP 98325'          / Name of the object observed                    \n",
       "COMMENT   FITS (Flexible Image Transport System) format is defined in 'Astronomy\n",
       "COMMENT   and Astrophysics', volume 376, page 359; bibcode: 2001A&A...376..359H \n",
       "OBSERVAT= 'ONDREJOV'           / Name of observatory (IRAF style)               \n",
       "LATITUDE=             49.91056 / Telescope latitude  (degrees), +49:54:38.0     \n",
       "LONGITUD=             14.78361 / Telescope longitud  (degrees), +14:47:01.0     \n",
       "HEIGHT  =                  528 / Height above sea level [m].                    \n",
       "TELESCOP= 'ZEISS-2m'           / 2m Ondrejov observatory telescope              \n",
       "TELSYST = 'COUDE   '           / Telescope setup - COUDE or CASSegrain          \n",
       "INSTRUME= 'COUDE700'           / Coude echelle spectrograph                     \n",
       "DETECTOR= 'PyLoN 2048x512BX'   / Name of the detector                           \n",
       "CHIPID  = 'E2V 42-10 BX'       / Name of CCD chip                               \n",
       "BUNIT   = 'ADU     '           / Unit of the array of image data                \n",
       "PREFLASH=                    0 / Length of preflash in seconds                  \n",
       "CCDXSIZE=                 2048 / X Size in pixels of digitised frame            \n",
       "CCDYSIZE=                  512 / Y Size in pixels of digitised frame            \n",
       "CCDXPIXE=                 13.5 / Size in microns of the pixels, in X            \n",
       "CCDYPIXE=                 13.5 / Size in microns of the pixels, in Y            \n",
       "GRATNAME= '3       '           / Grating name - ID                              \n",
       "SLITTYPE= 'BLADE   '           / Type of slit - blade or image slicers          \n",
       "AUTOGUID= 'NO      '           / Status of autoguider system                    \n",
       "SLITWID =                  0.2 / Slit width in mm                               \n",
       "COLIMAT = 'open    '           / Collimator mask status                         \n",
       "TLE-TRCS= '0       '           / Correction Set                                 \n",
       "TLE-TRGV= '9.7 27.7'           / Guiding Value                                  \n",
       "TLE-TRHD= '-37.8771 31.0725'   / Hour and Declination Axis                      \n",
       "TLE-TRRD= '195837.980 +30590'  / Right ascension and Declination                \n",
       "TLE-TRUS= '0.0000 0.0000'      / User Speed                                     \n",
       "SGH-MCO = 'coude   '           / Mirror Coude Oes                               \n",
       "SGH-MSC = 'star    '           / Mirror Star Calibration                        \n",
       "SGH-CPA = 'in      '           / Correction plate 700                           \n",
       "SGH-CPB = 'out     '           / Correction plate 400                           \n",
       "TM-DIFF =                   -2 / T1403303519 - P1403303521                      \n",
       "IMAGETYP= 'object  '           / Type of observation, eg. FLAT                  \n",
       "OBSERVER= 'Kricek, Sloup'      / Observers                                      \n",
       "READSPD = '50kHz   '                                                            \n",
       "FILENAME= 'a201406200014.fit'                                                   \n",
       "CAMFOCUS=                5000. / Camera focus position                          \n",
       "SPECTEMP=                 21.7 / 17864                                          \n",
       "SPECFILT=                    1 / Spectral filter                                \n",
       "TM_START=                81120 / 22:32:00, 1403303520                           \n",
       "UT      = '22:32:00'           / UTC of  start of observation                   \n",
       "EPOCH   =                2000. / Same as EQUINOX - for back compat              \n",
       "EQUINOX =                2000. / Equinox of RA and DEC                          \n",
       "DATE-OBS= '2014-06-20'         / UTC date start of observation                  \n",
       "TM_END  =                82821 / 23:00:21, 1403305221                           \n",
       "EXPTIME =                 1701 / Length of observation excluding pauses         \n",
       "DARKTIME=                 1701 / Length of observation including pauses         \n",
       "CCDTEMP =                 -115 / Detector temperature                           \n",
       "EXPVAL  =             0.637535 / Exposure value in photon counts [Mcounts]      \n",
       "GRATANG =                27.88 / 27:53                                          \n",
       "GRATPOS =                 6943 / Grating angle in increments                    \n",
       "DICHMIR =                    2 / Dichroic mirror number                         \n",
       "FLATTYPE= 'PROJECT '           / Flat type (Projector/Dome)                     \n",
       "COMPLAMP= 'ThAr-BS/15mA'       / Comparison arc setup                           \n",
       "RA      = '19:58:37.980'       / 19.977217                                      \n",
       "DEC     = '+30:59:01.10'       / 30.983639                                      \n",
       "ST      = '17:27:20'           / Local sidereal time at start of observation    \n",
       "TELFOCUS=                17.98 / Telescope focus (milimeters)                   \n",
       "DOMEAZ  =                92.43 / Mean dome azimuth during observation           \n",
       "AIRPRESS=               952.95 / Atmospheric preasure in (hPa)                  \n",
       "AIRHUMEX=                96.96 / Air humidity outside the dome                  \n",
       "OUTTEMP =                10.01 / Temperature outside of the dome                \n",
       "DOMETEMP=                13.57 / Temperature inside the dome                    \n",
       "GAINM   = 'high    '           / Gain mode                                      \n",
       "CHECKSUM= 'Y3emc1bjZ1bja1bj'   / HDU checksum updated 2014-08-21T17:49:18       \n",
       "DATASUM = '3243037136'         / data unit checksum updated 2014-08-21T17:49:18 \n",
       "HISTORY = 'Cosmic rays cleaned with dcr program by W. Pych, CAMK & DDO, 2002'   \n",
       "WCSDIM  =                    1 /2                                               \n",
       "LTM1_1  =                   1.                                                  \n",
       "WAT0_001= 'system=equispec'                                                     \n",
       "WAT1_001= 'wtype=linear label=Wavelength units=angstroms'                       \n",
       "TRIM    = 'Jun 21 21:49 Trim data section is [2:2048,140:370]'                  \n",
       "ZEROCOR = 'Jun 21 21:49 Zero level correction image is Zero'                    \n",
       "FLATCOR = 'Jun 21 21:49 Flat field image is Flat6943.fit with scale=5257.065'   \n",
       "CCDSEC  = '[2:2048,140:370]'                                                    \n",
       "CCDPROC = 'Jun 21 21:49 CCD processing done'                                    \n",
       "JD      =     2456829.44873264                                                  \n",
       "LJD     =             2456829.                                                  \n",
       "AIRMASS =             1.177378                                                  \n",
       "UTMIDDLE= '22:46:10.5'                                                          \n",
       "BANDID1 = 'spectrum - background fit, weights variance, clean yes'              \n",
       "APNUM1  = '1 1 69.30 151.52'                                                    \n",
       "CTYPE1  = 'LINEAR  '                                                            \n",
       "CRVAL1  =     5328.77985708898                                                  \n",
       "CRPIX1  =                   1.                                                  \n",
       "CDELT1  =    0.231127999996301                                                  \n",
       "CD1_1   =    0.231127999996301                                                  \n",
       "DC-FLAG =                    0 /0                                               \n",
       "DCLOG1  = 'REFSPEC1 = ca201406200014a201406200012.ms'                           \n",
       "DISPCOR =                    0                                                  \n",
       "HJD     =     2456829.45151044                                                  \n",
       "VHELIO  =     12.8054692506119                                                  \n",
       "VLSR    =      30.978498545428                                                  \n",
       "VSUN    = '   20.    18.    30.  1900.'                                         \n",
       "                                                                                \n",
       "                                                                                \n",
       "                                                                                "
      ]
     },
     "execution_count": 5,
     "metadata": {},
     "output_type": "execute_result"
    }
   ],
   "source": [
    "hdulist[0].header"
   ]
  },
  {
   "cell_type": "code",
   "execution_count": 6,
   "metadata": {
    "collapsed": false,
    "deletable": true,
    "editable": true
   },
   "outputs": [
    {
     "data": {
      "text/plain": [
       "XTENSION= 'BINTABLE'           / binary table extension                         \n",
       "BITPIX  =                    8 / array data type                                \n",
       "NAXIS   =                    2 / number of array dimensions                     \n",
       "NAXIS1  =                   16 / length of dimension 1                          \n",
       "NAXIS2  =                 2047 / length of dimension 2                          \n",
       "PCOUNT  =                    0 / number of group parameters                     \n",
       "GCOUNT  =                    1 / number of groups                               \n",
       "TFIELDS =                    2 / number of table fields                         \n",
       "TTYPE1  = 'WAVE    '                                                            \n",
       "TFORM1  = 'D       '                                                            \n",
       "TUNIT1  = 'Angstrom'                                                            \n",
       "TTYPE2  = 'FLUX    '                                                            \n",
       "TFORM2  = 'D       '                                                            \n",
       "TUNIT2  = 'erg/cm^2/s/Angstrom'                                                 \n",
       "TUCD1   = 'em.wl   '                                                            \n",
       "TUTYP1  = 'spec:Data.SpectralAxis.Value'                                        \n",
       "TUCD2   = 'phot.fluxDens;em.wl'                                                 \n",
       "TUTYP2  = 'spec:Data.FluxAxis.Value'                                            \n",
       "DATALEN =                 2047 / Spectral axis length                           "
      ]
     },
     "execution_count": 6,
     "metadata": {},
     "output_type": "execute_result"
    }
   ],
   "source": [
    "hdulist[1].header"
   ]
  },
  {
   "cell_type": "markdown",
   "metadata": {
    "deletable": true,
    "editable": true
   },
   "source": [
    "### Data Units\n",
    "\n",
    "Note that the data unit is not required. The image pixels\n",
    "in primary array or an image extension may have one of\n",
    "5 supported data types:\n",
    "\n",
    "* 8-bit (unsigned) integer bytes\n",
    "* 16-bit (signed) integer bytes\n",
    "* 32-bit (signed) integer bytes\n",
    "* 32-bit single precision floating point real numbers\n",
    "* 64-bit double precision floating point real numbers\n",
    "\n",
    "The othe 2 standard extensions, ASCII tables and binary\n",
    "tables, contain tabular information organized into rows\n",
    "and columns. Binary tables are more compact and are faster\n",
    "to read and write then ASCII tables.\n",
    "\n",
    "All the entries within a column of a tables have the same\n",
    "datatype. The allowed data formats for an ASCII table\n",
    "column are: integer, signe and double precision floating\n",
    "point value, character string. Binary table also support\n",
    "logical, bit and complex data formats."
   ]
  },
  {
   "cell_type": "code",
   "execution_count": 7,
   "metadata": {
    "collapsed": false,
    "deletable": true,
    "editable": true
   },
   "outputs": [
    {
     "data": {
      "text/plain": [
       "FITS_rec([( 5328.77985709,  0.93197718), ( 5329.01098509,  1.01461605),\n",
       "       ( 5329.24211309,  1.00133308), ..., ( 5801.20548908,  1.01132422),\n",
       "       ( 5801.43661708,  1.02685221), ( 5801.66774508,  1.00027734)], \n",
       "      dtype=(numpy.record, [('WAVE', '>f8'), ('FLUX', '>f8')]))"
      ]
     },
     "execution_count": 7,
     "metadata": {},
     "output_type": "execute_result"
    }
   ],
   "source": [
    "data = hdulist[1].data\n",
    "data"
   ]
  },
  {
   "cell_type": "code",
   "execution_count": 8,
   "metadata": {
    "collapsed": false,
    "deletable": true,
    "editable": true
   },
   "outputs": [
    {
     "data": {
      "text/plain": [
       "((2047,), (2047,))"
      ]
     },
     "execution_count": 8,
     "metadata": {},
     "output_type": "execute_result"
    }
   ],
   "source": [
    "flux = data.field('FLUX')\n",
    "wave = data.field('WAVE')\n",
    "flux.shape, wave.shape"
   ]
  },
  {
   "cell_type": "markdown",
   "metadata": {
    "deletable": true,
    "editable": true
   },
   "source": [
    "The data can be ploted but it is missing correct\n",
    "wavelength. To get wavelenght we use the `astropy.wcs`\n",
    "module."
   ]
  },
  {
   "cell_type": "code",
   "execution_count": 9,
   "metadata": {
    "collapsed": false,
    "deletable": true,
    "editable": true
   },
   "outputs": [
    {
     "data": {
      "text/plain": [
       "<matplotlib.text.Text at 0x7f368bfa9320>"
      ]
     },
     "execution_count": 9,
     "metadata": {},
     "output_type": "execute_result"
    },
    {
     "data": {
      "image/png": "[encoded data removed]",
      "text/plain": [
       "<matplotlib.figure.Figure at 0x7f368c001ba8>"
      ]
     },
     "metadata": {},
     "output_type": "display_data"
    }
   ],
   "source": [
    "plt.plot(wave, flux)\n",
    "plt.ylabel('flux')\n",
    "plt.xlabel('wavelength')"
   ]
  },
  {
   "cell_type": "code",
   "execution_count": 10,
   "metadata": {
    "collapsed": false,
    "deletable": true,
    "editable": true
   },
   "outputs": [],
   "source": [
    "def parse_fits_id(path):\n",
    "    # path is /data/ccd700/fwcma/6260-6735/a201512070046_norm.fit\n",
    "    # filename is a201512070046_norm.fit\n",
    "    filename = os.path.split(path)[-1]\n",
    "    # return values is a201512070046\n",
    "    return filename.split('_')[0]\n",
    "\n",
    "# http://astropy.readthedocs.io/en/latest/io/fits/appendix/faq.html#i-m-opening-many-fits-files-in-a-loop-and-getting-oserror-too-many-open-files\n",
    "def parse_fits(filename):\n",
    "    '''Parse normalized spectrum from fits file.\n",
    "    Returns its id, wavelenght as np.array and\n",
    "    flux as np.array. The data has to be in the\n",
    "    second HDU an the flux and the wavelen need to\n",
    "    be indexable be FLUX and WAVE keywords.'''\n",
    "    try:\n",
    "        with astropy.io.fits.open(filename, mmap=False) as hdulist:\n",
    "            wave = hdulist[1].data['WAVE'].copy()\n",
    "            flux = hdulist[1].data['FLUX'].copy()\n",
    "    except IOError as e:\n",
    "        print(e, filename)\n",
    "        return None, None, None\n",
    "    return parse_fits_id(filename), wave, flux"
   ]
  },
  {
   "cell_type": "code",
   "execution_count": 11,
   "metadata": {
    "collapsed": false,
    "deletable": true,
    "editable": true
   },
   "outputs": [],
   "source": [
    "H_ALPHA = 6562.8\n",
    "\n",
    "def in_range(start, stop, val=H_ALPHA):\n",
    "    '''Check if val is in range [start, stop]'''\n",
    "    return start <= val <= stop\n",
    "\n",
    "def in_wavelen(wavelens, val=H_ALPHA):\n",
    "    '''Check if val is somewhere in-between wavelens\n",
    "    array start and end.'''\n",
    "    return wavelens != None and in_range(wavelens[0], wavelens[-1], val)"
   ]
  },
  {
   "cell_type": "code",
   "execution_count": 12,
   "metadata": {
    "collapsed": false,
    "deletable": true,
    "editable": true,
    "scrolled": true
   },
   "outputs": [
    {
     "name": "stderr",
     "output_type": "stream",
     "text": [
      "/home/podondra/bt-text/notebooks/venv/lib/python3.4/site-packages/ipykernel/__main__.py:10: FutureWarning: comparison to `None` will result in an elementwise object comparison in the future.\n",
      "WARNING: The following header keyword is invalid or follows an unrecognized non-standard convention:\n",
      "HISTORY1                                                                         [astropy.io.fits.card]\n",
      "WARNING: The following header keyword is invalid or follows an unrecognized non-standard convention:\n",
      "HISTORY2                                                                         [astropy.io.fits.card]\n"
     ]
    },
    {
     "name": "stdout",
     "output_type": "stream",
     "text": [
      "Empty or corrupt FITS file /data/ccd700/31peg/6255-6767/tg180041_norm.fit\n",
      "Empty or corrupt FITS file /data/ccd700/31peg/8390-8900/tg180031_norm.fit\n",
      "Empty or corrupt FITS file /data/ccd700/hd39478/6255-6767/tj300039_norm.fit\n"
     ]
    },
    {
     "data": {
      "text/plain": [
       "13345"
      ]
     },
     "execution_count": 12,
     "metadata": {},
     "output_type": "execute_result"
    }
   ],
   "source": [
    "# the data stucture is dict where a key is spectrum id\n",
    "# and a value is dict of wavelen and flux\n",
    "spectra = {\n",
    "    fits_id: {'wave': wave, 'flux': flux}\n",
    "    for fits_id, wave, flux in map(parse_fits, fits_paths)\n",
    "    if in_wavelen(wave, H_ALPHA)\n",
    "}\n",
    "len(spectra)"
   ]
  },
  {
   "cell_type": "markdown",
   "metadata": {
    "deletable": true,
    "editable": true
   },
   "source": [
    "## Save to HDF5"
   ]
  },
  {
   "cell_type": "code",
   "execution_count": 14,
   "metadata": {
    "collapsed": false,
    "deletable": true,
    "editable": true
   },
   "outputs": [],
   "source": [
    "with h5py.File('data.hdf5', 'w') as f:\n",
    "    for ident, data in spectra.items():\n",
    "        group = 'spectra/' + ident\n",
    "        wave = data['wave']\n",
    "        flux = data['flux']\n",
    "        dset = f.create_dataset(group, (wave.shape[0], 2), dtype=wave.dtype)\n",
    "        dset[:, 0], dset[:, 1] = wave, flux"
   ]
  }
 ],
 "metadata": {
  "kernelspec": {
   "display_name": "Python 3",
   "language": "python",
   "name": "python3"
  },
  "language_info": {
   "codemirror_mode": {
    "name": "ipython",
    "version": 3
   },
   "file_extension": ".py",
   "mimetype": "text/x-python",
   "name": "python",
   "nbconvert_exporter": "python",
   "pygments_lexer": "ipython3",
   "version": "3.4.2"
  }
 },
 "nbformat": 4,
 "nbformat_minor": 2
}
