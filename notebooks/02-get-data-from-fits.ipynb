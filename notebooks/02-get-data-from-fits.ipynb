{
 "cells": [
  {
   "cell_type": "markdown",
   "metadata": {
    "deletable": true,
    "editable": true
   },
   "source": [
    "# Raw Data\n",
    "\n",
    "Purpose of this notebook is to get the data to suitable\n",
    "data structure for preprocessing.\n",
    "\n",
    "The data were taken form antares server. Concretly,\n",
    "from the `/data/ccd700` directory."
   ]
  },
  {
   "cell_type": "markdown",
   "metadata": {
    "deletable": true,
    "editable": true
   },
   "source": [
    "## FITS file format\n",
    "\n",
    "https://fits.gsfc.nasa.gov/fits_primer.html\n",
    "\n",
    "Flexible Image Transport System is data format used within\n",
    "astronomy for transporting, analyzing, archiving scientific\n",
    "data files. It is design to store data sets consisting of\n",
    "multidimensiional arrays and two dimensional tables."
   ]
  },
  {
   "cell_type": "code",
   "execution_count": 1,
   "metadata": {
    "collapsed": true,
    "deletable": true,
    "editable": true
   },
   "outputs": [],
   "source": [
    "import os\n",
    "import glob\n",
    "import random\n",
    "import fnmatch\n",
    "import h5py\n",
    "import astropy.io.fits\n",
    "import matplotlib.pyplot as plt\n",
    "%matplotlib inline"
   ]
  },
  {
   "cell_type": "code",
   "execution_count": 2,
   "metadata": {
    "collapsed": false,
    "deletable": true,
    "editable": true
   },
   "outputs": [
    {
     "data": {
      "text/plain": [
       "17056"
      ]
     },
     "execution_count": 2,
     "metadata": {},
     "output_type": "execute_result"
    }
   ],
   "source": [
    "# find the normalized spectra in data_path directory\n",
    "# normalized spectra filenames end with _norm.fit\n",
    "# add all filenames to the list fits_paths\n",
    "data_path = '/data/ccd700'\n",
    "fits_paths = []\n",
    "for root, dirname, filenames in os.walk(data_path):\n",
    "    for filename in fnmatch.filter(filenames, '*_norm.fit'):\n",
    "        fits_paths.append(root + '/' + filename)\n",
    "len(fits_paths)"
   ]
  },
  {
   "cell_type": "code",
   "execution_count": 3,
   "metadata": {
    "collapsed": false,
    "deletable": true,
    "editable": true
   },
   "outputs": [
    {
     "data": {
      "text/plain": [
       "'/data/ccd700/rhoaur/6255-6767/kk160051_norm.fit'"
      ]
     },
     "execution_count": 3,
     "metadata": {},
     "output_type": "execute_result"
    }
   ],
   "source": [
    "# pick random fits\n",
    "random_fits = random.choice(fits_paths)\n",
    "random_fits"
   ]
  },
  {
   "cell_type": "markdown",
   "metadata": {
    "deletable": true,
    "editable": true
   },
   "source": [
    "### HDUs\n",
    "\n",
    "A FITS file is comprised of segmets called Header/Data\n",
    "Units (HDUs). The first HDU is called the 'Primary HDU'.\n",
    "The primary data array can contain a 1-999 dimensional\n",
    "array of numbers. A typical primary array could contain\n",
    "a 1 dimensional **spectrum**, a 2 dimensional image,\n",
    "a 3 dimensional data cube.\n",
    "\n",
    "Any number of additional HDUs may follow the primary array.\n",
    "These HDUs are referred as 'extensions'. There are three\n",
    "types of standart extensions currently defined:\n",
    "\n",
    "1. Image Extension (`XTENSION = 'IMAGE'`)\n",
    "2. ASCII Table Extension (`XTENSION = 'TABLE'`)\n",
    "3. Binary Table Extension (`XTENSION = 'BINTABLE'`)"
   ]
  },
  {
   "cell_type": "code",
   "execution_count": 4,
   "metadata": {
    "collapsed": false,
    "deletable": true,
    "editable": true
   },
   "outputs": [
    {
     "name": "stdout",
     "output_type": "stream",
     "text": [
      "Filename: /data/ccd700/rhoaur/6255-6767/kk160051_norm.fit\n",
      "No.    Name         Type      Cards   Dimensions   Format\n",
      "  0  PRIMARY     PrimaryHDU     141   ()      \n",
      "  1              BinTableHDU     19   1997R x 2C   [D, D]   \n"
     ]
    },
    {
     "name": "stderr",
     "output_type": "stream",
     "text": [
      "WARNING: The following header keyword is invalid or follows an unrecognized non-standard convention:\n",
      "HISTORY1                                                                         [astropy.io.fits.card]\n",
      "WARNING: The following header keyword is invalid or follows an unrecognized non-standard convention:\n",
      "HISTORY2                                                                         [astropy.io.fits.card]\n"
     ]
    }
   ],
   "source": [
    "# open file with astropy\n",
    "hdulist = astropy.io.fits.open(random_fits)\n",
    "# display info about the HDUs\n",
    "hdulist.info()"
   ]
  },
  {
   "cell_type": "markdown",
   "metadata": {
    "deletable": true,
    "editable": true
   },
   "source": [
    "### Header Units\n",
    "\n",
    "Every HDU consists of an ASCII formatted 'Header Unit' and\n",
    "'Data Unit'.\n",
    "\n",
    "Each header unit contains a sequence of fixed-length 80\n",
    "character long keyword record which have form:\n",
    "\n",
    "    KEYNAME = value / comment string\n",
    "\n",
    "Non-printing ASCII character such as tabs,\n",
    "carriage-returns, line-feeds are not allowed anywhere in\n",
    "the header unit."
   ]
  },
  {
   "cell_type": "code",
   "execution_count": 5,
   "metadata": {
    "collapsed": false,
    "deletable": true,
    "editable": true,
    "scrolled": true
   },
   "outputs": [
    {
     "name": "stderr",
     "output_type": "stream",
     "text": [
      "WARNING: VerifyWarning: Verification reported errors: [astropy.io.fits.verify]\n",
      "WARNING: VerifyWarning: Unfixable error: Illegal keyword name '!UTMIDDL' [astropy.io.fits.verify]\n",
      "WARNING: VerifyWarning: Note: astropy.io.fits uses zero-based indexing.\n",
      " [astropy.io.fits.verify]\n",
      "WARNING: VerifyWarning: Unfixable error: Illegal keyword name '!AOVERSC' [astropy.io.fits.verify]\n",
      "WARNING: VerifyWarning: Unfixable error: Illegal keyword name '!CCDSEC' [astropy.io.fits.verify]\n",
      "WARNING: VerifyWarning: Unfixable error: Illegal keyword name '!DATASEC' [astropy.io.fits.verify]\n",
      "WARNING: VerifyWarning: Unfixable error: Illegal keyword name '!ORIGSEC' [astropy.io.fits.verify]\n",
      "WARNING: VerifyWarning: Unfixable error: Illegal keyword name '!MJD-OBS' [astropy.io.fits.verify]\n",
      "WARNING: VerifyWarning: Unfixable error: Illegal keyword name '!JD' [astropy.io.fits.verify]\n"
     ]
    },
    {
     "data": {
      "text/plain": [
       "SIMPLE  =                    T / Fits standard                                  \n",
       "BITPIX  =                    8 / Bits per pixel                                 \n",
       "NAXIS   =                    0 / Number of axes                                 \n",
       "EXTEND  =                    T / File may contain extensions                    \n",
       "ORIGIN  = 'NOAO-IRAF FITS Image Kernel July 1999' / FITS file originator        \n",
       "IRAF-TLM= '19:10:25 (06/11/2003)' / Time of last modification                   \n",
       "OBJECT  = 'rho Aur '           / Title of observation                           \n",
       "DATE    = '2003-11-06T18:10:25'/ Date FITS file was generated                   \n",
       "SYSVER  = 'BIAS-headers'       / So lis  3 14:32:30 CET 2001                    \n",
       "OBSERVAT= 'ONDREJOV'           / Name of observatory (IRAF style)               \n",
       "LATITUDE=            49.910555 / Telescope latitude  (degrees), +49:54:38.0     \n",
       "LONGITUD=            14.783611 / Telescope longitud  (degrees), +14:47:01.0     \n",
       "HEIGHT  =                 0528 / Height above sea level [m].                    \n",
       "OBSERVER= 'Slechta, Sarounova' / Observers                                      \n",
       "IMAGETYP= 'object'             / Type of observation, eg. FLAT                  \n",
       "FILENAME= 'kk160051.fit'       / BIAS filename                                  \n",
       "TELESCOP= 'ZEISS-2m'           / 2m Ondrejov observatory telescope              \n",
       "TELSYST = 'COUDE'              / Telescope setup - COUDE or CASSegrain          \n",
       "EXPTIME =             3200.000 / Length of observation excluding pauses         \n",
       "DARKTIME=             3200.000 / Length of observation including pauses         \n",
       "EXPVAL  =                0.594 / Exposure value in photon counts [Mcounts]      \n",
       "DATE-OBS= '2001-11-17'         / UTC date start of observation                  \n",
       "TM_START=                12431 / 03:27:11                                       \n",
       "TM_END  =                15660 / 04:21:00                                       \n",
       "COMMENT =                      /                                                \n",
       "COMMENT1=                      /                                                \n",
       "UT      = '03:27:11'           / UTC of  start of observation                   \n",
       "!UTMIDDL=                      / UTC of middle of observation - effective       \n",
       "INSTRUME= 'COUDE700'           / Coude spectrograph setup - 1400/700mm focus    \n",
       "CAMERA  = 'BROR'               / Camera head name                               \n",
       "DETECTOR= 'SITe 2000x800'      / Name of the detector                           \n",
       "CHIPID  = 'SITe005 800x2000'   / Name of CCD chip                               \n",
       "BUNIT   = 'ADU'                / Unit of the array of image data                \n",
       "GAINM   = 'HIGH'               / Gain mode                                      \n",
       "AMPLM   = 'A '                 / Amplifier A,B or AB                            \n",
       "MPP     =                    T / Multiphase pinned mode (T/F)                   \n",
       "PREFLASH=                    0 / Length of preflash in seconds                  \n",
       "GAIN    =                 1.36 / Electrons per ADU                              \n",
       "READNOIS=                 9.81 / Readout noise in electrons per pix             \n",
       "CCDTEMP =               -133.7 / Detector temperature                           \n",
       "LN2TEMP =               -175.5 /                                                \n",
       "CCDXSIZE=                 2030 / X Size in pixels of digitised frame            \n",
       "CCDYSIZE=                  800 / Y Size in pixels of digitised frame            \n",
       "CCDXIMSI=                 2030 / X Size of useful imaging area                  \n",
       "CCDYIMSI=                  800 / Y Size of useful imaging area                  \n",
       "CCDXIMST=                    1 / X Start pixel of useful imaging area           \n",
       "CCDYIMST=                    1 / Y Start pixel of useful imaging area           \n",
       "CCDXPIXE=                   15 / Size in microns of the pixels, in X            \n",
       "CCDYPIXE=                   15 / Size in microns of the pixels, in Y            \n",
       "CCDXBIN =                    1 / Binning factor, in X                           \n",
       "CCDYBIN =                    1 / Binning factor, in Y                           \n",
       "XOVERSC =                    0 /                                                \n",
       "YOVERSC =                    0 /                                                \n",
       "!AOVERSC=                    0 /                                                \n",
       "!CCDSEC = '[00:0000,00:0000]'  / Orientation to full frame                      \n",
       "!DATASEC= '[00:0000,00:0000]'  / Image portion of frame                         \n",
       "!ORIGSEC= '[00:0000,00:0000]'  / Original size full frame                       \n",
       "CCDSUM  = '1 1'                / CCD binning in both axes                       \n",
       "GRATNAME= '3'                  / Grating name - ID                              \n",
       "GRATANG =                30.25 / 30:15                                          \n",
       "GRATPOS =                10891 / Grating angle in increments                    \n",
       "GRATCWAV=                      / Central Wavelength in A                        \n",
       "DICHMIR =                    1 / Dichroic mirror number                         \n",
       "SPECFILT=                    1 / Spectral filter                                \n",
       "SLITTYPE= 'BLADE'              / Type of slit - blade or image slicers          \n",
       "SLITWID =                 0.20 / Slit width in mm                               \n",
       "SLITHEIG=                 17.0 / Slit hight in mm                               \n",
       "COLIMAT = 'OPEN'               / Collimator mask status                         \n",
       "CAMFOCUS=                      / Camera focus position                          \n",
       "FLATTYPE= 'PROJECT'            / Flat type (Projector/Dome)                     \n",
       "COMPLAMP= 'ThArHK4/15mA'       / Comparison arc setup                           \n",
       "COMPMIDA=                      / CCD line at the middle of comp aperture        \n",
       "SEEING  =                      / Estimate of FWHM of seeing disk in arcsec      \n",
       "AUTOGUID= 'NO'                 / Status of autoguider system                    \n",
       "COMMENT3=                      /                                                \n",
       "HISTORY1                                                                        \n",
       "RA      = '5:21:57.4'          / 5.365944                                       \n",
       "DEC     = '41:47:53.9'         / 41.798306                                      \n",
       "EQUINOX =          2001.876099 / Equinox of RA and DEC                          \n",
       "EPOCH   =          2001.876099 / Same as EQUINOX - for back compat.             \n",
       "!MJD-OBS=                      / Modified Julian Date of midtime of observation \n",
       "!JD     =                      / Julian Date of midtime of observation          \n",
       "ST      = '8:19:14.2'          / Local sidereal time at start of observation    \n",
       "AZIMUTH =                224.3 / Mean azimuth of observation (degrees)          \n",
       "ZD      =                 31.4 / Mean horizon-distance of observation (degrees) \n",
       "TELFOCUS=               -14.23 / Telescope focus (milimeters)                   \n",
       "DOMEAZ  =                 65.9 / Mean dome azimuth during observation           \n",
       "AIRPRESS=                  975 / Atmospheric preasure in (hPa)                  \n",
       "AIRHUMEX=                101.7 / Air humidity outside the dome                  \n",
       "AIRHUMIN=                 84.3 / Air humidity inside the dome                   \n",
       "OUTTEMP =                  3.4 / Temperature outside of the dome                \n",
       "DOMETEMP=                  1.1 / Temperature inside the dome                    \n",
       "SPECTEMP=                 25.2 / Temperature in spectrograph room               \n",
       "CAT-NAME=                      / Target input-catalogue name                    \n",
       "CAT-RA  =                      / Target Right Ascension                         \n",
       "CAT-DEC =                      / Target Declination                             \n",
       "CAT-EQUI=                      / Equinox of target coordinates                  \n",
       "CAT-EPOC=              2000.00 / Target epoch of proper motions                 \n",
       "HISTORY2                                                                        \n",
       "WCSDIM  =                    1                                                  \n",
       "LTM1_1  =                   1.                                                  \n",
       "WAT0_001= 'system=equispec'                                                     \n",
       "WAT1_001= 'wtype=linear label=Wavelength units=angstroms'                       \n",
       "TRIM    = 'Feb 21  0:12 Trim data section is [16:2012,430:570]'                 \n",
       "OVERSCAN= 'Feb 21  0:12 Overscan section is [6:12,1:800] with mean=622.8192'    \n",
       "ZEROCOR = 'Feb 21  0:12 Zero level correction image is Zero'                    \n",
       "FLATCOR = 'Feb 21  0:12 Flat field image is Flat10891.fit with scale=31433.37'  \n",
       "CCDSEC  = '[16:2012,430:570]'                                                   \n",
       "CCDPROC = 'Feb 21  0:12 CCD processing done'                                    \n",
       "JD      =     2452230.66239584                                                  \n",
       "LJD     =             2452230.                                                  \n",
       "AIRMASS =             1.233318                                                  \n",
       "UTMIDDLE= '3:53:51.0'                                                           \n",
       "BANDID1 = 'spectrum - background none, weights variance, clean yes'             \n",
       "APNUM1  = '1 1 11.57 61.13'                                                     \n",
       "CTYPE1  = 'LINEAR  '                                                            \n",
       "CRVAL1  =     6259.40874957859                                                  \n",
       "CRPIX1  =                   1.                                                  \n",
       "CDELT1  =     0.25666999522428                                                  \n",
       "CD1_1   =     0.25666999522428                                                  \n",
       "DC-FLAG =                    0                                                  \n",
       "DCLOG1  = 'REFSPEC1 = kk160051kk160048.ms 0.54194093'                           \n",
       "DCLOG2  = 'REFSPEC2 = kk160051kk160052.ms 0.4580591'                            \n",
       "DISPCOR =                    0                                                  \n",
       "HJD     =     2452230.66718464                                                  \n",
       "VHELIO  =     12.7718598631835                                                  \n",
       "VLSR    =     6.74192629473699                                                  \n",
       "VSUN    = '   20.    18.    30.  1900.'                                         \n",
       "                                                                                \n",
       "                                                                                \n",
       "                                                                                \n",
       "                                                                                \n",
       "                                                                                \n",
       "                                                                                \n",
       "                                                                                \n",
       "                                                                                \n",
       "                                                                                \n",
       "                                                                                \n",
       "                                                                                \n",
       "                                                                                \n",
       "                                                                                "
      ]
     },
     "execution_count": 5,
     "metadata": {},
     "output_type": "execute_result"
    }
   ],
   "source": [
    "hdulist[0].header"
   ]
  },
  {
   "cell_type": "code",
   "execution_count": 6,
   "metadata": {
    "collapsed": false,
    "deletable": true,
    "editable": true
   },
   "outputs": [
    {
     "data": {
      "text/plain": [
       "XTENSION= 'BINTABLE'           / binary table extension                         \n",
       "BITPIX  =                    8 / array data type                                \n",
       "NAXIS   =                    2 / number of array dimensions                     \n",
       "NAXIS1  =                   16 / length of dimension 1                          \n",
       "NAXIS2  =                 1997 / length of dimension 2                          \n",
       "PCOUNT  =                    0 / number of group parameters                     \n",
       "GCOUNT  =                    1 / number of groups                               \n",
       "TFIELDS =                    2 / number of table fields                         \n",
       "TTYPE1  = 'WAVE    '                                                            \n",
       "TFORM1  = 'D       '                                                            \n",
       "TUNIT1  = 'Angstrom'                                                            \n",
       "TTYPE2  = 'FLUX    '                                                            \n",
       "TFORM2  = 'D       '                                                            \n",
       "TUNIT2  = 'erg/cm^2/s/Angstrom'                                                 \n",
       "TUCD1   = 'em.wl   '                                                            \n",
       "TUTYP1  = 'spec:Data.SpectralAxis.Value'                                        \n",
       "TUCD2   = 'phot.fluxDens;em.wl'                                                 \n",
       "TUTYP2  = 'spec:Data.FluxAxis.Value'                                            \n",
       "DATALEN =                 1997 / Spectral axis length                           "
      ]
     },
     "execution_count": 6,
     "metadata": {},
     "output_type": "execute_result"
    }
   ],
   "source": [
    "hdulist[1].header"
   ]
  },
  {
   "cell_type": "markdown",
   "metadata": {
    "deletable": true,
    "editable": true
   },
   "source": [
    "### Data Units\n",
    "\n",
    "Note that the data unit is not required. The image pixels\n",
    "in primary array or an image extension may have one of\n",
    "5 supported data types:\n",
    "\n",
    "* 8-bit (unsigned) integer bytes\n",
    "* 16-bit (signed) integer bytes\n",
    "* 32-bit (signed) integer bytes\n",
    "* 32-bit single precision floating point real numbers\n",
    "* 64-bit double precision floating point real numbers\n",
    "\n",
    "The othe 2 standard extensions, ASCII tables and binary\n",
    "tables, contain tabular information organized into rows\n",
    "and columns. Binary tables are more compact and are faster\n",
    "to read and write then ASCII tables.\n",
    "\n",
    "All the entries within a column of a tables have the same\n",
    "datatype. The allowed data formats for an ASCII table\n",
    "column are: integer, signe and double precision floating\n",
    "point value, character string. Binary table also support\n",
    "logical, bit and complex data formats."
   ]
  },
  {
   "cell_type": "code",
   "execution_count": 7,
   "metadata": {
    "collapsed": false,
    "deletable": true,
    "editable": true
   },
   "outputs": [
    {
     "data": {
      "text/plain": [
       "FITS_rec([( 6259.40874958,  0.9973034 ), ( 6259.66541957,  0.99816532),\n",
       "       ( 6259.92208957,  0.99831462), ..., ( 6771.20872006,  0.99416363),\n",
       "       ( 6771.46539005,  0.99015802), ( 6771.72206005,  0.98145552)], \n",
       "      dtype=(numpy.record, [('WAVE', '>f8'), ('FLUX', '>f8')]))"
      ]
     },
     "execution_count": 7,
     "metadata": {},
     "output_type": "execute_result"
    }
   ],
   "source": [
    "data = hdulist[1].data\n",
    "data"
   ]
  },
  {
   "cell_type": "code",
   "execution_count": 8,
   "metadata": {
    "collapsed": false,
    "deletable": true,
    "editable": true
   },
   "outputs": [
    {
     "data": {
      "text/plain": [
       "((1997,), (1997,))"
      ]
     },
     "execution_count": 8,
     "metadata": {},
     "output_type": "execute_result"
    }
   ],
   "source": [
    "flux = data.field('FLUX')\n",
    "wave = data.field('WAVE')\n",
    "flux.shape, wave.shape"
   ]
  },
  {
   "cell_type": "markdown",
   "metadata": {
    "deletable": true,
    "editable": true
   },
   "source": [
    "The data can be ploted but it is missing correct\n",
    "wavelength. To get wavelenght we use the `astropy.wcs`\n",
    "module."
   ]
  },
  {
   "cell_type": "code",
   "execution_count": 9,
   "metadata": {
    "collapsed": false,
    "deletable": true,
    "editable": true
   },
   "outputs": [
    {
     "data": {
      "text/plain": [
       "<matplotlib.text.Text at 0x7f6d2c497b38>"
      ]
     },
     "execution_count": 9,
     "metadata": {},
     "output_type": "execute_result"
    },
    {
     "data": {
      "image/png": "[encoded data removed]",
      "text/plain": [
       "<matplotlib.figure.Figure at 0x7f6d2c4f8668>"
      ]
     },
     "metadata": {},
     "output_type": "display_data"
    }
   ],
   "source": [
    "plt.plot(wave, flux)\n",
    "plt.ylabel('flux')\n",
    "plt.xlabel('wavelength')"
   ]
  },
  {
   "cell_type": "code",
   "execution_count": 10,
   "metadata": {
    "collapsed": false,
    "deletable": true,
    "editable": true
   },
   "outputs": [],
   "source": [
    "def parse_fits_id(path):\n",
    "    # path is /data/ccd700/fwcma/6260-6735/a201512070046_norm.fit\n",
    "    # filename is a201512070046_norm.fit\n",
    "    filename = os.path.split(path)[-1]\n",
    "    # return values is a201512070046\n",
    "    return filename.split('_')[0]\n",
    "\n",
    "# http://astropy.readthedocs.io/en/latest/io/fits/appendix/faq.html#i-m-opening-many-fits-files-in-a-loop-and-getting-oserror-too-many-open-files\n",
    "def parse_fits(filename):\n",
    "    '''Parse normalized spectrum from fits file.\n",
    "    Returns its id, wavelenght as np.array and\n",
    "    flux as np.array. The data has to be in the\n",
    "    second HDU an the flux and the wavelen need to\n",
    "    be indexable be FLUX and WAVE keywords.'''\n",
    "    try:\n",
    "        with astropy.io.fits.open(filename, mmap=False) as hdulist:\n",
    "            wave = hdulist[1].data['WAVE'].copy()\n",
    "            flux = hdulist[1].data['FLUX'].copy()\n",
    "    except IOError as e:\n",
    "        print(e, filename)\n",
    "        return None, None, None\n",
    "    return parse_fits_id(filename), wave, flux"
   ]
  },
  {
   "cell_type": "code",
   "execution_count": 11,
   "metadata": {
    "collapsed": false,
    "deletable": true,
    "editable": true
   },
   "outputs": [],
   "source": [
    "H_ALPHA = 6562.8\n",
    "\n",
    "def in_range(start, stop, val=H_ALPHA):\n",
    "    '''Check if val is in range [start, stop]'''\n",
    "    return start <= val <= stop\n",
    "\n",
    "def in_wavelen(wavelens, val=H_ALPHA):\n",
    "    '''Check if val is somewhere in-between wavelens\n",
    "    array start and end.'''\n",
    "    return wavelens != None and in_range(wavelens[0], wavelens[-1], val)"
   ]
  },
  {
   "cell_type": "code",
   "execution_count": 12,
   "metadata": {
    "collapsed": false,
    "deletable": true,
    "editable": true,
    "scrolled": true
   },
   "outputs": [
    {
     "name": "stderr",
     "output_type": "stream",
     "text": [
      "/home/podondra/bt-text/notebooks/venv/lib/python3.4/site-packages/ipykernel/__main__.py:10: FutureWarning: comparison to `None` will result in an elementwise object comparison in the future.\n",
      "WARNING: The following header keyword is invalid or follows an unrecognized non-standard convention:\n",
      "HISTORY1                                                                         [astropy.io.fits.card]\n",
      "WARNING: The following header keyword is invalid or follows an unrecognized non-standard convention:\n",
      "HISTORY2                                                                         [astropy.io.fits.card]\n"
     ]
    },
    {
     "name": "stdout",
     "output_type": "stream",
     "text": [
      "Empty or corrupt FITS file /data/ccd700/31peg/6255-6767/tg180041_norm.fit\n",
      "Empty or corrupt FITS file /data/ccd700/31peg/8390-8900/tg180031_norm.fit\n",
      "Empty or corrupt FITS file /data/ccd700/hd39478/6255-6767/tj300039_norm.fit\n"
     ]
    },
    {
     "data": {
      "text/plain": [
       "13345"
      ]
     },
     "execution_count": 12,
     "metadata": {},
     "output_type": "execute_result"
    }
   ],
   "source": [
    "# the data stucture is dict where a key is spectrum id\n",
    "# and a value is dict of wavelen and flux\n",
    "spectra = {\n",
    "    fits_id: {'wave': wave, 'flux': flux}\n",
    "    for fits_id, wave, flux in map(parse_fits, fits_paths)\n",
    "    if in_wavelen(wave, H_ALPHA)\n",
    "}\n",
    "len(spectra)"
   ]
  },
  {
   "cell_type": "markdown",
   "metadata": {
    "deletable": true,
    "editable": true
   },
   "source": [
    "## Save to HDF5"
   ]
  },
  {
   "cell_type": "code",
   "execution_count": 13,
   "metadata": {
    "collapsed": false,
    "deletable": true,
    "editable": true
   },
   "outputs": [],
   "source": [
    "with h5py.File('data.hdf5', 'w') as f:\n",
    "    for ident, data in spectra.items():\n",
    "        for t in ['flux', 'wave']:\n",
    "            group = 'spectra/' + ident + '/' + t\n",
    "            dset = f.create_dataset(group, data[t].shape, dtype=data[t].dtype)\n",
    "            dset[...] = data[t]"
   ]
  }
 ],
 "metadata": {
  "kernelspec": {
   "display_name": "Python 3",
   "language": "python",
   "name": "python3"
  },
  "language_info": {
   "codemirror_mode": {
    "name": "ipython",
    "version": 3
   },
   "file_extension": ".py",
   "mimetype": "text/x-python",
   "name": "python",
   "nbconvert_exporter": "python",
   "pygments_lexer": "ipython3",
   "version": "3.4.2"
  }
 },
 "nbformat": 4,
 "nbformat_minor": 2
}
