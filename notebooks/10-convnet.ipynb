{
 "cells": [
  {
   "cell_type": "markdown",
   "metadata": {},
   "source": [
    "# Convolutional Neural Network\n",
    "\n",
    "In this notebook the ConvNet is trained on full Ondřejov dataset\n",
    "and then labels for LAMOST DR1 spectra are predicted."
   ]
  },
  {
   "cell_type": "code",
   "execution_count": null,
   "metadata": {
    "collapsed": true
   },
   "outputs": [],
   "source": [
    "%matplotlib inline"
   ]
  },
  {
   "cell_type": "code",
   "execution_count": null,
   "metadata": {
    "collapsed": true
   },
   "outputs": [],
   "source": [
    "import matplotlib.pyplot as plt\n",
    "import h5py\n",
    "import spectraldl.preprocessing as preprocessing\n",
    "import tensorflow.contrib.keras as keras\n",
    "import numpy as np\n",
    "import sklearn.metrics\n",
    "import spectraldl.lamost as lamost\n",
    "import spectraldl.plot as plot\n",
    "import astropy.io.fits as fits\n",
    "import random"
   ]
  },
  {
   "cell_type": "code",
   "execution_count": null,
   "metadata": {
    "collapsed": true
   },
   "outputs": [],
   "source": [
    "with h5py.File('data/data.hdf5') as f:\n",
    "    X_ = f['X'][...]\n",
    "    y_ = f['y'][...]"
   ]
  },
  {
   "cell_type": "markdown",
   "metadata": {},
   "source": [
    "## Add noise class"
   ]
  },
  {
   "cell_type": "code",
   "execution_count": null,
   "metadata": {},
   "outputs": [],
   "source": [
    "size = 1870\n",
    "X = np.zeros((size, 140), dtype=np.float64)\n",
    "y = np.zeros((size,), dtype=np.int8)"
   ]
  },
  {
   "cell_type": "code",
   "execution_count": null,
   "metadata": {},
   "outputs": [],
   "source": [
    "X[:X_.shape[0], :] = X_\n",
    "y[:X_.shape[0]] = y_"
   ]
  },
  {
   "cell_type": "code",
   "execution_count": null,
   "metadata": {},
   "outputs": [],
   "source": [
    "# only on LAMOST data if you skip cell above\n",
    "i = 0\n",
    "for cl, label in [('data/emission.csv', 0),\n",
    "                  ('data/absorption.csv', 1),\n",
    "                  ('data/double-peak.csv', 2),\n",
    "                  ('data/noise.csv', 3)]:\n",
    "    with open(cl, newline='') as f:\n",
    "        for path in f:\n",
    "            with fits.open(path.strip()) as hdulist:\n",
    "                fluxes = lamost.get_fluxes(hdulist)\n",
    "                waves = lamost.get_waves(hdulist)\n",
    "                X[i, :] = preprocessing.resample_spectrum(waves, fluxes)\n",
    "                y[i] = label\n",
    "                i += 1"
   ]
  },
  {
   "cell_type": "markdown",
   "metadata": {},
   "source": [
    "## Preprocessing"
   ]
  },
  {
   "cell_type": "code",
   "execution_count": null,
   "metadata": {},
   "outputs": [],
   "source": [
    "X = preprocessing.scale_samples(X)\n",
    "X, y = preprocessing.smote_over_sample(X, y, n_classes=4)\n",
    "y_oh = keras.utils.to_categorical(y, num_classes=4)\n",
    "X.shape"
   ]
  },
  {
   "cell_type": "code",
   "execution_count": null,
   "metadata": {},
   "outputs": [],
   "source": [
    "idx = random.sample(range(X.shape[0]), 8)\n",
    "\n",
    "fig, axs = plt.subplots(4, 2)\n",
    "for label, x, ax in zip(y[idx], X[idx], axs.ravel()):\n",
    "    ax.set_title('label: ' + str(label))\n",
    "    ax.plot(x.reshape(-1))\n",
    "fig.tight_layout()"
   ]
  },
  {
   "cell_type": "markdown",
   "metadata": {},
   "source": [
    "## Training"
   ]
  },
  {
   "cell_type": "code",
   "execution_count": null,
   "metadata": {
    "collapsed": true
   },
   "outputs": [],
   "source": [
    "HEIGHT = 1\n",
    "WIDTH = 140\n",
    "DEPTH = 1"
   ]
  },
  {
   "cell_type": "code",
   "execution_count": null,
   "metadata": {
    "collapsed": true
   },
   "outputs": [],
   "source": [
    "X = X.reshape(-1, HEIGHT, WIDTH, DEPTH)\n",
    "\n",
    "input_shape = X.shape[1:]\n",
    "model = keras.models.Sequential([\n",
    "    keras.layers.Conv2D(64, (1, 3), activation='relu', input_shape=input_shape),\n",
    "    keras.layers.Conv2D(64, (1, 3), activation='relu'),\n",
    "    keras.layers.MaxPooling2D(pool_size=(1, 2)),\n",
    "    keras.layers.Conv2D(128, (1, 3), activation='relu'),\n",
    "    keras.layers.Conv2D(128, (1, 3), activation='relu'),\n",
    "    keras.layers.MaxPooling2D(pool_size=(1, 2)),\n",
    "    keras.layers.Conv2D(256, (1, 3), activation='relu'),\n",
    "    keras.layers.Conv2D(256, (1, 3), activation='relu'),\n",
    "    keras.layers.MaxPooling2D(pool_size=(1, 2)),\n",
    "    keras.layers.Flatten(), \n",
    "    keras.layers.Dense(512, activation='relu'),\n",
    "    keras.layers.Dropout(0.5),\n",
    "    keras.layers.Dense(512, activation='relu'),\n",
    "    keras.layers.Dropout(0.5),\n",
    "    keras.layers.Dense(4, activation='softmax')\n",
    "])\n",
    "\n",
    "model.compile(\n",
    "    loss='categorical_crossentropy',\n",
    "    optimizer='adam',\n",
    "    metrics=['accuracy']\n",
    ")"
   ]
  },
  {
   "cell_type": "markdown",
   "metadata": {},
   "source": [
    "Keras model is saved in `data/convnet.hdf5` file."
   ]
  },
  {
   "cell_type": "code",
   "execution_count": null,
   "metadata": {
    "scrolled": true
   },
   "outputs": [],
   "source": [
    "%%time\n",
    "callback = keras.callbacks.EarlyStopping(\n",
    "    monitor='loss',\n",
    "    min_delta=10e-5,\n",
    "    patience=50,\n",
    "    verbose=2\n",
    ")\n",
    "hist = model.fit(\n",
    "    X, y_oh,\n",
    "    epochs=1000, batch_size=256, verbose=2,\n",
    "    callbacks=[callback]\n",
    ")\n",
    "plt.plot(hist.epoch, hist.history['loss'])\n",
    "\n",
    "# model.save('data/convnet.hdf5')\n",
    "# model = keras.models.load_model('data/convnet.hdf5')"
   ]
  },
  {
   "cell_type": "code",
   "execution_count": null,
   "metadata": {},
   "outputs": [],
   "source": [
    "y_pred = model.predict_classes(X)\n",
    "idx = y_pred != y\n",
    "np.count_nonzero(idx)"
   ]
  },
  {
   "cell_type": "code",
   "execution_count": null,
   "metadata": {
    "scrolled": false
   },
   "outputs": [],
   "source": [
    "# will took first 8 misclassified spectra because ax in zip will exceed first\n",
    "fig, axs = plt.subplots(4, 2)\n",
    "for true, pred, x, ax in zip(y[idx], y_pred[idx], X[idx], axs.ravel()):\n",
    "    ax.set_title('true: ' + str(true) + ' pred: ' + str(pred))\n",
    "    ax.plot(x.reshape(-1))\n",
    "fig.tight_layout()"
   ]
  },
  {
   "cell_type": "code",
   "execution_count": null,
   "metadata": {},
   "outputs": [],
   "source": [
    "cm = sklearn.metrics.confusion_matrix(y, y_pred)\n",
    "plot.plot_confusion_matrix(cm, ['emission', 'absorption', 'double-peak', 'noise'])"
   ]
  },
  {
   "cell_type": "markdown",
   "metadata": {},
   "source": [
    "## LAMOST Classification"
   ]
  },
  {
   "cell_type": "code",
   "execution_count": null,
   "metadata": {
    "scrolled": true
   },
   "outputs": [],
   "source": [
    "%%time\n",
    "with h5py.File('data/data.hdf5') as f:\n",
    "    X_lam = f['X_lam']\n",
    "    id_lam = f['id_lam']\n",
    "    \n",
    "    size = X_lam.shape[0]\n",
    "    labels = np.zeros((size, ), dtype=np.int8)\n",
    "    batch = 256\n",
    "    for start in range(0, size, batch):\n",
    "        end = start + batch if start + batch <= size else size        \n",
    "        X_tmp = preprocessing.scale_samples(X_lam[start:end])\n",
    "        X_tmp = X_tmp.reshape(-1, HEIGHT, WIDTH, DEPTH)\n",
    "        labels[start:end] = model.predict_classes(X_tmp, batch_size=X_tmp.shape[0], verbose=0)"
   ]
  },
  {
   "cell_type": "code",
   "execution_count": null,
   "metadata": {
    "scrolled": true
   },
   "outputs": [],
   "source": [
    "np.count_nonzero(labels == 0), np.count_nonzero(labels == 1), np.count_nonzero(labels == 2), np.count_nonzero(labels == 3)"
   ]
  },
  {
   "cell_type": "markdown",
   "metadata": {},
   "source": [
    "## Candidates Vizualization"
   ]
  },
  {
   "cell_type": "code",
   "execution_count": null,
   "metadata": {},
   "outputs": [],
   "source": [
    "cl = 2\n",
    "with h5py.File('data/data.hdf5') as f:\n",
    "    id_lam = iter(f['id_lam'][labels == cl])"
   ]
  },
  {
   "cell_type": "code",
   "execution_count": null,
   "metadata": {},
   "outputs": [],
   "source": [
    "path = next(id_lam)\n",
    "with fits.open(path) as hdulist:\n",
    "    fluxes = lamost.get_fluxes(hdulist)\n",
    "    waves = lamost.get_waves(hdulist)\n",
    "    idx = (waves > 6400) & (waves < 6700)\n",
    "    fig, ax = plt.subplots(figsize=(13, 5))\n",
    "    ax.scatter(waves[idx], fluxes[idx], marker='+')\n",
    "    ax.plot(waves[idx], fluxes[idx])\n",
    "    ax.axvline(x=6564.6, color='black', linestyle='dashed', label='H-alpha')\n",
    "    ax.grid()\n",
    "    ax.legend()\n",
    "    ax.set_xlabel('wavelength (Angstrom)')\n",
    "    ax.set_ylabel('flux')\n",
    "    ax.set_title(hdulist[0].header['FILENAME'])"
   ]
  },
  {
   "cell_type": "markdown",
   "metadata": {},
   "source": [
    "## Write Candidates to CSV"
   ]
  },
  {
   "cell_type": "code",
   "execution_count": null,
   "metadata": {
    "collapsed": true
   },
   "outputs": [],
   "source": [
    "# import csv\n",
    "# with h5py.File('data/data.hdf5') as f, open('data/candidates.csv', 'w', newline='') as ofile:\n",
    "#     id_lam = f['id_lam']\n",
    "#     writer = csv.writer(ofile)\n",
    "#     writer.writerows(filter(lambda x: x[1] == 0 or x[1] == 2, zip(id_lam, labels)))"
   ]
  }
 ],
 "metadata": {
  "kernelspec": {
   "display_name": "Python 3",
   "language": "python",
   "name": "python3"
  },
  "language_info": {
   "codemirror_mode": {
    "name": "ipython",
    "version": 3
   },
   "file_extension": ".py",
   "mimetype": "text/x-python",
   "name": "python",
   "nbconvert_exporter": "python",
   "pygments_lexer": "ipython3",
   "version": "3.5.2"
  }
 },
 "nbformat": 4,
 "nbformat_minor": 2
}
