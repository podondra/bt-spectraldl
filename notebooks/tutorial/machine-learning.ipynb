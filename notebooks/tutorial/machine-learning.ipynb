{
 "cells": [
  {
   "cell_type": "markdown",
   "metadata": {},
   "source": [
    "# Machine Learning\n",
    "\n",
    "There are two widely used definition. The first informal\n",
    "definition by Arthur Samuel:\n",
    "\n",
    "> the field of study that gives computers the ability\n",
    "> to learn without being explicitly programmed.\n",
    "\n",
    "The second is by Tom Mitchell:\n",
    "\n",
    "> A computer program is said to learn from experience $E$\n",
    "> with respect to to class of tasks $T$ and performance\n",
    "> measure $P$ if its performance at tasks in $T$ as\n",
    "> measured by $P$ improves with experience $E$.\n",
    "\n",
    "In general, machine learning can be divided into two class\n",
    "classifications:\n",
    "\n",
    "- supervised learning\n",
    "- unsupervised learning"
   ]
  },
  {
   "cell_type": "markdown",
   "metadata": {},
   "source": [
    "## Supervised Learning\n",
    "\n",
    "In supervised learning, there is a data set and its corresponding output values.\n",
    "\n",
    "This type of learning is categorized into:\n",
    "\n",
    "- regression problems\n",
    "- classification problems\n",
    "\n",
    "### Regression\n",
    "\n",
    "Regression is a problem where a continuous output is predicted. Meaning that regression maps input values to some continuous function.\n",
    "\n",
    "### Classification\n",
    "\n",
    "On the other hand, classification predicts results in a discrete ouput. It maps input values to discrete classes."
   ]
  },
  {
   "cell_type": "markdown",
   "metadata": {},
   "source": [
    "## Unsupervised Learning\n",
    "\n",
    "Unsupervised learning allows to solve problem where is no or little idea about the result. It can derive data set's stucture by clustering based on relationships in the data."
   ]
  }
 ],
 "metadata": {
  "kernelspec": {
   "display_name": "Python 3",
   "language": "python",
   "name": "python3"
  },
  "language_info": {
   "codemirror_mode": {
    "name": "ipython",
    "version": 3
   },
   "file_extension": ".py",
   "mimetype": "text/x-python",
   "name": "python",
   "nbconvert_exporter": "python",
   "pygments_lexer": "ipython3",
   "version": "3.4.2"
  }
 },
 "nbformat": 4,
 "nbformat_minor": 2
}
