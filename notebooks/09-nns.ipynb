{
 "cells": [
  {
   "cell_type": "markdown",
   "metadata": {},
   "source": [
    "# Neural Networks Design"
   ]
  },
  {
   "cell_type": "code",
   "execution_count": null,
   "metadata": {
    "collapsed": true
   },
   "outputs": [],
   "source": [
    "%matplotlib inline"
   ]
  },
  {
   "cell_type": "code",
   "execution_count": null,
   "metadata": {
    "collapsed": true
   },
   "outputs": [],
   "source": [
    "import itertools\n",
    "import matplotlib.pyplot as plt\n",
    "import h5py\n",
    "import numpy as np\n",
    "import sklearn.preprocessing\n",
    "import sklearn.metrics\n",
    "import imblearn.over_sampling\n",
    "import spectraldl.plot as plot\n",
    "import spectraldl.preprocessing as preprocessing\n",
    "import tensorflow.contrib.keras as keras"
   ]
  },
  {
   "cell_type": "code",
   "execution_count": null,
   "metadata": {
    "collapsed": true
   },
   "outputs": [],
   "source": [
    "with h5py.File('data/data.hdf5') as f:\n",
    "    X_tr_ = f['X_tr'][...]\n",
    "    y_tr_ = f['y_tr'][...]\n",
    "    X_val = f['X_val'][...]\n",
    "    y_val = f['y_val'][...]\n",
    "    X_te = f['X_te'][...]\n",
    "    y_te = f['y_te'][...]"
   ]
  },
  {
   "cell_type": "code",
   "execution_count": null,
   "metadata": {
    "collapsed": true
   },
   "outputs": [],
   "source": [
    "def plot_hist(hist):\n",
    "    fig, (ax1, ax2) = plt.subplots(2, 1)\n",
    "    ax1.plot(hist.epoch, hist.history['acc'], label='training data')\n",
    "    ax1.plot(hist.epoch, hist.history['val_acc'], label='validation data')\n",
    "    ax1.set_xlabel('epoch')\n",
    "    ax1.set_ylabel('accuracy')\n",
    "    ax1.legend()\n",
    "    ax2.plot(hist.epoch, hist.history['loss'])\n",
    "    ax2.set_xlabel('epoch')\n",
    "    ax2.set_ylabel('loss')\n",
    "    ax1.grid()\n",
    "    ax2.grid()\n",
    "    fig.tight_layout()\n",
    "\n",
    "def plot_cm(model, X, y):\n",
    "    y_out = model.predict_classes(X, verbose=0)\n",
    "    cm = sklearn.metrics.confusion_matrix(y, y_out)\n",
    "    classes = ['emission', 'absorption', 'double-peak']\n",
    "    plot.plot_confusion_matrix(cm, classes, normalize=True)\n",
    "\n",
    "def plot_confusion_matrix(\n",
    "        cm, classes, ax,\n",
    "        normalize=False, title='confusion matrix', cmap=plt.cm.Greys\n",
    "    ):\n",
    "    '''\n",
    "    This function plots the confusion matrix.\n",
    "    Normalization can be applied by setting `normalize=True`.\n",
    "    '''\n",
    "    if normalize:\n",
    "        cm = cm.astype(np.float) / cm.sum(axis=1)[:, np.newaxis]\n",
    "\n",
    "    ax.imshow(cm, interpolation='nearest', cmap=cmap)\n",
    "    ax.set_title(title)\n",
    "    #ax.colorbar()\n",
    "    tick_marks = np.arange(len(classes))\n",
    "    ax.set_xticks(tick_marks)\n",
    "    ax.set_xticklabels(classes, rotation=45)\n",
    "    ax.set_yticks(tick_marks)\n",
    "    ax.set_yticklabels(classes)\n",
    "\n",
    "    thresh = cm.max() / 2\n",
    "    for i, j in itertools.product(range(cm.shape[0]), range(cm.shape[1])):\n",
    "        ax.text(j, i, round(cm[i, j], 2),\n",
    "                 horizontalalignment='center',\n",
    "                 color='white' if cm[i, j] > thresh else 'black')\n",
    "\n",
    "    ax.set_ylabel('true label')\n",
    "    ax.set_xlabel('predicted label')\n",
    "\n",
    "classes = ['emission', 'absorption', 'double-peak']"
   ]
  },
  {
   "cell_type": "code",
   "execution_count": null,
   "metadata": {
    "collapsed": true
   },
   "outputs": [],
   "source": [
    "X_val = preprocessing.scale_samples(X_val)\n",
    "X_te = preprocessing.scale_samples(X_te)\n",
    "\n",
    "y_val_oh = keras.utils.to_categorical(y_val, num_classes=3)\n",
    "y_te_oh = keras.utils.to_categorical(y_te, num_classes=3)"
   ]
  },
  {
   "cell_type": "markdown",
   "metadata": {},
   "source": [
    "## Deep Neural Net"
   ]
  },
  {
   "cell_type": "code",
   "execution_count": null,
   "metadata": {
    "scrolled": true
   },
   "outputs": [],
   "source": [
    "# variables ending with _ (underscore) hold original data\n",
    "X_tr, y_tr = np.copy(X_tr_), np.copy(y_tr_)\n",
    "\n",
    "# preprocessing\n",
    "X_tr = preprocessing.scale_samples(X_tr)\n",
    "#X_tr, y_tr = preprocessing.smote_over_sample(X_tr, y_tr, n_classes=3)\n",
    "\n",
    "# oh stands fo one hot vector\n",
    "y_tr_oh = keras.utils.to_categorical(y_tr, num_classes=3)\n",
    "\n",
    "dnn_model = keras.models.Sequential()\n",
    "\n",
    "units = 512\n",
    "\n",
    "dnn_model.add(keras.layers.Dense(units=units, activation='relu', input_shape=(140, )))\n",
    "dnn_model.add(keras.layers.Dropout(0.5))\n",
    "\n",
    "dnn_model.add(keras.layers.Dense(units=units, activation='relu'))\n",
    "dnn_model.add(keras.layers.Dropout(0.5))\n",
    "\n",
    "dnn_model.add(keras.layers.Dense(units=units, activation='relu'))\n",
    "dnn_model.add(keras.layers.Dropout(0.5))\n",
    "\n",
    "dnn_model.add(keras.layers.Dense(units=units, activation='relu'))\n",
    "dnn_model.add(keras.layers.Dropout(0.5))\n",
    "\n",
    "dnn_model.add(keras.layers.Dense(units=units, activation='relu'))\n",
    "dnn_model.add(keras.layers.Dropout(0.5))\n",
    "    \n",
    "dnn_model.add(keras.layers.Dense(units=3, activation='softmax'))\n",
    "\n",
    "dnn_model.compile(\n",
    "    loss='categorical_crossentropy',\n",
    "    optimizer='adam',\n",
    "    metrics=['accuracy'],\n",
    ")\n",
    "\n",
    "# train the model\n",
    "dnn_hist = dnn_model.fit(\n",
    "    X_tr, y_tr_oh,\n",
    "    epochs=250, batch_size=256, verbose=2,\n",
    "    validation_data=(X_val, y_val_oh)\n",
    ")"
   ]
  },
  {
   "cell_type": "code",
   "execution_count": null,
   "metadata": {
    "scrolled": false
   },
   "outputs": [],
   "source": [
    "plot_hist(dnn_hist)"
   ]
  },
  {
   "cell_type": "code",
   "execution_count": null,
   "metadata": {
    "scrolled": false
   },
   "outputs": [],
   "source": [
    "fig, ax = plt.subplots(figsize=(4, 4))\n",
    "tmp_out = dnn_model.predict_classes(X_te, verbose=0)\n",
    "tmp_cm = sklearn.metrics.confusion_matrix(y_te, tmp_out)\n",
    "plot_confusion_matrix(tmp_cm, classes, ax, normalize=True)\n",
    "fig.tight_layout()"
   ]
  },
  {
   "cell_type": "markdown",
   "metadata": {},
   "source": [
    "## ConvNet"
   ]
  },
  {
   "cell_type": "code",
   "execution_count": null,
   "metadata": {
    "scrolled": true
   },
   "outputs": [],
   "source": [
    "# variables ending with _ (underscore) hold original data\n",
    "X_tr, y_tr = np.copy(X_tr_), np.copy(y_tr_)\n",
    "\n",
    "# preprocessing\n",
    "X_tr = preprocessing.scale_samples(X_tr)\n",
    "X_tr, y_tr = preprocessing.smote_over_sample(X_tr, y_tr, n_classes=3)\n",
    "\n",
    "# oh stands fo one hot vector\n",
    "y_tr_oh = keras.utils.to_categorical(y_tr, num_classes=3)\n",
    "\n",
    "HEIGHT = 1\n",
    "WIDTH = 140\n",
    "DEPTH = 1\n",
    "X_tr = X_tr.reshape(-1, HEIGHT, WIDTH, DEPTH)\n",
    "X_val = X_val.reshape(-1, HEIGHT, WIDTH, DEPTH)\n",
    "\n",
    "input_shape = X_tr.shape[1:]\n",
    "\n",
    "conv_model = keras.models.Sequential([\n",
    "    keras.layers.Conv2D(64, (1, 3), activation='relu', input_shape=input_shape),\n",
    "    keras.layers.Conv2D(64, (1, 3), activation='relu'),\n",
    "    keras.layers.MaxPooling2D(pool_size=(1, 2)),\n",
    "\n",
    "    keras.layers.Conv2D(128, (1, 3), activation='relu'),\n",
    "    keras.layers.Conv2D(128, (1, 3), activation='relu'),\n",
    "    keras.layers.MaxPooling2D(pool_size=(1, 2)),\n",
    "\n",
    "    keras.layers.Conv2D(256, (1, 3), activation='relu'),\n",
    "    keras.layers.Conv2D(256, (1, 3), activation='relu'),\n",
    "    keras.layers.MaxPooling2D(pool_size=(1, 2)),\n",
    "    \n",
    "    keras.layers.Flatten(),\n",
    "    \n",
    "    keras.layers.Dense(512, activation='relu'),\n",
    "    keras.layers.Dropout(0.5),\n",
    "    keras.layers.Dense(512, activation='relu'),\n",
    "    keras.layers.Dropout(0.5),\n",
    "    keras.layers.Dense(3, activation='softmax')\n",
    "])\n",
    "\n",
    "conv_model.compile(\n",
    "    loss='categorical_crossentropy',\n",
    "    optimizer='adam',\n",
    "    metrics=['accuracy']\n",
    ")\n",
    "\n",
    "# training\n",
    "conv_hist = conv_model.fit(\n",
    "    X_tr, y_tr_oh,\n",
    "    epochs=250, batch_size=256, verbose=2,\n",
    "    validation_data=(X_val, y_val_oh)\n",
    ")"
   ]
  },
  {
   "cell_type": "code",
   "execution_count": null,
   "metadata": {
    "scrolled": false
   },
   "outputs": [],
   "source": [
    "# vizualize traing resutls\n",
    "plot_hist(conv_hist)"
   ]
  },
  {
   "cell_type": "code",
   "execution_count": null,
   "metadata": {
    "scrolled": false
   },
   "outputs": [],
   "source": [
    "plot_cm(conv_model, X_te.reshape(-1, HEIGHT, WIDTH, DEPTH), y_te)"
   ]
  },
  {
   "cell_type": "code",
   "execution_count": null,
   "metadata": {
    "collapsed": true
   },
   "outputs": [],
   "source": [
    "dnn_out = dnn_model.predict_classes(X_te, verbose=0)\n",
    "dnn_cm = sklearn.metrics.confusion_matrix(y_te, dnn_out)\n",
    "\n",
    "conv_out = conv_model.predict_classes(X_te.reshape(-1, HEIGHT, WIDTH, DEPTH), verbose=0)\n",
    "conv_cm = sklearn.metrics.confusion_matrix(y_te, conv_out)"
   ]
  },
  {
   "cell_type": "code",
   "execution_count": null,
   "metadata": {},
   "outputs": [],
   "source": [
    "np.count_nonzero(y_te == dnn_out), np.count_nonzero(y_te == conv_out)"
   ]
  },
  {
   "cell_type": "code",
   "execution_count": null,
   "metadata": {
    "scrolled": false
   },
   "outputs": [],
   "source": [
    "fig, (ax1, ax2) = plt.subplots(1, 2)\n",
    "\n",
    "plot_confusion_matrix(dnn_cm, classes, ax1, title='feedforward network', normalize=True)\n",
    "cax = plot_confusion_matrix(conv_cm, classes, ax2, title='convolutional network', normalize=True)\n",
    "\n",
    "fig.tight_layout()"
   ]
  }
 ],
 "metadata": {
  "kernelspec": {
   "display_name": "Python 3",
   "language": "python",
   "name": "python3"
  },
  "language_info": {
   "codemirror_mode": {
    "name": "ipython",
    "version": 3
   },
   "file_extension": ".py",
   "mimetype": "text/x-python",
   "name": "python",
   "nbconvert_exporter": "python",
   "pygments_lexer": "ipython3",
   "version": "3.5.2"
  }
 },
 "nbformat": 4,
 "nbformat_minor": 2
}
