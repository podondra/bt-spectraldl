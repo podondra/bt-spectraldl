{
 "cells": [
  {
   "cell_type": "markdown",
   "metadata": {},
   "source": [
    "# Dataset\n",
    "\n",
    "This notebook creates the data matrices.\n",
    "\n",
    "## Ondřejov Datasets"
   ]
  },
  {
   "cell_type": "code",
   "execution_count": null,
   "metadata": {
    "collapsed": true
   },
   "outputs": [],
   "source": [
    "import h5py\n",
    "import numpy as np\n",
    "from sklearn.model_selection import train_test_split\n",
    "import spectraldl.preprocessing as preprocessing"
   ]
  },
  {
   "cell_type": "code",
   "execution_count": null,
   "metadata": {
    "collapsed": true
   },
   "outputs": [],
   "source": [
    "with h5py.File('data/data.hdf5') as f:\n",
    "    spectra = f['spectra']\n",
    "    \n",
    "    # create dataset matrix\n",
    "    X = np.zeros((len(spectra), 140), dtype=np.float64)\n",
    "    y = np.zeros((len(spectra), ), dtype=np.int8)\n",
    "    \n",
    "    for i, (name, data) in enumerate(f['spectra'].items()):\n",
    "        waves = data[0]\n",
    "        fluxes = data[1]\n",
    "        \n",
    "        # process waves and fluxes and store them\n",
    "        vac_waves = preprocessing.air2vacuum(waves)\n",
    "        conv_fluxes = preprocessing.convolve_spectrum(fluxes)\n",
    "        X[i, :] = preprocessing.resample_spectrum(vac_waves, conv_fluxes)\n",
    "        \n",
    "        # store label\n",
    "        y[i] = spectra[name].attrs['label']\n",
    "\n",
    "# remove unknown spectra (have label 2)\n",
    "X = X[y != 2]\n",
    "y = y[y != 2]\n",
    "# change label of double-peak spectra (from 3 to 2)\n",
    "y[y == 3] = 2\n",
    "\n",
    "np.unique(y, return_counts=True)"
   ]
  },
  {
   "cell_type": "code",
   "execution_count": null,
   "metadata": {
    "collapsed": true,
    "scrolled": true
   },
   "outputs": [],
   "source": [
    "# test and train split means 10% for test set\n",
    "X_tr, X_te, y_tr, y_te = train_test_split(X, y, test_size=0.1, stratify=y)\n",
    "\n",
    "# validation and train split means 20% for validation\n",
    "X_tr, X_val, y_tr, y_val = train_test_split(X_tr, y_tr, test_size=0.2, stratify=y_tr)\n",
    "\n",
    "train = np.unique(y_tr, return_counts=True)\n",
    "valid = np.unique(y_val, return_counts=True)\n",
    "test = np.unique(y_te, return_counts=True)\n",
    "\n",
    "train, valid, test"
   ]
  },
  {
   "cell_type": "code",
   "execution_count": null,
   "metadata": {
    "collapsed": true
   },
   "outputs": [],
   "source": [
    "with h5py.File('data/data.hdf5') as f:\n",
    "    f.create_dataset('X', X.shape, dtype=np.float64)[...] = X\n",
    "    f.create_dataset('y', y.shape, dtype=np.int8)[...] = y\n",
    "    f.create_dataset('X_tr', X_tr.shape, dtype=np.float64)[...] = X_tr\n",
    "    f.create_dataset('y_tr', y_tr.shape, dtype=np.int8)[...] = y_tr\n",
    "    f.create_dataset('X_val', X_val.shape, dtype=np.float64)[...] = X_val\n",
    "    f.create_dataset('y_val', y_val.shape, dtype=np.int8)[...] = y_val\n",
    "    f.create_dataset('X_te', X_te.shape, dtype=np.float64)[...] = X_te\n",
    "    f.create_dataset('y_te', y_te.shape, dtype=np.int8)[...] = y_te"
   ]
  },
  {
   "cell_type": "markdown",
   "metadata": {},
   "source": [
    "## LAMOST DR1 Matrix\n",
    "\n",
    "LAMOST data should be mounted into Docker container into `/lamost/`\n",
    "\n",
    "**Be paitient when running this code.\n",
    "It takes time.**\n",
    "Originally it was script."
   ]
  },
  {
   "cell_type": "code",
   "execution_count": null,
   "metadata": {
    "collapsed": true
   },
   "outputs": [],
   "source": [
    "import os\n",
    "import h5py\n",
    "import numpy as np\n",
    "import astropy.io.fits as fits\n",
    "import spectraldl.preprocessing as preprocessing\n",
    "import spectraldl.lamost as lamost\n",
    "\n",
    "\n",
    "def lam_files_generator():\n",
    "    '''Generator of lamost fits paths.'''\n",
    "    # Docker container '/lamost' directory is mounted\n",
    "    # from antares:/data/public/LAMOST-DR1/fits\n",
    "    for dirpath, _, filenames in os.walk('/lamost'):\n",
    "        for filename in filenames:\n",
    "            if filename.endswith('.fits'):\n",
    "                yield dirpath + '/' + filename\n",
    "\n",
    "def get_hdf5_datasets(hdf5):\n",
    "    # delete datasets if exist\n",
    "    try:\n",
    "        del hdf5['X_lam']\n",
    "        del hdf5['id_lam']\n",
    "    except KeyError:\n",
    "        pass\n",
    "\n",
    "    # see /data/public/LAMOST-DR1/count file \n",
    "    # $ find /data/public/LAMOST-DR1/fits/ -name '*.fits' | wc -l\n",
    "    size = 2202000\n",
    "\n",
    "    # fluxes matrix\n",
    "    X_lam = hdf5.create_dataset('X_lam', (size, 140), dtype=np.float64)\n",
    "\n",
    "    # create variable-len unicode datatype\n",
    "    str_dtype = h5py.special_dtype(vlen=str)\n",
    "    id_lam = hdf5.create_dataset('id_lam', (size, ), dtype=str_dtype)\n",
    "    \n",
    "    return X_lam, id_lam\n",
    "\n",
    "def create_lamost_matrix():\n",
    "    with h5py.File('data/data.hdf5') as hdf5:\n",
    "        # get the datasets\n",
    "        X_lam, id_lam = get_hdf5_datasets(hdf5)\n",
    "\n",
    "        for i, path in enumerate(lam_files_generator()):\n",
    "            print(path)\n",
    "\n",
    "            try:\n",
    "                with fits.open(path) as hdulist:\n",
    "                    fluxes = lamost.get_fluxes(hdulist)\n",
    "                    waves = lamost.get_waves(hdulist)\n",
    "                    X_lam[i, :] = preprocessing.resample_spectrum(waves, fluxes)\n",
    "                    id_lam[i] = path\n",
    "            # catch any excetion so that progress would not be lost\n",
    "            except Exception as e:\n",
    "                print(e)\n",
    "                continue"
   ]
  }
 ],
 "metadata": {
  "kernelspec": {
   "display_name": "Python 3",
   "language": "python",
   "name": "python3"
  },
  "language_info": {
   "codemirror_mode": {
    "name": "ipython",
    "version": 3
   },
   "file_extension": ".py",
   "mimetype": "text/x-python",
   "name": "python",
   "nbconvert_exporter": "python",
   "pygments_lexer": "ipython3",
   "version": "3.5.2"
  }
 },
 "nbformat": 4,
 "nbformat_minor": 2
}
