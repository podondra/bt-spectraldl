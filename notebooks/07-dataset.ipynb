{
 "cells": [
  {
   "cell_type": "markdown",
   "metadata": {},
   "source": [
    "# Dataset"
   ]
  },
  {
   "cell_type": "code",
   "execution_count": 1,
   "metadata": {},
   "outputs": [],
   "source": [
    "import h5py\n",
    "import numpy as np\n",
    "from sklearn.model_selection import train_test_split\n",
    "import spectraldl.preprocessing as preprocessing"
   ]
  },
  {
   "cell_type": "code",
   "execution_count": 2,
   "metadata": {},
   "outputs": [
    {
     "data": {
      "text/plain": [
       "(array([0, 1, 2], dtype=int8), array([5301, 6103, 1533]))"
      ]
     },
     "execution_count": 2,
     "metadata": {},
     "output_type": "execute_result"
    }
   ],
   "source": [
    "with h5py.File('data/data.hdf5') as f:\n",
    "    spectra = f['spectra']\n",
    "    \n",
    "    # create dataset matrix\n",
    "    X = np.zeros((len(spectra), 140), dtype=np.float64)\n",
    "    y = np.zeros((len(spectra), ), dtype=np.int8)\n",
    "    \n",
    "    for i, (name, data) in enumerate(f['spectra'].items()):\n",
    "        waves = data[0]\n",
    "        fluxes = data[1]\n",
    "        \n",
    "        # process waves and fluxes and store them\n",
    "        vac_waves = preprocessing.air2vacuum(waves)\n",
    "        conv_fluxes = preprocessing.convolve_spectrum(fluxes)\n",
    "        X[i, :] = preprocessing.resample_spectrum(vac_waves, conv_fluxes)\n",
    "        \n",
    "        # store label\n",
    "        y[i] = spectra[name].attrs['label']\n",
    "\n",
    "# remove unknown spectra (have label 2)\n",
    "X = X[y != 2]\n",
    "y = y[y != 2]\n",
    "# change label of double-peak spectra (from 3 to 2)\n",
    "y[y == 3] = 2\n",
    "\n",
    "np.unique(y, return_counts=True)"
   ]
  },
  {
   "cell_type": "code",
   "execution_count": 3,
   "metadata": {
    "scrolled": true
   },
   "outputs": [
    {
     "data": {
      "text/plain": [
       "((array([0, 1, 2], dtype=int8), array([3817, 4393, 1104])),\n",
       " (array([0, 1, 2], dtype=int8), array([ 954, 1099,  276])),\n",
       " (array([0, 1, 2], dtype=int8), array([530, 611, 153])))"
      ]
     },
     "execution_count": 3,
     "metadata": {},
     "output_type": "execute_result"
    }
   ],
   "source": [
    "# test and train split means 10% for test set\n",
    "X_tr, X_te, y_tr, y_te = train_test_split(X, y, test_size=0.1, stratify=y)\n",
    "\n",
    "# validation and train split means 20% for validation\n",
    "X_tr, X_val, y_tr, y_val = train_test_split(X_tr, y_tr, test_size=0.2, stratify=y_tr)\n",
    "\n",
    "train = np.unique(y_tr, return_counts=True)\n",
    "valid = np.unique(y_val, return_counts=True)\n",
    "test = np.unique(y_te, return_counts=True)\n",
    "\n",
    "train, valid, test"
   ]
  },
  {
   "cell_type": "code",
   "execution_count": 4,
   "metadata": {},
   "outputs": [],
   "source": [
    "with h5py.File('data/data.hdf5') as f:\n",
    "    f.create_dataset('X', X.shape, dtype=np.float64)[...] = X\n",
    "    f.create_dataset('y', y.shape, dtype=np.int8)[...] = y\n",
    "    f.create_dataset('X_tr', X_tr.shape, dtype=np.float64)[...] = X_tr\n",
    "    f.create_dataset('y_tr', y_tr.shape, dtype=np.int8)[...] = y_tr\n",
    "    f.create_dataset('X_val', X_val.shape, dtype=np.float64)[...] = X_val\n",
    "    f.create_dataset('y_val', y_val.shape, dtype=np.int8)[...] = y_val\n",
    "    f.create_dataset('X_te', X_te.shape, dtype=np.float64)[...] = X_te\n",
    "    f.create_dataset('y_te', y_te.shape, dtype=np.int8)[...] = y_te"
   ]
  }
 ],
 "metadata": {
  "kernelspec": {
   "display_name": "Python 3",
   "language": "python",
   "name": "python3"
  },
  "language_info": {
   "codemirror_mode": {
    "name": "ipython",
    "version": 3
   },
   "file_extension": ".py",
   "mimetype": "text/x-python",
   "name": "python",
   "nbconvert_exporter": "python",
   "pygments_lexer": "ipython3",
   "version": "3.5.2"
  }
 },
 "nbformat": 4,
 "nbformat_minor": 2
}
